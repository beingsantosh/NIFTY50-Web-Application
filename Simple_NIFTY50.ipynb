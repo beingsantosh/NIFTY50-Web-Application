{
  "nbformat": 4,
  "nbformat_minor": 0,
  "metadata": {
    "colab": {
      "name": "Simple NIFTY50.ipynb",
      "provenance": [],
      "mount_file_id": "1ujg-N5Y5JLCw_wxDySF1Rh90cQIHW4aG",
      "authorship_tag": "ABX9TyMmnL3VTD9runFfnkVdyoJJ",
      "include_colab_link": true
    },
    "kernelspec": {
      "name": "python3",
      "display_name": "Python 3"
    },
    "accelerator": "GPU"
  },
  "cells": [
    {
      "cell_type": "markdown",
      "metadata": {
        "id": "view-in-github",
        "colab_type": "text"
      },
      "source": [
        "<a href=\"https://colab.research.google.com/github/santoshkumarbvp/NIFTY50-Web-Application/blob/main/Simple_NIFTY50.ipynb\" target=\"_parent\"><img src=\"https://colab.research.google.com/assets/colab-badge.svg\" alt=\"Open In Colab\"/></a>"
      ]
    },
    {
      "cell_type": "code",
      "metadata": {
        "id": "fr4Y5T5Mkcy4"
      },
      "source": [
        "import time\r\n",
        "import pandas as pd\r\n",
        "import numpy as np\r\n",
        "import tensorflow as tf\r\n",
        "import re\r\n",
        "import nltk\r\n",
        "import ast\r\n",
        "from nltk.corpus import stopwords\r\n",
        "from sklearn.model_selection import train_test_split\r\n",
        "from sklearn.metrics import median_absolute_error as mae\r\n",
        "from sklearn.metrics import mean_squared_error as mse\r\n",
        "from sklearn.metrics import accuracy_score as acc\r\n",
        "import matplotlib.pyplot as plt\r\n",
        "\r\n",
        "from keras.models import Sequential\r\n",
        "from keras import initializers\r\n",
        "from keras.layers import Dropout, Activation, Embedding, Convolution1D, MaxPooling1D, Input, Dense,  \\\r\n",
        "                         BatchNormalization, Flatten, Reshape, Concatenate, add\r\n",
        "from keras.layers.recurrent import LSTM, GRU\r\n",
        "from keras.callbacks import Callback, ModelCheckpoint, EarlyStopping, ReduceLROnPlateau\r\n",
        "from keras.models import Model\r\n",
        "from keras.optimizers import Adam, SGD, RMSprop\r\n",
        "from keras import regularizers\r\n",
        "\r\n",
        "from tensorflow.keras.layers import concatenate, add\r\n",
        "\r\n",
        "from tensorflow.keras.utils import plot_model"
      ],
      "execution_count": 2,
      "outputs": []
    },
    {
      "cell_type": "code",
      "metadata": {
        "colab": {
          "base_uri": "https://localhost:8080/"
        },
        "id": "0q4LgENdDeki",
        "outputId": "89df50b0-7995-44f0-b926-54dcd01b9634"
      },
      "source": [
        "!nvidia-smi"
      ],
      "execution_count": 3,
      "outputs": [
        {
          "output_type": "stream",
          "text": [
            "Sat Feb 13 17:15:54 2021       \n",
            "+-----------------------------------------------------------------------------+\n",
            "| NVIDIA-SMI 460.39       Driver Version: 460.32.03    CUDA Version: 11.2     |\n",
            "|-------------------------------+----------------------+----------------------+\n",
            "| GPU  Name        Persistence-M| Bus-Id        Disp.A | Volatile Uncorr. ECC |\n",
            "| Fan  Temp  Perf  Pwr:Usage/Cap|         Memory-Usage | GPU-Util  Compute M. |\n",
            "|                               |                      |               MIG M. |\n",
            "|===============================+======================+======================|\n",
            "|   0  Tesla P100-PCIE...  Off  | 00000000:00:04.0 Off |                    0 |\n",
            "| N/A   35C    P0    26W / 250W |      0MiB / 16280MiB |      0%      Default |\n",
            "|                               |                      |                  N/A |\n",
            "+-------------------------------+----------------------+----------------------+\n",
            "                                                                               \n",
            "+-----------------------------------------------------------------------------+\n",
            "| Processes:                                                                  |\n",
            "|  GPU   GI   CI        PID   Type   Process name                  GPU Memory |\n",
            "|        ID   ID                                                   Usage      |\n",
            "|=============================================================================|\n",
            "|  No running processes found                                                 |\n",
            "+-----------------------------------------------------------------------------+\n"
          ],
          "name": "stdout"
        }
      ]
    },
    {
      "cell_type": "code",
      "metadata": {
        "colab": {
          "base_uri": "https://localhost:8080/",
          "height": 35
        },
        "id": "Z9ZS6kE7DlZi",
        "outputId": "38cb9d8a-61e4-436a-ce04-508fb847a571"
      },
      "source": [
        "tf.__version__"
      ],
      "execution_count": 4,
      "outputs": [
        {
          "output_type": "execute_result",
          "data": {
            "application/vnd.google.colaboratory.intrinsic+json": {
              "type": "string"
            },
            "text/plain": [
              "'2.4.1'"
            ]
          },
          "metadata": {
            "tags": []
          },
          "execution_count": 4
        }
      ]
    },
    {
      "cell_type": "code",
      "metadata": {
        "id": "xeVoDwHvDOHP"
      },
      "source": [
        "t1 = time.time()"
      ],
      "execution_count": 5,
      "outputs": []
    },
    {
      "cell_type": "code",
      "metadata": {
        "id": "stkTgEn6k2tV"
      },
      "source": [
        "df = pd.read_csv('/content/drive/MyDrive/Data/processed_data.csv')"
      ],
      "execution_count": 7,
      "outputs": []
    },
    {
      "cell_type": "code",
      "metadata": {
        "colab": {
          "base_uri": "https://localhost:8080/",
          "height": 195
        },
        "id": "mIp3lbHYk5ax",
        "outputId": "add2b746-5361-4c31-edbd-de6e73838707"
      },
      "source": [
        "df.head()"
      ],
      "execution_count": 8,
      "outputs": [
        {
          "output_type": "execute_result",
          "data": {
            "text/html": [
              "<div>\n",
              "<style scoped>\n",
              "    .dataframe tbody tr th:only-of-type {\n",
              "        vertical-align: middle;\n",
              "    }\n",
              "\n",
              "    .dataframe tbody tr th {\n",
              "        vertical-align: top;\n",
              "    }\n",
              "\n",
              "    .dataframe thead th {\n",
              "        text-align: right;\n",
              "    }\n",
              "</style>\n",
              "<table border=\"1\" class=\"dataframe\">\n",
              "  <thead>\n",
              "    <tr style=\"text-align: right;\">\n",
              "      <th></th>\n",
              "      <th>Unnamed: 0</th>\n",
              "      <th>Date</th>\n",
              "      <th>Open</th>\n",
              "      <th>Year</th>\n",
              "      <th>Month</th>\n",
              "      <th>Day</th>\n",
              "      <th>Headlines</th>\n",
              "      <th>Stock_var</th>\n",
              "    </tr>\n",
              "  </thead>\n",
              "  <tbody>\n",
              "    <tr>\n",
              "      <th>0</th>\n",
              "      <td>1</td>\n",
              "      <td>2014-01-02</td>\n",
              "      <td>6301.250000</td>\n",
              "      <td>2014</td>\n",
              "      <td>January</td>\n",
              "      <td>2</td>\n",
              "      <td>['Stricter energy norms to push up AC, fridge ...</td>\n",
              "      <td>NaN</td>\n",
              "    </tr>\n",
              "    <tr>\n",
              "      <th>1</th>\n",
              "      <td>2</td>\n",
              "      <td>2014-01-03</td>\n",
              "      <td>6194.549805</td>\n",
              "      <td>2014</td>\n",
              "      <td>January</td>\n",
              "      <td>3</td>\n",
              "      <td>['NEERI team to study mining impact', 'Jobs &amp; ...</td>\n",
              "      <td>-106.700195</td>\n",
              "    </tr>\n",
              "    <tr>\n",
              "      <th>2</th>\n",
              "      <td>3</td>\n",
              "      <td>2014-01-06</td>\n",
              "      <td>6220.850098</td>\n",
              "      <td>2014</td>\n",
              "      <td>January</td>\n",
              "      <td>6</td>\n",
              "      <td>['Teesta Setalvad, husband booked for usurping...</td>\n",
              "      <td>26.300293</td>\n",
              "    </tr>\n",
              "    <tr>\n",
              "      <th>3</th>\n",
              "      <td>4</td>\n",
              "      <td>2014-01-07</td>\n",
              "      <td>6203.899902</td>\n",
              "      <td>2014</td>\n",
              "      <td>January</td>\n",
              "      <td>7</td>\n",
              "      <td>['AAP government suspends 3 Delhi Jal Board of...</td>\n",
              "      <td>-16.950196</td>\n",
              "    </tr>\n",
              "    <tr>\n",
              "      <th>4</th>\n",
              "      <td>5</td>\n",
              "      <td>2014-01-08</td>\n",
              "      <td>6178.049805</td>\n",
              "      <td>2014</td>\n",
              "      <td>January</td>\n",
              "      <td>8</td>\n",
              "      <td>['Lok Sabha elections: No decision yet on quan...</td>\n",
              "      <td>-25.850097</td>\n",
              "    </tr>\n",
              "  </tbody>\n",
              "</table>\n",
              "</div>"
            ],
            "text/plain": [
              "   Unnamed: 0  ...   Stock_var\n",
              "0           1  ...         NaN\n",
              "1           2  ... -106.700195\n",
              "2           3  ...   26.300293\n",
              "3           4  ...  -16.950196\n",
              "4           5  ...  -25.850097\n",
              "\n",
              "[5 rows x 8 columns]"
            ]
          },
          "metadata": {
            "tags": []
          },
          "execution_count": 8
        }
      ]
    },
    {
      "cell_type": "code",
      "metadata": {
        "id": "O3ZtG3FYk_kT"
      },
      "source": [
        "df.dropna(inplace=True) # removing null rows"
      ],
      "execution_count": 9,
      "outputs": []
    },
    {
      "cell_type": "code",
      "metadata": {
        "id": "RqeG2Y0AxRkl"
      },
      "source": [
        "df.drop(columns=['Unnamed: 0'], inplace=True)"
      ],
      "execution_count": 10,
      "outputs": []
    },
    {
      "cell_type": "code",
      "metadata": {
        "colab": {
          "base_uri": "https://localhost:8080/",
          "height": 195
        },
        "id": "EyM1hWncxav-",
        "outputId": "8141ce8b-2500-4337-fb45-2400a9d15829"
      },
      "source": [
        "df.head()"
      ],
      "execution_count": 11,
      "outputs": [
        {
          "output_type": "execute_result",
          "data": {
            "text/html": [
              "<div>\n",
              "<style scoped>\n",
              "    .dataframe tbody tr th:only-of-type {\n",
              "        vertical-align: middle;\n",
              "    }\n",
              "\n",
              "    .dataframe tbody tr th {\n",
              "        vertical-align: top;\n",
              "    }\n",
              "\n",
              "    .dataframe thead th {\n",
              "        text-align: right;\n",
              "    }\n",
              "</style>\n",
              "<table border=\"1\" class=\"dataframe\">\n",
              "  <thead>\n",
              "    <tr style=\"text-align: right;\">\n",
              "      <th></th>\n",
              "      <th>Date</th>\n",
              "      <th>Open</th>\n",
              "      <th>Year</th>\n",
              "      <th>Month</th>\n",
              "      <th>Day</th>\n",
              "      <th>Headlines</th>\n",
              "      <th>Stock_var</th>\n",
              "    </tr>\n",
              "  </thead>\n",
              "  <tbody>\n",
              "    <tr>\n",
              "      <th>1</th>\n",
              "      <td>2014-01-03</td>\n",
              "      <td>6194.549805</td>\n",
              "      <td>2014</td>\n",
              "      <td>January</td>\n",
              "      <td>3</td>\n",
              "      <td>['NEERI team to study mining impact', 'Jobs &amp; ...</td>\n",
              "      <td>-106.700195</td>\n",
              "    </tr>\n",
              "    <tr>\n",
              "      <th>2</th>\n",
              "      <td>2014-01-06</td>\n",
              "      <td>6220.850098</td>\n",
              "      <td>2014</td>\n",
              "      <td>January</td>\n",
              "      <td>6</td>\n",
              "      <td>['Teesta Setalvad, husband booked for usurping...</td>\n",
              "      <td>26.300293</td>\n",
              "    </tr>\n",
              "    <tr>\n",
              "      <th>3</th>\n",
              "      <td>2014-01-07</td>\n",
              "      <td>6203.899902</td>\n",
              "      <td>2014</td>\n",
              "      <td>January</td>\n",
              "      <td>7</td>\n",
              "      <td>['AAP government suspends 3 Delhi Jal Board of...</td>\n",
              "      <td>-16.950196</td>\n",
              "    </tr>\n",
              "    <tr>\n",
              "      <th>4</th>\n",
              "      <td>2014-01-08</td>\n",
              "      <td>6178.049805</td>\n",
              "      <td>2014</td>\n",
              "      <td>January</td>\n",
              "      <td>8</td>\n",
              "      <td>['Lok Sabha elections: No decision yet on quan...</td>\n",
              "      <td>-25.850097</td>\n",
              "    </tr>\n",
              "    <tr>\n",
              "      <th>5</th>\n",
              "      <td>2014-01-09</td>\n",
              "      <td>6181.700195</td>\n",
              "      <td>2014</td>\n",
              "      <td>January</td>\n",
              "      <td>9</td>\n",
              "      <td>['AAP soon to clear its stand on national poli...</td>\n",
              "      <td>3.650390</td>\n",
              "    </tr>\n",
              "  </tbody>\n",
              "</table>\n",
              "</div>"
            ],
            "text/plain": [
              "         Date  ...   Stock_var\n",
              "1  2014-01-03  ... -106.700195\n",
              "2  2014-01-06  ...   26.300293\n",
              "3  2014-01-07  ...  -16.950196\n",
              "4  2014-01-08  ...  -25.850097\n",
              "5  2014-01-09  ...    3.650390\n",
              "\n",
              "[5 rows x 7 columns]"
            ]
          },
          "metadata": {
            "tags": []
          },
          "execution_count": 11
        }
      ]
    },
    {
      "cell_type": "code",
      "metadata": {
        "id": "HKujN5vYxgW5"
      },
      "source": [
        "df_news = df[['Date','Headlines']]"
      ],
      "execution_count": 12,
      "outputs": []
    },
    {
      "cell_type": "code",
      "metadata": {
        "id": "k0fiPohUxo3R"
      },
      "source": [
        "df_stock = df[['Date','Stock_var']]"
      ],
      "execution_count": 13,
      "outputs": []
    },
    {
      "cell_type": "code",
      "metadata": {
        "colab": {
          "base_uri": "https://localhost:8080/"
        },
        "id": "GKq52lZXxvQr",
        "outputId": "f59c303b-ffd7-4c98-f678-8e9bd7d1a9f1"
      },
      "source": [
        "df_news.shape, df_stock.shape"
      ],
      "execution_count": 14,
      "outputs": [
        {
          "output_type": "execute_result",
          "data": {
            "text/plain": [
              "((1711, 2), (1711, 2))"
            ]
          },
          "metadata": {
            "tags": []
          },
          "execution_count": 14
        }
      ]
    },
    {
      "cell_type": "code",
      "metadata": {
        "colab": {
          "base_uri": "https://localhost:8080/",
          "height": 195
        },
        "id": "fG9UBS_rzNpm",
        "outputId": "9fb20aa2-dafe-48d6-a7f5-a7ccadd9b8e5"
      },
      "source": [
        "df_stock.head()"
      ],
      "execution_count": 15,
      "outputs": [
        {
          "output_type": "execute_result",
          "data": {
            "text/html": [
              "<div>\n",
              "<style scoped>\n",
              "    .dataframe tbody tr th:only-of-type {\n",
              "        vertical-align: middle;\n",
              "    }\n",
              "\n",
              "    .dataframe tbody tr th {\n",
              "        vertical-align: top;\n",
              "    }\n",
              "\n",
              "    .dataframe thead th {\n",
              "        text-align: right;\n",
              "    }\n",
              "</style>\n",
              "<table border=\"1\" class=\"dataframe\">\n",
              "  <thead>\n",
              "    <tr style=\"text-align: right;\">\n",
              "      <th></th>\n",
              "      <th>Date</th>\n",
              "      <th>Stock_var</th>\n",
              "    </tr>\n",
              "  </thead>\n",
              "  <tbody>\n",
              "    <tr>\n",
              "      <th>1</th>\n",
              "      <td>2014-01-03</td>\n",
              "      <td>-106.700195</td>\n",
              "    </tr>\n",
              "    <tr>\n",
              "      <th>2</th>\n",
              "      <td>2014-01-06</td>\n",
              "      <td>26.300293</td>\n",
              "    </tr>\n",
              "    <tr>\n",
              "      <th>3</th>\n",
              "      <td>2014-01-07</td>\n",
              "      <td>-16.950196</td>\n",
              "    </tr>\n",
              "    <tr>\n",
              "      <th>4</th>\n",
              "      <td>2014-01-08</td>\n",
              "      <td>-25.850097</td>\n",
              "    </tr>\n",
              "    <tr>\n",
              "      <th>5</th>\n",
              "      <td>2014-01-09</td>\n",
              "      <td>3.650390</td>\n",
              "    </tr>\n",
              "  </tbody>\n",
              "</table>\n",
              "</div>"
            ],
            "text/plain": [
              "         Date   Stock_var\n",
              "1  2014-01-03 -106.700195\n",
              "2  2014-01-06   26.300293\n",
              "3  2014-01-07  -16.950196\n",
              "4  2014-01-08  -25.850097\n",
              "5  2014-01-09    3.650390"
            ]
          },
          "metadata": {
            "tags": []
          },
          "execution_count": 15
        }
      ]
    },
    {
      "cell_type": "code",
      "metadata": {
        "colab": {
          "base_uri": "https://localhost:8080/"
        },
        "id": "hykgrNEy0w8A",
        "outputId": "2946824c-e30a-453d-c607-45b540f093c9"
      },
      "source": [
        "df_news.Headlines = df_news.Headlines.map(ast.literal_eval)"
      ],
      "execution_count": 16,
      "outputs": [
        {
          "output_type": "stream",
          "text": [
            "/usr/local/lib/python3.6/dist-packages/pandas/core/generic.py:5170: SettingWithCopyWarning: \n",
            "A value is trying to be set on a copy of a slice from a DataFrame.\n",
            "Try using .loc[row_indexer,col_indexer] = value instead\n",
            "\n",
            "See the caveats in the documentation: https://pandas.pydata.org/pandas-docs/stable/user_guide/indexing.html#returning-a-view-versus-a-copy\n",
            "  self[name] = value\n"
          ],
          "name": "stderr"
        }
      ]
    },
    {
      "cell_type": "code",
      "metadata": {
        "id": "wCO2sxwg15dY"
      },
      "source": [
        "df_news = df_news.explode('Headlines')"
      ],
      "execution_count": 17,
      "outputs": []
    },
    {
      "cell_type": "code",
      "metadata": {
        "colab": {
          "base_uri": "https://localhost:8080/"
        },
        "id": "C6IsgtVx12vk",
        "outputId": "53bdde12-9829-4b0f-a338-4e41d7b2b489"
      },
      "source": [
        "df_news.shape"
      ],
      "execution_count": 18,
      "outputs": [
        {
          "output_type": "execute_result",
          "data": {
            "text/plain": [
              "(17015, 2)"
            ]
          },
          "metadata": {
            "tags": []
          },
          "execution_count": 18
        }
      ]
    },
    {
      "cell_type": "code",
      "metadata": {
        "colab": {
          "base_uri": "https://localhost:8080/",
          "height": 195
        },
        "id": "2_0j-bnv3Gds",
        "outputId": "34030359-f4ce-4abe-a166-6bde17bed272"
      },
      "source": [
        "df_news.head()"
      ],
      "execution_count": 19,
      "outputs": [
        {
          "output_type": "execute_result",
          "data": {
            "text/html": [
              "<div>\n",
              "<style scoped>\n",
              "    .dataframe tbody tr th:only-of-type {\n",
              "        vertical-align: middle;\n",
              "    }\n",
              "\n",
              "    .dataframe tbody tr th {\n",
              "        vertical-align: top;\n",
              "    }\n",
              "\n",
              "    .dataframe thead th {\n",
              "        text-align: right;\n",
              "    }\n",
              "</style>\n",
              "<table border=\"1\" class=\"dataframe\">\n",
              "  <thead>\n",
              "    <tr style=\"text-align: right;\">\n",
              "      <th></th>\n",
              "      <th>Date</th>\n",
              "      <th>Headlines</th>\n",
              "    </tr>\n",
              "  </thead>\n",
              "  <tbody>\n",
              "    <tr>\n",
              "      <th>1</th>\n",
              "      <td>2014-01-03</td>\n",
              "      <td>NEERI team to study mining impact</td>\n",
              "    </tr>\n",
              "    <tr>\n",
              "      <th>1</th>\n",
              "      <td>2014-01-03</td>\n",
              "      <td>Jobs &amp; career: Companies give appraisals a mor...</td>\n",
              "    </tr>\n",
              "    <tr>\n",
              "      <th>1</th>\n",
              "      <td>2014-01-03</td>\n",
              "      <td>Coal India misses April-December output target...</td>\n",
              "    </tr>\n",
              "    <tr>\n",
              "      <th>1</th>\n",
              "      <td>2014-01-03</td>\n",
              "      <td>Private equity firms invest about Rs 940 crore...</td>\n",
              "    </tr>\n",
              "    <tr>\n",
              "      <th>1</th>\n",
              "      <td>2014-01-03</td>\n",
              "      <td>IBM, ST Microelectronics only players keen on ...</td>\n",
              "    </tr>\n",
              "  </tbody>\n",
              "</table>\n",
              "</div>"
            ],
            "text/plain": [
              "         Date                                          Headlines\n",
              "1  2014-01-03                  NEERI team to study mining impact\n",
              "1  2014-01-03  Jobs & career: Companies give appraisals a mor...\n",
              "1  2014-01-03  Coal India misses April-December output target...\n",
              "1  2014-01-03  Private equity firms invest about Rs 940 crore...\n",
              "1  2014-01-03  IBM, ST Microelectronics only players keen on ..."
            ]
          },
          "metadata": {
            "tags": []
          },
          "execution_count": 19
        }
      ]
    },
    {
      "cell_type": "code",
      "metadata": {
        "id": "wgXSZRr03JAu"
      },
      "source": [
        "# removing special character '/'"
      ],
      "execution_count": 20,
      "outputs": []
    },
    {
      "cell_type": "code",
      "metadata": {
        "colab": {
          "base_uri": "https://localhost:8080/"
        },
        "id": "9_kpbA-xxzh4",
        "outputId": "195f952c-a50c-48dc-b3da-7578320d9054"
      },
      "source": [
        "# Transferring the data into list\r\n",
        "\r\n",
        "price = []\r\n",
        "headlines = []\r\n",
        "\r\n",
        "for row in df_stock.iterrows():\r\n",
        "    daily_headlines = []\r\n",
        "    date = row[1]['Date']\r\n",
        "    price.append(row[1]['Stock_var'])\r\n",
        "    for row_ in df_news[df_news.Date==date].iterrows():\r\n",
        "        daily_headlines.append(row_[1]['Headlines'])\r\n",
        "    \r\n",
        "    # Track progress\r\n",
        "    headlines.append(daily_headlines)\r\n",
        "    if len(price) % 500 == 0:\r\n",
        "        print(len(price))"
      ],
      "execution_count": 21,
      "outputs": [
        {
          "output_type": "stream",
          "text": [
            "500\n",
            "1000\n",
            "1500\n"
          ],
          "name": "stdout"
        }
      ]
    },
    {
      "cell_type": "code",
      "metadata": {
        "colab": {
          "base_uri": "https://localhost:8080/"
        },
        "id": "Oj4LWiPjy5T0",
        "outputId": "9fe31ec8-ade2-4bce-94fe-3d29c7480270"
      },
      "source": [
        "# Compare lengths to ensure they are the same\r\n",
        "print(len(price))\r\n",
        "print(len(headlines))"
      ],
      "execution_count": 22,
      "outputs": [
        {
          "output_type": "stream",
          "text": [
            "1711\n",
            "1711\n"
          ],
          "name": "stdout"
        }
      ]
    },
    {
      "cell_type": "code",
      "metadata": {
        "colab": {
          "base_uri": "https://localhost:8080/"
        },
        "id": "WVVFSUcJ2RmW",
        "outputId": "67fa21c1-f85a-413b-a276-e209072630c7"
      },
      "source": [
        "# Compare the number of headlines for each day\r\n",
        "print(max(len(i) for i in headlines))\r\n",
        "print(min(len(i) for i in headlines))\r\n",
        "print(np.mean(list((len(i) for i in headlines))))"
      ],
      "execution_count": null,
      "outputs": [
        {
          "output_type": "stream",
          "text": [
            "10\n",
            "6\n",
            "9.94447691408533\n"
          ],
          "name": "stdout"
        }
      ]
    },
    {
      "cell_type": "code",
      "metadata": {
        "id": "9U0iqh5I2m8Z"
      },
      "source": [
        "contractions = { \r\n",
        "\"ain't\": \"am not\",\r\n",
        "\"aren't\": \"are not\",\r\n",
        "\"can't\": \"cannot\",\r\n",
        "\"can't've\": \"cannot have\",\r\n",
        "\"'cause\": \"because\",\r\n",
        "\"could've\": \"could have\",\r\n",
        "\"couldn't\": \"could not\",\r\n",
        "\"couldn't've\": \"could not have\",\r\n",
        "\"didn't\": \"did not\",\r\n",
        "\"doesn't\": \"does not\",\r\n",
        "\"don't\": \"do not\",\r\n",
        "\"hadn't\": \"had not\",\r\n",
        "\"hadn't've\": \"had not have\",\r\n",
        "\"hasn't\": \"has not\",\r\n",
        "\"haven't\": \"have not\",\r\n",
        "\"he'd\": \"he would\",\r\n",
        "\"he'd've\": \"he would have\",\r\n",
        "\"he'll\": \"he will\",\r\n",
        "\"he's\": \"he is\",\r\n",
        "\"how'd\": \"how did\",\r\n",
        "\"how'll\": \"how will\",\r\n",
        "\"how's\": \"how is\",\r\n",
        "\"i'd\": \"i would\",\r\n",
        "\"i'll\": \"i will\",\r\n",
        "\"i'm\": \"i am\",\r\n",
        "\"i've\": \"i have\",\r\n",
        "\"isn't\": \"is not\",\r\n",
        "\"it'd\": \"it would\",\r\n",
        "\"it'll\": \"it will\",\r\n",
        "\"it's\": \"it is\",\r\n",
        "\"let's\": \"let us\",\r\n",
        "\"ma'am\": \"madam\",\r\n",
        "\"mayn't\": \"may not\",\r\n",
        "\"might've\": \"might have\",\r\n",
        "\"mightn't\": \"might not\",\r\n",
        "\"must've\": \"must have\",\r\n",
        "\"mustn't\": \"must not\",\r\n",
        "\"needn't\": \"need not\",\r\n",
        "\"oughtn't\": \"ought not\",\r\n",
        "\"shan't\": \"shall not\",\r\n",
        "\"sha'n't\": \"shall not\",\r\n",
        "\"she'd\": \"she would\",\r\n",
        "\"she'll\": \"she will\",\r\n",
        "\"she's\": \"she is\",\r\n",
        "\"should've\": \"should have\",\r\n",
        "\"shouldn't\": \"should not\",\r\n",
        "\"that'd\": \"that would\",\r\n",
        "\"that's\": \"that is\",\r\n",
        "\"there'd\": \"there had\",\r\n",
        "\"there's\": \"there is\",\r\n",
        "\"they'd\": \"they would\",\r\n",
        "\"they'll\": \"they will\",\r\n",
        "\"they're\": \"they are\",\r\n",
        "\"they've\": \"they have\",\r\n",
        "\"wasn't\": \"was not\",\r\n",
        "\"we'd\": \"we would\",\r\n",
        "\"we'll\": \"we will\",\r\n",
        "\"we're\": \"we are\",\r\n",
        "\"we've\": \"we have\",\r\n",
        "\"weren't\": \"were not\",\r\n",
        "\"what'll\": \"what will\",\r\n",
        "\"what're\": \"what are\",\r\n",
        "\"what's\": \"what is\",\r\n",
        "\"what've\": \"what have\",\r\n",
        "\"where'd\": \"where did\",\r\n",
        "\"where's\": \"where is\",\r\n",
        "\"who'll\": \"who will\",\r\n",
        "\"who's\": \"who is\",\r\n",
        "\"won't\": \"will not\",\r\n",
        "\"wouldn't\": \"would not\",\r\n",
        "\"you'd\": \"you would\",\r\n",
        "\"you'll\": \"you will\",\r\n",
        "\"you're\": \"you are\"\r\n",
        "}"
      ],
      "execution_count": 23,
      "outputs": []
    },
    {
      "cell_type": "code",
      "metadata": {
        "id": "K-tcnhrq33D6"
      },
      "source": [
        "def clean_text(text, remove_stopwords = True):\r\n",
        "    '''Remove unwanted characters and format the text to create fewer nulls word embeddings'''\r\n",
        "    \r\n",
        "    # Convert words to lower case\r\n",
        "    text = text.lower()\r\n",
        "    \r\n",
        "    # Replace contractions with their longer forms \r\n",
        "    if True:\r\n",
        "        text = text.split()\r\n",
        "        new_text = []\r\n",
        "        for word in text:\r\n",
        "            if word in contractions:\r\n",
        "                new_text.append(contractions[word])\r\n",
        "            else:\r\n",
        "                new_text.append(word)\r\n",
        "        text = \" \".join(new_text)\r\n",
        "    \r\n",
        "    # Format words and remove unwanted characters\r\n",
        "    text = re.sub(r'&amp;', '', text) \r\n",
        "    text = re.sub(r'0,0', '00', text) \r\n",
        "    text = re.sub(r'[_\"\\-;%()|.,+&=*%.,!?:#@\\[\\]]', ' ', text)\r\n",
        "    text = re.sub(r'\\'', ' ', text)\r\n",
        "    text = re.sub(r'\\$', ' $ ', text)\r\n",
        "    text = re.sub(r'u s ', ' united states ', text)\r\n",
        "    text = re.sub(r'u n ', ' united nations ', text)\r\n",
        "    text = re.sub(r'u k ', ' united kingdom ', text)\r\n",
        "    text = re.sub(r'j k ', ' jk ', text)\r\n",
        "    text = re.sub(r' s ', ' ', text)\r\n",
        "    text = re.sub(r' yr ', ' year ', text)\r\n",
        "    text = re.sub(r' l g b t ', ' lgbt ', text)\r\n",
        "    text = re.sub(r'0km ', '0 km ', text)\r\n",
        "    \r\n",
        "    # Optionally, remove stop words\r\n",
        "    if remove_stopwords:\r\n",
        "        text = text.split()\r\n",
        "        stops = set(stopwords.words(\"english\"))\r\n",
        "        text = [w for w in text if not w in stops]\r\n",
        "        text = \" \".join(text)\r\n",
        "\r\n",
        "    return text"
      ],
      "execution_count": 24,
      "outputs": []
    },
    {
      "cell_type": "code",
      "metadata": {
        "colab": {
          "base_uri": "https://localhost:8080/"
        },
        "id": "xpI62pCk4f5f",
        "outputId": "a921143a-0615-471c-bfa5-6e6b770d058d"
      },
      "source": [
        "\r\n",
        "nltk.download('stopwords')"
      ],
      "execution_count": 25,
      "outputs": [
        {
          "output_type": "stream",
          "text": [
            "[nltk_data] Downloading package stopwords to /root/nltk_data...\n",
            "[nltk_data]   Unzipping corpora/stopwords.zip.\n"
          ],
          "name": "stdout"
        },
        {
          "output_type": "execute_result",
          "data": {
            "text/plain": [
              "True"
            ]
          },
          "metadata": {
            "tags": []
          },
          "execution_count": 25
        }
      ]
    },
    {
      "cell_type": "code",
      "metadata": {
        "id": "mdhICUSe4K6h"
      },
      "source": [
        "# Clean the headlines\r\n",
        "clean_headlines = []\r\n",
        "\r\n",
        "for daily_headlines in headlines:\r\n",
        "    clean_daily_headlines = []\r\n",
        "    for headline in daily_headlines:\r\n",
        "        clean_daily_headlines.append(clean_text(headline))\r\n",
        "    clean_headlines.append(clean_daily_headlines)"
      ],
      "execution_count": 26,
      "outputs": []
    },
    {
      "cell_type": "code",
      "metadata": {
        "colab": {
          "base_uri": "https://localhost:8080/"
        },
        "id": "wH_f6h9w410U",
        "outputId": "858f9c53-2878-4cab-8512-0e57cdfdcbab"
      },
      "source": [
        "    \r\n",
        "len(clean_headlines)"
      ],
      "execution_count": 27,
      "outputs": [
        {
          "output_type": "execute_result",
          "data": {
            "text/plain": [
              "1711"
            ]
          },
          "metadata": {
            "tags": []
          },
          "execution_count": 27
        }
      ]
    },
    {
      "cell_type": "code",
      "metadata": {
        "colab": {
          "base_uri": "https://localhost:8080/"
        },
        "id": "pI-wWefQ4oaS",
        "outputId": "96757f08-eae9-431b-c209-d5c8376ce4e2"
      },
      "source": [
        "# Find the number of times each word was used and the size of the vocabulary\r\n",
        "word_counts = {}\r\n",
        "\r\n",
        "for date in clean_headlines:\r\n",
        "    for headline in date:\r\n",
        "        for word in headline.split():\r\n",
        "            if word not in word_counts:\r\n",
        "                word_counts[word] = 1\r\n",
        "            else:\r\n",
        "                word_counts[word] += 1\r\n",
        "            \r\n",
        "print(\"Size of Vocabulary:\", len(word_counts))"
      ],
      "execution_count": 28,
      "outputs": [
        {
          "output_type": "stream",
          "text": [
            "Size of Vocabulary: 19488\n"
          ],
          "name": "stdout"
        }
      ]
    },
    {
      "cell_type": "code",
      "metadata": {
        "colab": {
          "base_uri": "https://localhost:8080/"
        },
        "id": "REm7B2uq5I98",
        "outputId": "8d4d9c4f-24e9-46c0-ca58-10a74d715536"
      },
      "source": [
        "# Load GloVe's embeddings\r\n",
        "embeddings_index = {}\r\n",
        "with open('/content/drive/MyDrive/Data/glove.6B.100d.txt', encoding='utf-8') as f:\r\n",
        "    for line in f:\r\n",
        "        values = line.split(' ')\r\n",
        "        word = values[0]\r\n",
        "        embedding = np.asarray(values[1:], dtype='float32')\r\n",
        "        embeddings_index[word] = embedding\r\n",
        "\r\n",
        "print('Word embeddings:', len(embeddings_index))"
      ],
      "execution_count": 29,
      "outputs": [
        {
          "output_type": "stream",
          "text": [
            "Word embeddings: 400000\n"
          ],
          "name": "stdout"
        }
      ]
    },
    {
      "cell_type": "code",
      "metadata": {
        "colab": {
          "base_uri": "https://localhost:8080/"
        },
        "id": "BVbZpXpa6U7b",
        "outputId": "39dd42f4-6b4f-41b3-eb1a-cdb572ef280a"
      },
      "source": [
        "# Find the number of words that are missing from GloVe, and are used more than our threshold.\r\n",
        "missing_words = 0\r\n",
        "threshold = 10\r\n",
        "\r\n",
        "for word, count in word_counts.items():\r\n",
        "    if count > threshold:\r\n",
        "        if word not in embeddings_index:\r\n",
        "            missing_words += 1\r\n",
        "            \r\n",
        "missing_ratio = round(missing_words/len(word_counts),4)*100\r\n",
        "            \r\n",
        "print(\"Number of words missing from GloVe:\", missing_words)\r\n",
        "print(\"Percent of words that are missing from vocabulary: {}%\".format(missing_ratio))"
      ],
      "execution_count": 30,
      "outputs": [
        {
          "output_type": "stream",
          "text": [
            "Number of words missing from GloVe: 49\n",
            "Percent of words that are missing from vocabulary: 0.25%\n"
          ],
          "name": "stdout"
        }
      ]
    },
    {
      "cell_type": "code",
      "metadata": {
        "colab": {
          "base_uri": "https://localhost:8080/"
        },
        "id": "GGurklF463OI",
        "outputId": "834cba5f-f18d-4103-d86e-49e6fafa1f76"
      },
      "source": [
        "# Limit the vocab that we will use to words that appear ≥ threshold or are in GloVe\r\n",
        "\r\n",
        "#dictionary to convert words to integers\r\n",
        "vocab_to_int = {} \r\n",
        "\r\n",
        "value = 0\r\n",
        "for word, count in word_counts.items():\r\n",
        "    if count >= threshold or word in embeddings_index:\r\n",
        "        vocab_to_int[word] = value\r\n",
        "        value += 1\r\n",
        "\r\n",
        "# Special tokens that will be added to our vocab\r\n",
        "codes = [\"<UNK>\",\"<PAD>\"]   \r\n",
        "\r\n",
        "# Add codes to vocab\r\n",
        "for code in codes:\r\n",
        "    vocab_to_int[code] = len(vocab_to_int)\r\n",
        "\r\n",
        "# Dictionary to convert integers to words\r\n",
        "int_to_vocab = {}\r\n",
        "for word, value in vocab_to_int.items():\r\n",
        "    int_to_vocab[value] = word\r\n",
        "\r\n",
        "usage_ratio = round(len(vocab_to_int) / len(word_counts),4)*100\r\n",
        "\r\n",
        "print(\"Total Number of Unique Words:\", len(word_counts))\r\n",
        "print(\"Number of Words we will use:\", len(vocab_to_int))\r\n",
        "print(\"Percent of Words we will use: {}%\".format(usage_ratio))"
      ],
      "execution_count": 31,
      "outputs": [
        {
          "output_type": "stream",
          "text": [
            "Total Number of Unique Words: 19488\n",
            "Number of Words we will use: 16856\n",
            "Percent of Words we will use: 86.49%\n"
          ],
          "name": "stdout"
        }
      ]
    },
    {
      "cell_type": "code",
      "metadata": {
        "colab": {
          "base_uri": "https://localhost:8080/"
        },
        "id": "PDRKwEDf6_8h",
        "outputId": "9fcf5e5b-b0a6-4a00-d683-f3320e71885b"
      },
      "source": [
        "embedding_dim = 100\r\n",
        "\r\n",
        "nb_words = len(vocab_to_int)\r\n",
        "# Create matrix with default values of zero\r\n",
        "word_embedding_matrix = np.zeros((nb_words, embedding_dim))\r\n",
        "for word, i in vocab_to_int.items():\r\n",
        "    if word in embeddings_index:\r\n",
        "        word_embedding_matrix[i] = embeddings_index[word]\r\n",
        "    else:\r\n",
        "        # If word not in GloVe, create a random embedding for it\r\n",
        "        new_embedding = np.array(np.random.uniform(-1.0, 1.0, embedding_dim))\r\n",
        "        embeddings_index[word] = new_embedding\r\n",
        "        word_embedding_matrix[i] = new_embedding\r\n",
        "\r\n",
        "# Check if value matches len(vocab_to_int)\r\n",
        "print(len(word_embedding_matrix))"
      ],
      "execution_count": 32,
      "outputs": [
        {
          "output_type": "stream",
          "text": [
            "16856\n"
          ],
          "name": "stdout"
        }
      ]
    },
    {
      "cell_type": "code",
      "metadata": {
        "colab": {
          "base_uri": "https://localhost:8080/"
        },
        "id": "uNpTqOmF7dJh",
        "outputId": "4d3ea318-9b35-44cb-895b-0241a0270384"
      },
      "source": [
        "# Change the text from words to integers\r\n",
        "# If word is not in vocab, replace it with <UNK> (unknown)\r\n",
        "word_count = 0\r\n",
        "unk_count = 0\r\n",
        "\r\n",
        "int_headlines = []\r\n",
        "\r\n",
        "for date in clean_headlines:\r\n",
        "    int_daily_headlines = []\r\n",
        "    for headline in date:\r\n",
        "        int_headline = []\r\n",
        "        for word in headline.split():\r\n",
        "            word_count += 1\r\n",
        "            if word in vocab_to_int:\r\n",
        "                int_headline.append(vocab_to_int[word])\r\n",
        "            else:\r\n",
        "                int_headline.append(vocab_to_int[\"<UNK>\"])\r\n",
        "                unk_count += 1\r\n",
        "        int_daily_headlines.append(int_headline)\r\n",
        "    int_headlines.append(int_daily_headlines)\r\n",
        "\r\n",
        "unk_percent = round(unk_count/word_count,4)*100\r\n",
        "\r\n",
        "print(\"Total number of words in headlines:\", word_count)\r\n",
        "print(\"Total number of UNKs in headlines:\", unk_count)\r\n",
        "print(\"Percent of words that are UNK: {}%\".format(unk_percent))"
      ],
      "execution_count": 33,
      "outputs": [
        {
          "output_type": "stream",
          "text": [
            "Total number of words in headlines: 143566\n",
            "Total number of UNKs in headlines: 3829\n",
            "Percent of words that are UNK: 2.67%\n"
          ],
          "name": "stdout"
        }
      ]
    },
    {
      "cell_type": "code",
      "metadata": {
        "id": "Hpo-n8qs7g7u"
      },
      "source": [
        "# Find the length of headlines\r\n",
        "lengths = []\r\n",
        "for date in int_headlines:\r\n",
        "    for headline in date:\r\n",
        "        lengths.append(len(headline))\r\n",
        "\r\n",
        "# Create a dataframe so that the values can be inspected\r\n",
        "lengths = pd.DataFrame(lengths, columns=['counts'])"
      ],
      "execution_count": 34,
      "outputs": []
    },
    {
      "cell_type": "code",
      "metadata": {
        "id": "l4U6x9B37vlP"
      },
      "source": [
        "# Limit the length of a day's news to 100 words, and the length of any headline to 16 words.\r\n",
        "# These values are chosen to not have an excessively long training time and \r\n",
        "# balance the number of headlines used and the number of words from each headline.\r\n",
        "max_headline_length = 16\r\n",
        "max_daily_length = 100\r\n",
        "pad_headlines = []\r\n",
        "\r\n",
        "for date in int_headlines:\r\n",
        "    pad_daily_headlines = []\r\n",
        "    for headline in date:\r\n",
        "        # Add headline if it is less than max length\r\n",
        "        if len(headline) <= max_headline_length:\r\n",
        "            for word in headline:\r\n",
        "                pad_daily_headlines.append(word)\r\n",
        "        # Limit headline if it is more than max length  \r\n",
        "        else:\r\n",
        "            headline = headline[:max_headline_length]\r\n",
        "            for word in headline:\r\n",
        "                pad_daily_headlines.append(word)\r\n",
        "    \r\n",
        "    # Pad daily_headlines if they are less than max length\r\n",
        "    if len(pad_daily_headlines) < max_daily_length:\r\n",
        "        for i in range(max_daily_length-len(pad_daily_headlines)):\r\n",
        "            pad = vocab_to_int[\"<PAD>\"]\r\n",
        "            pad_daily_headlines.append(pad)\r\n",
        "    # Limit daily_headlines if they are more than max length\r\n",
        "    else:\r\n",
        "        pad_daily_headlines = pad_daily_headlines[:max_daily_length]\r\n",
        "    pad_headlines.append(pad_daily_headlines)"
      ],
      "execution_count": 35,
      "outputs": []
    },
    {
      "cell_type": "code",
      "metadata": {
        "id": "_VfzxoxE7-Q4"
      },
      "source": [
        "# Normalize opening prices (target values)\r\n",
        "max_price = max(price)\r\n",
        "min_price = min(price)\r\n",
        "mean_price = np.mean(price)\r\n",
        "def normalize(price):\r\n",
        "    return ((price-min_price)/(max_price-min_price))"
      ],
      "execution_count": 36,
      "outputs": []
    },
    {
      "cell_type": "code",
      "metadata": {
        "id": "AFAUvkot8Bdh"
      },
      "source": [
        "norm_price = []\r\n",
        "for p in price:\r\n",
        "    norm_price.append(normalize(p))"
      ],
      "execution_count": 37,
      "outputs": []
    },
    {
      "cell_type": "code",
      "metadata": {
        "colab": {
          "base_uri": "https://localhost:8080/"
        },
        "id": "9O5hQkU38E9w",
        "outputId": "2725281c-17fb-4e7d-885d-98133beadcb4"
      },
      "source": [
        "# Check that normalization worked well\r\n",
        "print(min(norm_price))\r\n",
        "print(max(norm_price))\r\n",
        "print(np.mean(norm_price))"
      ],
      "execution_count": 38,
      "outputs": [
        {
          "output_type": "stream",
          "text": [
            "0.0\n",
            "1.0\n",
            "0.5654056599419871\n"
          ],
          "name": "stdout"
        }
      ]
    },
    {
      "cell_type": "code",
      "metadata": {
        "colab": {
          "base_uri": "https://localhost:8080/"
        },
        "id": "h94q09_h8P4p",
        "outputId": "6932a6f4-20fb-4868-fdb4-99001dd15df3"
      },
      "source": [
        "len(pad_headlines), len(norm_price)"
      ],
      "execution_count": 39,
      "outputs": [
        {
          "output_type": "execute_result",
          "data": {
            "text/plain": [
              "(1711, 1711)"
            ]
          },
          "metadata": {
            "tags": []
          },
          "execution_count": 39
        }
      ]
    },
    {
      "cell_type": "code",
      "metadata": {
        "colab": {
          "base_uri": "https://localhost:8080/",
          "height": 35
        },
        "id": "fHVL127JWX1l",
        "outputId": "51f1e201-cadf-40f1-84b5-0ee81f292ed3"
      },
      "source": [
        "int_to_vocab[16854]\r\n",
        "int_to_vocab[16855]"
      ],
      "execution_count": 40,
      "outputs": [
        {
          "output_type": "execute_result",
          "data": {
            "application/vnd.google.colaboratory.intrinsic+json": {
              "type": "string"
            },
            "text/plain": [
              "'<PAD>'"
            ]
          },
          "metadata": {
            "tags": []
          },
          "execution_count": 40
        }
      ]
    },
    {
      "cell_type": "code",
      "metadata": {
        "colab": {
          "base_uri": "https://localhost:8080/",
          "height": 282
        },
        "id": "gcfzEYwEV5FV",
        "outputId": "23358337-218f-4a84-b8b5-511829b4fae0"
      },
      "source": [
        "plt.plot(norm_price)"
      ],
      "execution_count": 41,
      "outputs": [
        {
          "output_type": "execute_result",
          "data": {
            "text/plain": [
              "[<matplotlib.lines.Line2D at 0x7f400a2eaac8>]"
            ]
          },
          "metadata": {
            "tags": []
          },
          "execution_count": 41
        },
        {
          "output_type": "display_data",
          "data": {
            "image/png": "[encoded data removed]",
            "text/plain": [
              "<Figure size 432x288 with 1 Axes>"
            ]
          },
          "metadata": {
            "tags": [],
            "needs_background": "light"
          }
        }
      ]
    },
    {
      "cell_type": "code",
      "metadata": {
        "id": "eOxgl-Eq8I56"
      },
      "source": [
        "# Split data into training and testing sets.\r\n",
        "# Validating data will be created during training.\r\n",
        "x_train, x_test, y_train, y_test = train_test_split(pad_headlines, norm_price, test_size = 0.15, random_state = 2)\r\n",
        "\r\n",
        "x_train = np.array(x_train)\r\n",
        "x_test = np.array(x_test)\r\n",
        "y_train = np.array(y_train)\r\n",
        "y_test = np.array(y_test)"
      ],
      "execution_count": 42,
      "outputs": []
    },
    {
      "cell_type": "code",
      "metadata": {
        "colab": {
          "base_uri": "https://localhost:8080/"
        },
        "id": "BQ4KZ4vs9bhn",
        "outputId": "a2f2584d-cc36-4d94-b725-33c78261f467"
      },
      "source": [
        "# Check the lengths\r\n",
        "print(len(x_train))\r\n",
        "print(len(x_test))"
      ],
      "execution_count": 43,
      "outputs": [
        {
          "output_type": "stream",
          "text": [
            "1454\n",
            "257\n"
          ],
          "name": "stdout"
        }
      ]
    },
    {
      "cell_type": "code",
      "metadata": {
        "colab": {
          "base_uri": "https://localhost:8080/"
        },
        "id": "QaIBUMBOaFaR",
        "outputId": "fedeb687-f2a5-47f1-fd93-d6c7a9f1b65b"
      },
      "source": [
        "len(x_test[0])"
      ],
      "execution_count": 48,
      "outputs": [
        {
          "output_type": "execute_result",
          "data": {
            "text/plain": [
              "100"
            ]
          },
          "metadata": {
            "tags": []
          },
          "execution_count": 48
        }
      ]
    },
    {
      "cell_type": "code",
      "metadata": {
        "colab": {
          "base_uri": "https://localhost:8080/"
        },
        "id": "2N7Xa8Ep-rk7",
        "outputId": "4f22366e-c983-4f0e-880c-c818862f2eb4"
      },
      "source": [
        "filter_length1 = 3\r\n",
        "filter_length2 = 5\r\n",
        "dropout = 0.5\r\n",
        "learning_rate = 0.0001\r\n",
        "weights = initializers.TruncatedNormal(mean=0.0, stddev=0.1, seed=2)\r\n",
        "nb_filter = 16\r\n",
        "rnn_output_size = 128\r\n",
        "hidden_dims = 128\r\n",
        "wider = True\r\n",
        "deeper = True\r\n",
        "\r\n",
        "\r\n",
        "model1 = Sequential()\r\n",
        "    \r\n",
        "model1.add(Embedding(nb_words,\r\n",
        "                     embedding_dim,\r\n",
        "                     weights=[word_embedding_matrix], \r\n",
        "                     input_length=max_daily_length, name='Model1_embedding'))\r\n",
        "   \r\n",
        "model1.add(LSTM(rnn_output_size, \r\n",
        "                     activation='relu',return_sequences=True ,\r\n",
        "                     name='Model1_LSTM'))\r\n",
        "\r\n",
        "model1.add(LSTM(int(rnn_output_size/2),  activation='relu',\r\n",
        "                     name='Model2_LSTM'))\r\n",
        "\r\n",
        "\r\n",
        "model1.add(Dense(1,name='model_dense1'))\r\n",
        "\r\n",
        "model1.compile(loss='mean_squared_error', optimizer=Adam(lr=learning_rate,clipvalue=1.0) )\r\n",
        "\r\n",
        "model1.summary()"
      ],
      "execution_count": 88,
      "outputs": [
        {
          "output_type": "stream",
          "text": [
            "WARNING:tensorflow:Layer Model1_LSTM will not use cuDNN kernel since it doesn't meet the cuDNN kernel criteria. It will use generic GPU kernel as fallback when running on GPU\n",
            "WARNING:tensorflow:Layer Model2_LSTM will not use cuDNN kernel since it doesn't meet the cuDNN kernel criteria. It will use generic GPU kernel as fallback when running on GPU\n",
            "Model: \"sequential_10\"\n",
            "_________________________________________________________________\n",
            "Layer (type)                 Output Shape              Param #   \n",
            "=================================================================\n",
            "Model1_embedding (Embedding) (None, 100, 100)          1685600   \n",
            "_________________________________________________________________\n",
            "Model1_LSTM (LSTM)           (None, 100, 128)          117248    \n",
            "_________________________________________________________________\n",
            "Model2_LSTM (LSTM)           (None, 64)                49408     \n",
            "_________________________________________________________________\n",
            "model_dense1 (Dense)         (None, 1)                 65        \n",
            "=================================================================\n",
            "Total params: 1,852,321\n",
            "Trainable params: 1,852,321\n",
            "Non-trainable params: 0\n",
            "_________________________________________________________________\n"
          ],
          "name": "stdout"
        }
      ]
    },
    {
      "cell_type": "code",
      "metadata": {
        "id": "qB-gi4sXitPO"
      },
      "source": [
        "filepath = '/content/sample_data/result/result-{epoch:02d}-{loss:.2f}.hdf5'"
      ],
      "execution_count": 90,
      "outputs": []
    },
    {
      "cell_type": "code",
      "metadata": {
        "id": "wpVl4CDjihkD"
      },
      "source": [
        "callbacks = [ModelCheckpoint(filepath=filepath,  monitor='val_loss', save_best_only=True),\r\n",
        "                             EarlyStopping(monitor='val_loss', patience=5, verbose=1, mode='auto'),\r\n",
        "                             ReduceLROnPlateau(monitor='val_loss', factor=0.2, verbose=1, patience=5)]"
      ],
      "execution_count": 91,
      "outputs": []
    },
    {
      "cell_type": "code",
      "metadata": {
        "colab": {
          "base_uri": "https://localhost:8080/"
        },
        "id": "sfpZGEjXZfep",
        "outputId": "bea37395-1b0a-47e3-a044-44febf1e8046"
      },
      "source": [
        "model1.fit(x_train, y_train, callbacks=callbacks, epochs=50, validation_split=0.2, verbose=1)"
      ],
      "execution_count": 92,
      "outputs": [
        {
          "output_type": "stream",
          "text": [
            "Epoch 1/50\n",
            "37/37 [==============================] - 13s 307ms/step - loss: 0.1454 - val_loss: 0.0059\n",
            "Epoch 2/50\n",
            "37/37 [==============================] - 11s 303ms/step - loss: 0.0062 - val_loss: 0.0046\n",
            "Epoch 3/50\n",
            "37/37 [==============================] - 11s 297ms/step - loss: 0.0047 - val_loss: 0.0044\n",
            "Epoch 4/50\n",
            "37/37 [==============================] - 11s 303ms/step - loss: 0.0050 - val_loss: 0.0043\n",
            "Epoch 5/50\n",
            "37/37 [==============================] - 11s 294ms/step - loss: 0.0042 - val_loss: 0.0042\n",
            "Epoch 6/50\n",
            "37/37 [==============================] - 11s 300ms/step - loss: 0.0034 - val_loss: 0.0041\n",
            "Epoch 7/50\n",
            "37/37 [==============================] - 11s 300ms/step - loss: 0.0035 - val_loss: 0.0042\n",
            "Epoch 8/50\n",
            "37/37 [==============================] - 11s 302ms/step - loss: 0.0041 - val_loss: 0.0041\n",
            "Epoch 9/50\n",
            "37/37 [==============================] - 11s 301ms/step - loss: 0.0032 - val_loss: 0.0041\n",
            "Epoch 10/50\n",
            "37/37 [==============================] - 11s 301ms/step - loss: 0.0034 - val_loss: 0.0041\n",
            "\n",
            "Epoch 00010: ReduceLROnPlateau reducing learning rate to 1.9999999494757503e-05.\n",
            "Epoch 11/50\n",
            "37/37 [==============================] - 11s 300ms/step - loss: 0.0032 - val_loss: 0.0041\n",
            "Epoch 12/50\n",
            "37/37 [==============================] - 11s 306ms/step - loss: 0.0032 - val_loss: 0.0041\n",
            "Epoch 13/50\n",
            "37/37 [==============================] - 11s 305ms/step - loss: 0.0030 - val_loss: 0.0041\n",
            "Epoch 14/50\n",
            "37/37 [==============================] - 12s 311ms/step - loss: 0.0034 - val_loss: 0.0041\n",
            "Epoch 15/50\n",
            "37/37 [==============================] - 11s 303ms/step - loss: 0.0030 - val_loss: 0.0041\n",
            "Epoch 16/50\n",
            "37/37 [==============================] - 11s 301ms/step - loss: 0.0032 - val_loss: 0.0041\n",
            "\n",
            "Epoch 00016: ReduceLROnPlateau reducing learning rate to 3.999999898951501e-06.\n",
            "Epoch 00016: early stopping\n"
          ],
          "name": "stdout"
        },
        {
          "output_type": "execute_result",
          "data": {
            "text/plain": [
              "<tensorflow.python.keras.callbacks.History at 0x7f3f8b1359b0>"
            ]
          },
          "metadata": {
            "tags": []
          },
          "execution_count": 92
        }
      ]
    },
    {
      "cell_type": "code",
      "metadata": {
        "id": "6QM-_E-VZfUf"
      },
      "source": [
        ""
      ],
      "execution_count": null,
      "outputs": []
    },
    {
      "cell_type": "code",
      "metadata": {
        "id": "A6jVU9UcZfKK"
      },
      "source": [
        "tf.keras.models.save_model(model1, './simple_nifty.h5')\r\n"
      ],
      "execution_count": 96,
      "outputs": []
    },
    {
      "cell_type": "code",
      "metadata": {
        "colab": {
          "base_uri": "https://localhost:8080/",
          "height": 282
        },
        "id": "blPl5X7pAggl",
        "outputId": "861cf7a3-bbf0-445e-e8b2-54531a5664fb"
      },
      "source": [
        "pd.DataFrame(model1.history.history).plot()"
      ],
      "execution_count": 97,
      "outputs": [
        {
          "output_type": "execute_result",
          "data": {
            "text/plain": [
              "<matplotlib.axes._subplots.AxesSubplot at 0x7f3f999680b8>"
            ]
          },
          "metadata": {
            "tags": []
          },
          "execution_count": 97
        },
        {
          "output_type": "display_data",
          "data": {
            "image/png": "[encoded data removed]",
            "text/plain": [
              "<Figure size 432x288 with 1 Axes>"
            ]
          },
          "metadata": {
            "tags": [],
            "needs_background": "light"
          }
        }
      ]
    },
    {
      "cell_type": "code",
      "metadata": {
        "colab": {
          "base_uri": "https://localhost:8080/"
        },
        "id": "NXU0v3NADRHB",
        "outputId": "d9ef6b8f-c2f2-4482-bb8f-9884ac9cfd96"
      },
      "source": [
        "load_model = tf.keras.models.load_model('./simple_nifty.h5')"
      ],
      "execution_count": 98,
      "outputs": [
        {
          "output_type": "stream",
          "text": [
            "WARNING:tensorflow:Layer Model1_LSTM will not use cuDNN kernel since it doesn't meet the cuDNN kernel criteria. It will use generic GPU kernel as fallback when running on GPU\n",
            "WARNING:tensorflow:Layer Model2_LSTM will not use cuDNN kernel since it doesn't meet the cuDNN kernel criteria. It will use generic GPU kernel as fallback when running on GPU\n"
          ],
          "name": "stdout"
        }
      ]
    },
    {
      "cell_type": "code",
      "metadata": {
        "colab": {
          "base_uri": "https://localhost:8080/"
        },
        "id": "Pe8ctJNAOt0-",
        "outputId": "54c952da-ef51-4c15-dff1-14471c2a97c9"
      },
      "source": [
        "predictions= load_model.predict(x_test, verbose = True)"
      ],
      "execution_count": 100,
      "outputs": [
        {
          "output_type": "stream",
          "text": [
            "9/9 [==============================] - 0s 24ms/step\n"
          ],
          "name": "stdout"
        }
      ]
    },
    {
      "cell_type": "code",
      "metadata": {
        "colab": {
          "base_uri": "https://localhost:8080/"
        },
        "id": "u3Td8fiMO2-o",
        "outputId": "8756debb-f78e-4374-eb59-6975c05d6547"
      },
      "source": [
        "# Compare testing loss to training and validating loss\r\n",
        "mse(y_test, predictions)"
      ],
      "execution_count": 101,
      "outputs": [
        {
          "output_type": "execute_result",
          "data": {
            "text/plain": [
              "0.003262242927250687"
            ]
          },
          "metadata": {
            "tags": []
          },
          "execution_count": 101
        }
      ]
    },
    {
      "cell_type": "code",
      "metadata": {
        "id": "egja0_xsPGb5"
      },
      "source": [
        "def unnormalize(price):\r\n",
        "    '''Revert values to their unnormalized amounts'''\r\n",
        "    price = price*(max_price-min_price)+min_price\r\n",
        "    return(price)"
      ],
      "execution_count": 102,
      "outputs": []
    },
    {
      "cell_type": "code",
      "metadata": {
        "id": "jaEcAAJaPK8q"
      },
      "source": [
        "unnorm_predictions = []\r\n",
        "for pred in predictions:\r\n",
        "    unnorm_predictions.append(unnormalize(pred))\r\n",
        "    \r\n",
        "unnorm_y_test = []\r\n",
        "for y in y_test:\r\n",
        "    unnorm_y_test.append(unnormalize(y))"
      ],
      "execution_count": 103,
      "outputs": []
    },
    {
      "cell_type": "code",
      "metadata": {
        "colab": {
          "base_uri": "https://localhost:8080/"
        },
        "id": "Enve-6y-PNdS",
        "outputId": "060fc3ce-cfef-4306-a5f0-5e5b731a243a"
      },
      "source": [
        "# Calculate the median absolute error for the predictions\r\n",
        "mae(unnorm_y_test, unnorm_predictions)"
      ],
      "execution_count": 104,
      "outputs": [
        {
          "output_type": "execute_result",
          "data": {
            "text/plain": [
              "57.96411126562634"
            ]
          },
          "metadata": {
            "tags": []
          },
          "execution_count": 104
        }
      ]
    },
    {
      "cell_type": "code",
      "metadata": {
        "colab": {
          "base_uri": "https://localhost:8080/"
        },
        "id": "TlTYZ_91P6T8",
        "outputId": "4816953a-7b47-47c0-f70e-cfbc24ad6887"
      },
      "source": [
        "print(\"Summary of actual opening price changes\")\r\n",
        "print(pd.DataFrame(unnorm_y_test, columns=[\"\"]).describe())\r\n",
        "print()\r\n",
        "print(\"Summary of predicted opening price changes\")\r\n",
        "print(pd.DataFrame(unnorm_predictions, columns=[\"\"]).describe())"
      ],
      "execution_count": 105,
      "outputs": [
        {
          "output_type": "stream",
          "text": [
            "Summary of actual opening price changes\n",
            "                 \n",
            "count  257.000000\n",
            "mean    11.913023\n",
            "std     99.432563\n",
            "min   -279.250000\n",
            "25%    -40.000000\n",
            "50%     10.899414\n",
            "75%     63.599609\n",
            "max    795.900390\n",
            "\n",
            "Summary of predicted opening price changes\n",
            "                 \n",
            "count  257.000000\n",
            "mean     0.880123\n",
            "std     40.386597\n",
            "min   -239.290283\n",
            "25%     -4.978027\n",
            "50%      3.983398\n",
            "75%     11.524902\n",
            "max    337.114746\n"
          ],
          "name": "stdout"
        }
      ]
    },
    {
      "cell_type": "code",
      "metadata": {
        "colab": {
          "base_uri": "https://localhost:8080/",
          "height": 295
        },
        "id": "JBsVqHi2QFqr",
        "outputId": "499571bd-44b3-4652-a39c-8e26b7883810"
      },
      "source": [
        "# Plot the predicted (blue) and actual (green) values\r\n",
        "plt.figure(figsize=(12,4))\r\n",
        "plt.plot(unnorm_predictions)\r\n",
        "plt.plot(unnorm_y_test)\r\n",
        "plt.title(\"Predicted (blue) vs Actual (green) Opening Price Changes\")\r\n",
        "plt.xlabel(\"Testing instances\")\r\n",
        "plt.ylabel(\"Change in Opening Price\")\r\n",
        "plt.show()"
      ],
      "execution_count": 106,
      "outputs": [
        {
          "output_type": "display_data",
          "data": {
            "image/png": "[encoded data removed]",
            "text/plain": [
              "<Figure size 864x288 with 1 Axes>"
            ]
          },
          "metadata": {
            "tags": [],
            "needs_background": "light"
          }
        }
      ]
    },
    {
      "cell_type": "code",
      "metadata": {
        "id": "TAZ4jpvjQUVn"
      },
      "source": [
        "# Create lists to measure if opening price increased or decreased\r\n",
        "direction_pred = []\r\n",
        "for pred in unnorm_predictions:\r\n",
        "    if pred >= 0:\r\n",
        "        direction_pred.append(1)\r\n",
        "    else:\r\n",
        "        direction_pred.append(0)\r\n",
        "direction_test = []\r\n",
        "for value in unnorm_y_test:\r\n",
        "    if value >= 0:\r\n",
        "        direction_test.append(1)\r\n",
        "    else:\r\n",
        "        direction_test.append(0)"
      ],
      "execution_count": 107,
      "outputs": []
    },
    {
      "cell_type": "code",
      "metadata": {
        "colab": {
          "base_uri": "https://localhost:8080/"
        },
        "id": "vGqptC-cQUP3",
        "outputId": "57a80e8d-8cc3-4904-fe1f-aa263f91fe99"
      },
      "source": [
        "# Calculate if the predicted direction matched the actual direction\r\n",
        "direction = acc(direction_test, direction_pred)\r\n",
        "direction = round(direction,4)*100\r\n",
        "print(\"Predicted values matched the actual direction {}% of the time.\".format(direction))"
      ],
      "execution_count": 108,
      "outputs": [
        {
          "output_type": "stream",
          "text": [
            "Predicted values matched the actual direction 50.580000000000005% of the time.\n"
          ],
          "name": "stdout"
        }
      ]
    },
    {
      "cell_type": "markdown",
      "metadata": {
        "id": "jRl8IEy9QeTZ"
      },
      "source": [
        "Own prediction\r\n"
      ]
    },
    {
      "cell_type": "code",
      "metadata": {
        "id": "mdzx5eBNQeCn"
      },
      "source": [
        "def news_to_int(news):\r\n",
        "    '''Convert your created news into integers'''\r\n",
        "    ints = []\r\n",
        "    for word in news.split():\r\n",
        "        if word in vocab_to_int:\r\n",
        "            ints.append(vocab_to_int[word])\r\n",
        "        else:\r\n",
        "            ints.append(vocab_to_int['<UNK>'])\r\n",
        "    return ints"
      ],
      "execution_count": 109,
      "outputs": []
    },
    {
      "cell_type": "code",
      "metadata": {
        "id": "X6cjkmgLQiR_"
      },
      "source": [
        "def padding_news(news):\r\n",
        "    '''Adjusts the length of your created news to fit the model's input values.'''\r\n",
        "    padded_news = news\r\n",
        "    if len(padded_news) < max_daily_length:\r\n",
        "        for i in range(max_daily_length-len(padded_news)):\r\n",
        "            padded_news.append(vocab_to_int[\"<PAD>\"])\r\n",
        "    elif len(padded_news) > max_daily_length:\r\n",
        "        padded_news = padded_news[:max_daily_length]\r\n",
        "    return padded_news"
      ],
      "execution_count": 110,
      "outputs": []
    },
    {
      "cell_type": "code",
      "metadata": {
        "id": "FF9XCWRuQoPw"
      },
      "source": [
        "# Default news that you can use\r\n",
        "create_news = \"Leaked document reveals Facebook conducted research to target emotionally vulnerable and insecure youth. \\\r\n",
        "               Woman says note from Chinese 'prisoner' was hidden in new purse. \\\r\n",
        "               21,000 AT&T workers poised for Monday strike \\\r\n",
        "               housands march against Trump climate policies in D.C., across USA \\\r\n",
        "               Kentucky judge won't hear gay adoptions because it's not in the child's \\\"best interest\\\" \\\r\n",
        "               Multiple victims shot in UTC area apartment complex \\\r\n",
        "               Drones Lead Police to Illegal Dumping in Riverside County | NBC Southern California \\\r\n",
        "               An 86-year-old Californian woman has died trying to fight a man who was allegedly sexually assaulting her 61-year-old friend. \\\r\n",
        "               Fyre Festival Named in $5Million+ Lawsuit after Stranding Festival-Goers on Island with Little Food, No Security. \\\r\n",
        "               The \\\"Greatest Show on Earth\\\" folds its tent for good \\\r\n",
        "               U.S.-led fight on ISIS have killed 352 civilians: Pentagon \\\r\n",
        "               Woman offers undercover officer sex for $25 and some Chicken McNuggets \\\r\n",
        "               Ohio bridge refuses to fall down after three implosion attempts \\\r\n",
        "               Jersey Shore MIT grad dies in prank falling from library dome \\\r\n",
        "               New York graffiti artists claim McDonald's stole work for latest burger campaign \\\r\n",
        "               SpaceX to launch secretive satellite for U.S. intelligence agency \\\r\n",
        "               Severe Storms Leave a Trail of Death and Destruction Through the U.S. \\\r\n",
        "               Hamas thanks N. Korea for its support against ‘Israeli occupation’ \\\r\n",
        "               Baker Police officer arrested for allegedly covering up details in shots fired investigation \\\r\n",
        "               Miami doctor’s call to broker during baby’s delivery leads to $33.8 million judgment \\\r\n",
        "               Minnesota man gets 15 years for shooting 5 Black Lives Matter protesters \\\r\n",
        "               South Australian woman facing possible 25 years in Colombian prison for drug trafficking \\\r\n",
        "               The Latest: Deal reached on funding government through Sept. \\\r\n",
        "               Russia flaunts Arctic expansion with new military bases\""
      ],
      "execution_count": 111,
      "outputs": []
    },
    {
      "cell_type": "code",
      "metadata": {
        "id": "2dXCi4kGQr_N"
      },
      "source": [
        "def predict(create_news, model):\r\n",
        "  clean_news = clean_text(create_news)\r\n",
        "\r\n",
        "  int_news = news_to_int(clean_news)\r\n",
        "  print(len(int_news))\r\n",
        "  pad_news = padding_news(int_news)\r\n",
        "  print((pad_news))\r\n",
        "  pad_news = np.array(pad_news).reshape((1,-1))\r\n",
        "\r\n",
        "  pred = model.predict([pad_news])\r\n",
        "  print((pad_news.shape))\r\n",
        "  price_change = unnormalize(pred)\r\n",
        "\r\n",
        "  print(\"The Nifty should open: {} from the previous open.\".format(np.round(price_change[0][0],2)))"
      ],
      "execution_count": 137,
      "outputs": []
    },
    {
      "cell_type": "code",
      "metadata": {
        "colab": {
          "base_uri": "https://localhost:8080/"
        },
        "id": "JlNy1xKHQz6p",
        "outputId": "8ce59c99-abab-42c2-8d53-6d5acedd7881"
      },
      "source": [
        "predict(create_news, load_model)"
      ],
      "execution_count": 138,
      "outputs": [
        {
          "output_type": "stream",
          "text": [
            "218\n",
            "[5267, 7891, 7837, 341, 10415, 803, 19, 16854, 7802, 16854, 6533, 1152, 147, 1957, 421, 16854, 13073, 352, 11163, 956, 963, 1458, 4923, 3698, 1517, 16854, 1400, 9420, 2613, 301, 4768, 2144, 11269, 16854, 2671, 3415, 5774, 16854, 8299, 322, 3729, 3540, 4161, 8520, 16854, 432, 14000, 4603, 9341, 634, 771, 1252, 3678, 16854, 16854, 16854, 14330, 9216, 8932, 384, 553, 16854, 1152, 10353, 2304, 1171, 429, 11508, 16854, 3701, 6871, 384, 553, 12187, 16854, 5354, 687, 826, 16854, 6850, 16854, 5354, 16854, 3081, 336, 2125, 1933, 2388, 323, 5588, 16854, 12350, 146, 1599, 165, 2776, 1171, 8643, 1518, 8256]\n",
            "(1, 100)\n",
            "The Nifty should open: -128.0800018310547 from the previous open.\n"
          ],
          "name": "stdout"
        }
      ]
    },
    {
      "cell_type": "code",
      "metadata": {
        "colab": {
          "base_uri": "https://localhost:8080/"
        },
        "id": "h8K2ZO9lRFCG",
        "outputId": "8704b84f-1fa1-4072-c402-b704c1ac63cd"
      },
      "source": [
        "news = 'New party has won the election. USA plans to invest in India huge. Infosys got heavy clients from Europe'\r\n",
        "predict(news, load_model)"
      ],
      "execution_count": 139,
      "outputs": [
        {
          "output_type": "stream",
          "text": [
            "13\n",
            "[352, 635, 685, 11269, 860, 26, 14, 6192, 176, 5017, 8946, 3774, 3253, 16855, 16855, 16855, 16855, 16855, 16855, 16855, 16855, 16855, 16855, 16855, 16855, 16855, 16855, 16855, 16855, 16855, 16855, 16855, 16855, 16855, 16855, 16855, 16855, 16855, 16855, 16855, 16855, 16855, 16855, 16855, 16855, 16855, 16855, 16855, 16855, 16855, 16855, 16855, 16855, 16855, 16855, 16855, 16855, 16855, 16855, 16855, 16855, 16855, 16855, 16855, 16855, 16855, 16855, 16855, 16855, 16855, 16855, 16855, 16855, 16855, 16855, 16855, 16855, 16855, 16855, 16855, 16855, 16855, 16855, 16855, 16855, 16855, 16855, 16855, 16855, 16855, 16855, 16855, 16855, 16855, 16855, 16855, 16855, 16855, 16855, 16855]\n",
            "(1, 100)\n",
            "The Nifty should open: 3.5999999046325684 from the previous open.\n"
          ],
          "name": "stdout"
        }
      ]
    },
    {
      "cell_type": "code",
      "metadata": {
        "id": "mhDd_WcjRTlN"
      },
      "source": [
        ""
      ],
      "execution_count": null,
      "outputs": []
    }
  ]
}