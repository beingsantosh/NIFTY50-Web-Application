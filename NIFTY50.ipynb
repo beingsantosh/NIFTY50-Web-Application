{
  "nbformat": 4,
  "nbformat_minor": 0,
  "metadata": {
    "colab": {
      "name": "NIFTY50.ipynb",
      "provenance": [],
      "mount_file_id": "18lWDFiEKl7YS8xBNUIQ8ZftntSrkL9tz",
      "authorship_tag": "ABX9TyN0iElOsaEMuZqwHFYcODkG",
      "include_colab_link": true
    },
    "kernelspec": {
      "name": "python3",
      "display_name": "Python 3"
    },
    "accelerator": "GPU"
  },
  "cells": [
    {
      "cell_type": "markdown",
      "metadata": {
        "id": "view-in-github",
        "colab_type": "text"
      },
      "source": [
        "<a href=\"https://colab.research.google.com/github/santoshkumarbvp/NIFTY50-Web-Application/blob/main/NIFTY50.ipynb\" target=\"_parent\"><img src=\"https://colab.research.google.com/assets/colab-badge.svg\" alt=\"Open In Colab\"/></a>"
      ]
    },
    {
      "cell_type": "code",
      "metadata": {
        "id": "fr4Y5T5Mkcy4"
      },
      "source": [
        "import time\r\n",
        "import pandas as pd\r\n",
        "import numpy as np\r\n",
        "import tensorflow as tf\r\n",
        "import re\r\n",
        "import nltk\r\n",
        "import ast\r\n",
        "from nltk.corpus import stopwords\r\n",
        "from sklearn.model_selection import train_test_split\r\n",
        "from sklearn.metrics import median_absolute_error as mae\r\n",
        "from sklearn.metrics import mean_squared_error as mse\r\n",
        "from sklearn.metrics import accuracy_score as acc\r\n",
        "import matplotlib.pyplot as plt\r\n",
        "\r\n",
        "from keras.models import Sequential\r\n",
        "from keras import initializers\r\n",
        "from keras.layers import Dropout, Activation, Embedding, Convolution1D, MaxPooling1D, Input, Dense,  \\\r\n",
        "                         BatchNormalization, Flatten, Reshape, Concatenate, add\r\n",
        "from keras.layers.recurrent import LSTM, GRU\r\n",
        "from keras.callbacks import Callback, ModelCheckpoint, EarlyStopping, ReduceLROnPlateau\r\n",
        "from keras.models import Model\r\n",
        "from keras.optimizers import Adam, SGD, RMSprop\r\n",
        "from keras import regularizers\r\n",
        "\r\n",
        "from tensorflow.keras.layers import concatenate, add\r\n",
        "\r\n",
        "from tensorflow.keras.utils import plot_model"
      ],
      "execution_count": 27,
      "outputs": []
    },
    {
      "cell_type": "code",
      "metadata": {
        "colab": {
          "base_uri": "https://localhost:8080/"
        },
        "id": "0q4LgENdDeki",
        "outputId": "37c585b3-dd56-4476-cdb2-1e4225a68054"
      },
      "source": [
        "!nvidia-smi"
      ],
      "execution_count": 28,
      "outputs": [
        {
          "output_type": "stream",
          "text": [
            "Sat Feb 13 15:43:23 2021       \n",
            "+-----------------------------------------------------------------------------+\n",
            "| NVIDIA-SMI 460.39       Driver Version: 460.32.03    CUDA Version: 11.2     |\n",
            "|-------------------------------+----------------------+----------------------+\n",
            "| GPU  Name        Persistence-M| Bus-Id        Disp.A | Volatile Uncorr. ECC |\n",
            "| Fan  Temp  Perf  Pwr:Usage/Cap|         Memory-Usage | GPU-Util  Compute M. |\n",
            "|                               |                      |               MIG M. |\n",
            "|===============================+======================+======================|\n",
            "|   0  Tesla T4            Off  | 00000000:00:04.0 Off |                    0 |\n",
            "| N/A   47C    P8     9W /  70W |      0MiB / 15109MiB |      0%      Default |\n",
            "|                               |                      |                  N/A |\n",
            "+-------------------------------+----------------------+----------------------+\n",
            "                                                                               \n",
            "+-----------------------------------------------------------------------------+\n",
            "| Processes:                                                                  |\n",
            "|  GPU   GI   CI        PID   Type   Process name                  GPU Memory |\n",
            "|        ID   ID                                                   Usage      |\n",
            "|=============================================================================|\n",
            "|  No running processes found                                                 |\n",
            "+-----------------------------------------------------------------------------+\n"
          ],
          "name": "stdout"
        }
      ]
    },
    {
      "cell_type": "code",
      "metadata": {
        "colab": {
          "base_uri": "https://localhost:8080/",
          "height": 35
        },
        "id": "Z9ZS6kE7DlZi",
        "outputId": "9aba9314-998e-42dd-e660-0ceac1020710"
      },
      "source": [
        "tf.__version__"
      ],
      "execution_count": 29,
      "outputs": [
        {
          "output_type": "execute_result",
          "data": {
            "application/vnd.google.colaboratory.intrinsic+json": {
              "type": "string"
            },
            "text/plain": [
              "'2.4.1'"
            ]
          },
          "metadata": {
            "tags": []
          },
          "execution_count": 29
        }
      ]
    },
    {
      "cell_type": "code",
      "metadata": {
        "id": "xeVoDwHvDOHP"
      },
      "source": [
        "t1 = time.time()"
      ],
      "execution_count": 30,
      "outputs": []
    },
    {
      "cell_type": "code",
      "metadata": {
        "id": "stkTgEn6k2tV"
      },
      "source": [
        "df = pd.read_csv('/content/drive/MyDrive/Data/processed_data.csv')"
      ],
      "execution_count": 31,
      "outputs": []
    },
    {
      "cell_type": "code",
      "metadata": {
        "colab": {
          "base_uri": "https://localhost:8080/",
          "height": 195
        },
        "id": "mIp3lbHYk5ax",
        "outputId": "5df5852c-43f4-4add-9878-3193038e8af0"
      },
      "source": [
        "df.head()"
      ],
      "execution_count": 32,
      "outputs": [
        {
          "output_type": "execute_result",
          "data": {
            "text/html": [
              "<div>\n",
              "<style scoped>\n",
              "    .dataframe tbody tr th:only-of-type {\n",
              "        vertical-align: middle;\n",
              "    }\n",
              "\n",
              "    .dataframe tbody tr th {\n",
              "        vertical-align: top;\n",
              "    }\n",
              "\n",
              "    .dataframe thead th {\n",
              "        text-align: right;\n",
              "    }\n",
              "</style>\n",
              "<table border=\"1\" class=\"dataframe\">\n",
              "  <thead>\n",
              "    <tr style=\"text-align: right;\">\n",
              "      <th></th>\n",
              "      <th>Unnamed: 0</th>\n",
              "      <th>Date</th>\n",
              "      <th>Open</th>\n",
              "      <th>Year</th>\n",
              "      <th>Month</th>\n",
              "      <th>Day</th>\n",
              "      <th>Headlines</th>\n",
              "      <th>Stock_var</th>\n",
              "    </tr>\n",
              "  </thead>\n",
              "  <tbody>\n",
              "    <tr>\n",
              "      <th>0</th>\n",
              "      <td>1</td>\n",
              "      <td>2014-01-02</td>\n",
              "      <td>6301.250000</td>\n",
              "      <td>2014</td>\n",
              "      <td>January</td>\n",
              "      <td>2</td>\n",
              "      <td>['Stricter energy norms to push up AC, fridge ...</td>\n",
              "      <td>NaN</td>\n",
              "    </tr>\n",
              "    <tr>\n",
              "      <th>1</th>\n",
              "      <td>2</td>\n",
              "      <td>2014-01-03</td>\n",
              "      <td>6194.549805</td>\n",
              "      <td>2014</td>\n",
              "      <td>January</td>\n",
              "      <td>3</td>\n",
              "      <td>['NEERI team to study mining impact', 'Jobs &amp; ...</td>\n",
              "      <td>-106.700195</td>\n",
              "    </tr>\n",
              "    <tr>\n",
              "      <th>2</th>\n",
              "      <td>3</td>\n",
              "      <td>2014-01-06</td>\n",
              "      <td>6220.850098</td>\n",
              "      <td>2014</td>\n",
              "      <td>January</td>\n",
              "      <td>6</td>\n",
              "      <td>['Teesta Setalvad, husband booked for usurping...</td>\n",
              "      <td>26.300293</td>\n",
              "    </tr>\n",
              "    <tr>\n",
              "      <th>3</th>\n",
              "      <td>4</td>\n",
              "      <td>2014-01-07</td>\n",
              "      <td>6203.899902</td>\n",
              "      <td>2014</td>\n",
              "      <td>January</td>\n",
              "      <td>7</td>\n",
              "      <td>['AAP government suspends 3 Delhi Jal Board of...</td>\n",
              "      <td>-16.950196</td>\n",
              "    </tr>\n",
              "    <tr>\n",
              "      <th>4</th>\n",
              "      <td>5</td>\n",
              "      <td>2014-01-08</td>\n",
              "      <td>6178.049805</td>\n",
              "      <td>2014</td>\n",
              "      <td>January</td>\n",
              "      <td>8</td>\n",
              "      <td>['Lok Sabha elections: No decision yet on quan...</td>\n",
              "      <td>-25.850097</td>\n",
              "    </tr>\n",
              "  </tbody>\n",
              "</table>\n",
              "</div>"
            ],
            "text/plain": [
              "   Unnamed: 0  ...   Stock_var\n",
              "0           1  ...         NaN\n",
              "1           2  ... -106.700195\n",
              "2           3  ...   26.300293\n",
              "3           4  ...  -16.950196\n",
              "4           5  ...  -25.850097\n",
              "\n",
              "[5 rows x 8 columns]"
            ]
          },
          "metadata": {
            "tags": []
          },
          "execution_count": 32
        }
      ]
    },
    {
      "cell_type": "code",
      "metadata": {
        "id": "O3ZtG3FYk_kT"
      },
      "source": [
        "df.dropna(inplace=True) # removing null rows"
      ],
      "execution_count": 33,
      "outputs": []
    },
    {
      "cell_type": "code",
      "metadata": {
        "id": "RqeG2Y0AxRkl"
      },
      "source": [
        "df.drop(columns=['Unnamed: 0'], inplace=True)"
      ],
      "execution_count": 34,
      "outputs": []
    },
    {
      "cell_type": "code",
      "metadata": {
        "colab": {
          "base_uri": "https://localhost:8080/",
          "height": 195
        },
        "id": "EyM1hWncxav-",
        "outputId": "cea6ad08-9482-46d5-8727-8f99e9307ce5"
      },
      "source": [
        "df.head()"
      ],
      "execution_count": 35,
      "outputs": [
        {
          "output_type": "execute_result",
          "data": {
            "text/html": [
              "<div>\n",
              "<style scoped>\n",
              "    .dataframe tbody tr th:only-of-type {\n",
              "        vertical-align: middle;\n",
              "    }\n",
              "\n",
              "    .dataframe tbody tr th {\n",
              "        vertical-align: top;\n",
              "    }\n",
              "\n",
              "    .dataframe thead th {\n",
              "        text-align: right;\n",
              "    }\n",
              "</style>\n",
              "<table border=\"1\" class=\"dataframe\">\n",
              "  <thead>\n",
              "    <tr style=\"text-align: right;\">\n",
              "      <th></th>\n",
              "      <th>Date</th>\n",
              "      <th>Open</th>\n",
              "      <th>Year</th>\n",
              "      <th>Month</th>\n",
              "      <th>Day</th>\n",
              "      <th>Headlines</th>\n",
              "      <th>Stock_var</th>\n",
              "    </tr>\n",
              "  </thead>\n",
              "  <tbody>\n",
              "    <tr>\n",
              "      <th>1</th>\n",
              "      <td>2014-01-03</td>\n",
              "      <td>6194.549805</td>\n",
              "      <td>2014</td>\n",
              "      <td>January</td>\n",
              "      <td>3</td>\n",
              "      <td>['NEERI team to study mining impact', 'Jobs &amp; ...</td>\n",
              "      <td>-106.700195</td>\n",
              "    </tr>\n",
              "    <tr>\n",
              "      <th>2</th>\n",
              "      <td>2014-01-06</td>\n",
              "      <td>6220.850098</td>\n",
              "      <td>2014</td>\n",
              "      <td>January</td>\n",
              "      <td>6</td>\n",
              "      <td>['Teesta Setalvad, husband booked for usurping...</td>\n",
              "      <td>26.300293</td>\n",
              "    </tr>\n",
              "    <tr>\n",
              "      <th>3</th>\n",
              "      <td>2014-01-07</td>\n",
              "      <td>6203.899902</td>\n",
              "      <td>2014</td>\n",
              "      <td>January</td>\n",
              "      <td>7</td>\n",
              "      <td>['AAP government suspends 3 Delhi Jal Board of...</td>\n",
              "      <td>-16.950196</td>\n",
              "    </tr>\n",
              "    <tr>\n",
              "      <th>4</th>\n",
              "      <td>2014-01-08</td>\n",
              "      <td>6178.049805</td>\n",
              "      <td>2014</td>\n",
              "      <td>January</td>\n",
              "      <td>8</td>\n",
              "      <td>['Lok Sabha elections: No decision yet on quan...</td>\n",
              "      <td>-25.850097</td>\n",
              "    </tr>\n",
              "    <tr>\n",
              "      <th>5</th>\n",
              "      <td>2014-01-09</td>\n",
              "      <td>6181.700195</td>\n",
              "      <td>2014</td>\n",
              "      <td>January</td>\n",
              "      <td>9</td>\n",
              "      <td>['AAP soon to clear its stand on national poli...</td>\n",
              "      <td>3.650390</td>\n",
              "    </tr>\n",
              "  </tbody>\n",
              "</table>\n",
              "</div>"
            ],
            "text/plain": [
              "         Date  ...   Stock_var\n",
              "1  2014-01-03  ... -106.700195\n",
              "2  2014-01-06  ...   26.300293\n",
              "3  2014-01-07  ...  -16.950196\n",
              "4  2014-01-08  ...  -25.850097\n",
              "5  2014-01-09  ...    3.650390\n",
              "\n",
              "[5 rows x 7 columns]"
            ]
          },
          "metadata": {
            "tags": []
          },
          "execution_count": 35
        }
      ]
    },
    {
      "cell_type": "code",
      "metadata": {
        "id": "HKujN5vYxgW5"
      },
      "source": [
        "df_news = df[['Date','Headlines']]"
      ],
      "execution_count": 36,
      "outputs": []
    },
    {
      "cell_type": "code",
      "metadata": {
        "id": "k0fiPohUxo3R"
      },
      "source": [
        "df_stock = df[['Date','Stock_var']]"
      ],
      "execution_count": 37,
      "outputs": []
    },
    {
      "cell_type": "code",
      "metadata": {
        "colab": {
          "base_uri": "https://localhost:8080/"
        },
        "id": "GKq52lZXxvQr",
        "outputId": "b43fb3c1-ea57-4c66-e991-46a2f2e79661"
      },
      "source": [
        "df_news.shape, df_stock.shape"
      ],
      "execution_count": 38,
      "outputs": [
        {
          "output_type": "execute_result",
          "data": {
            "text/plain": [
              "((1711, 2), (1711, 2))"
            ]
          },
          "metadata": {
            "tags": []
          },
          "execution_count": 38
        }
      ]
    },
    {
      "cell_type": "code",
      "metadata": {
        "colab": {
          "base_uri": "https://localhost:8080/",
          "height": 195
        },
        "id": "fG9UBS_rzNpm",
        "outputId": "0235a40d-bedd-4a8c-e6ca-767427ce9ea9"
      },
      "source": [
        "df_stock.head()"
      ],
      "execution_count": 39,
      "outputs": [
        {
          "output_type": "execute_result",
          "data": {
            "text/html": [
              "<div>\n",
              "<style scoped>\n",
              "    .dataframe tbody tr th:only-of-type {\n",
              "        vertical-align: middle;\n",
              "    }\n",
              "\n",
              "    .dataframe tbody tr th {\n",
              "        vertical-align: top;\n",
              "    }\n",
              "\n",
              "    .dataframe thead th {\n",
              "        text-align: right;\n",
              "    }\n",
              "</style>\n",
              "<table border=\"1\" class=\"dataframe\">\n",
              "  <thead>\n",
              "    <tr style=\"text-align: right;\">\n",
              "      <th></th>\n",
              "      <th>Date</th>\n",
              "      <th>Stock_var</th>\n",
              "    </tr>\n",
              "  </thead>\n",
              "  <tbody>\n",
              "    <tr>\n",
              "      <th>1</th>\n",
              "      <td>2014-01-03</td>\n",
              "      <td>-106.700195</td>\n",
              "    </tr>\n",
              "    <tr>\n",
              "      <th>2</th>\n",
              "      <td>2014-01-06</td>\n",
              "      <td>26.300293</td>\n",
              "    </tr>\n",
              "    <tr>\n",
              "      <th>3</th>\n",
              "      <td>2014-01-07</td>\n",
              "      <td>-16.950196</td>\n",
              "    </tr>\n",
              "    <tr>\n",
              "      <th>4</th>\n",
              "      <td>2014-01-08</td>\n",
              "      <td>-25.850097</td>\n",
              "    </tr>\n",
              "    <tr>\n",
              "      <th>5</th>\n",
              "      <td>2014-01-09</td>\n",
              "      <td>3.650390</td>\n",
              "    </tr>\n",
              "  </tbody>\n",
              "</table>\n",
              "</div>"
            ],
            "text/plain": [
              "         Date   Stock_var\n",
              "1  2014-01-03 -106.700195\n",
              "2  2014-01-06   26.300293\n",
              "3  2014-01-07  -16.950196\n",
              "4  2014-01-08  -25.850097\n",
              "5  2014-01-09    3.650390"
            ]
          },
          "metadata": {
            "tags": []
          },
          "execution_count": 39
        }
      ]
    },
    {
      "cell_type": "code",
      "metadata": {
        "colab": {
          "base_uri": "https://localhost:8080/"
        },
        "id": "hykgrNEy0w8A",
        "outputId": "6634f819-7a0c-4e06-9549-c66087bc23a8"
      },
      "source": [
        "df_news.Headlines = df_news.Headlines.map(ast.literal_eval)"
      ],
      "execution_count": 40,
      "outputs": [
        {
          "output_type": "stream",
          "text": [
            "/usr/local/lib/python3.6/dist-packages/pandas/core/generic.py:5170: SettingWithCopyWarning: \n",
            "A value is trying to be set on a copy of a slice from a DataFrame.\n",
            "Try using .loc[row_indexer,col_indexer] = value instead\n",
            "\n",
            "See the caveats in the documentation: https://pandas.pydata.org/pandas-docs/stable/user_guide/indexing.html#returning-a-view-versus-a-copy\n",
            "  self[name] = value\n"
          ],
          "name": "stderr"
        }
      ]
    },
    {
      "cell_type": "code",
      "metadata": {
        "id": "wCO2sxwg15dY"
      },
      "source": [
        "df_news = df_news.explode('Headlines')"
      ],
      "execution_count": 41,
      "outputs": []
    },
    {
      "cell_type": "code",
      "metadata": {
        "colab": {
          "base_uri": "https://localhost:8080/"
        },
        "id": "C6IsgtVx12vk",
        "outputId": "7557ed8b-c45d-4465-c9d6-d0e41108773a"
      },
      "source": [
        "df_news.shape"
      ],
      "execution_count": 42,
      "outputs": [
        {
          "output_type": "execute_result",
          "data": {
            "text/plain": [
              "(17015, 2)"
            ]
          },
          "metadata": {
            "tags": []
          },
          "execution_count": 42
        }
      ]
    },
    {
      "cell_type": "code",
      "metadata": {
        "colab": {
          "base_uri": "https://localhost:8080/",
          "height": 195
        },
        "id": "2_0j-bnv3Gds",
        "outputId": "06a31749-0052-4ced-c77e-df2941666601"
      },
      "source": [
        "df_news.head()"
      ],
      "execution_count": 43,
      "outputs": [
        {
          "output_type": "execute_result",
          "data": {
            "text/html": [
              "<div>\n",
              "<style scoped>\n",
              "    .dataframe tbody tr th:only-of-type {\n",
              "        vertical-align: middle;\n",
              "    }\n",
              "\n",
              "    .dataframe tbody tr th {\n",
              "        vertical-align: top;\n",
              "    }\n",
              "\n",
              "    .dataframe thead th {\n",
              "        text-align: right;\n",
              "    }\n",
              "</style>\n",
              "<table border=\"1\" class=\"dataframe\">\n",
              "  <thead>\n",
              "    <tr style=\"text-align: right;\">\n",
              "      <th></th>\n",
              "      <th>Date</th>\n",
              "      <th>Headlines</th>\n",
              "    </tr>\n",
              "  </thead>\n",
              "  <tbody>\n",
              "    <tr>\n",
              "      <th>1</th>\n",
              "      <td>2014-01-03</td>\n",
              "      <td>NEERI team to study mining impact</td>\n",
              "    </tr>\n",
              "    <tr>\n",
              "      <th>1</th>\n",
              "      <td>2014-01-03</td>\n",
              "      <td>Jobs &amp; career: Companies give appraisals a mor...</td>\n",
              "    </tr>\n",
              "    <tr>\n",
              "      <th>1</th>\n",
              "      <td>2014-01-03</td>\n",
              "      <td>Coal India misses April-December output target...</td>\n",
              "    </tr>\n",
              "    <tr>\n",
              "      <th>1</th>\n",
              "      <td>2014-01-03</td>\n",
              "      <td>Private equity firms invest about Rs 940 crore...</td>\n",
              "    </tr>\n",
              "    <tr>\n",
              "      <th>1</th>\n",
              "      <td>2014-01-03</td>\n",
              "      <td>IBM, ST Microelectronics only players keen on ...</td>\n",
              "    </tr>\n",
              "  </tbody>\n",
              "</table>\n",
              "</div>"
            ],
            "text/plain": [
              "         Date                                          Headlines\n",
              "1  2014-01-03                  NEERI team to study mining impact\n",
              "1  2014-01-03  Jobs & career: Companies give appraisals a mor...\n",
              "1  2014-01-03  Coal India misses April-December output target...\n",
              "1  2014-01-03  Private equity firms invest about Rs 940 crore...\n",
              "1  2014-01-03  IBM, ST Microelectronics only players keen on ..."
            ]
          },
          "metadata": {
            "tags": []
          },
          "execution_count": 43
        }
      ]
    },
    {
      "cell_type": "code",
      "metadata": {
        "id": "wgXSZRr03JAu"
      },
      "source": [
        "# removing special character '/'"
      ],
      "execution_count": 44,
      "outputs": []
    },
    {
      "cell_type": "code",
      "metadata": {
        "colab": {
          "base_uri": "https://localhost:8080/"
        },
        "id": "9_kpbA-xxzh4",
        "outputId": "f0b310f3-5b61-4696-d126-6c950401352b"
      },
      "source": [
        "# Transferring the data into list\r\n",
        "\r\n",
        "price = []\r\n",
        "headlines = []\r\n",
        "\r\n",
        "for row in df_stock.iterrows():\r\n",
        "    daily_headlines = []\r\n",
        "    date = row[1]['Date']\r\n",
        "    price.append(row[1]['Stock_var'])\r\n",
        "    for row_ in df_news[df_news.Date==date].iterrows():\r\n",
        "        daily_headlines.append(row_[1]['Headlines'])\r\n",
        "    \r\n",
        "    # Track progress\r\n",
        "    headlines.append(daily_headlines)\r\n",
        "    if len(price) % 500 == 0:\r\n",
        "        print(len(price))"
      ],
      "execution_count": 45,
      "outputs": [
        {
          "output_type": "stream",
          "text": [
            "500\n",
            "1000\n",
            "1500\n"
          ],
          "name": "stdout"
        }
      ]
    },
    {
      "cell_type": "code",
      "metadata": {
        "colab": {
          "base_uri": "https://localhost:8080/"
        },
        "id": "Oj4LWiPjy5T0",
        "outputId": "fb19115a-8574-44e6-e6f8-b66a0b6be7f9"
      },
      "source": [
        "# Compare lengths to ensure they are the same\r\n",
        "print(len(price))\r\n",
        "print(len(headlines))"
      ],
      "execution_count": 46,
      "outputs": [
        {
          "output_type": "stream",
          "text": [
            "1711\n",
            "1711\n"
          ],
          "name": "stdout"
        }
      ]
    },
    {
      "cell_type": "code",
      "metadata": {
        "colab": {
          "base_uri": "https://localhost:8080/"
        },
        "id": "WVVFSUcJ2RmW",
        "outputId": "67fa21c1-f85a-413b-a276-e209072630c7"
      },
      "source": [
        "# Compare the number of headlines for each day\r\n",
        "print(max(len(i) for i in headlines))\r\n",
        "print(min(len(i) for i in headlines))\r\n",
        "print(np.mean(list((len(i) for i in headlines))))"
      ],
      "execution_count": 47,
      "outputs": [
        {
          "output_type": "stream",
          "text": [
            "10\n",
            "6\n",
            "9.94447691408533\n"
          ],
          "name": "stdout"
        }
      ]
    },
    {
      "cell_type": "code",
      "metadata": {
        "id": "9U0iqh5I2m8Z"
      },
      "source": [
        "contractions = { \r\n",
        "\"ain't\": \"am not\",\r\n",
        "\"aren't\": \"are not\",\r\n",
        "\"can't\": \"cannot\",\r\n",
        "\"can't've\": \"cannot have\",\r\n",
        "\"'cause\": \"because\",\r\n",
        "\"could've\": \"could have\",\r\n",
        "\"couldn't\": \"could not\",\r\n",
        "\"couldn't've\": \"could not have\",\r\n",
        "\"didn't\": \"did not\",\r\n",
        "\"doesn't\": \"does not\",\r\n",
        "\"don't\": \"do not\",\r\n",
        "\"hadn't\": \"had not\",\r\n",
        "\"hadn't've\": \"had not have\",\r\n",
        "\"hasn't\": \"has not\",\r\n",
        "\"haven't\": \"have not\",\r\n",
        "\"he'd\": \"he would\",\r\n",
        "\"he'd've\": \"he would have\",\r\n",
        "\"he'll\": \"he will\",\r\n",
        "\"he's\": \"he is\",\r\n",
        "\"how'd\": \"how did\",\r\n",
        "\"how'll\": \"how will\",\r\n",
        "\"how's\": \"how is\",\r\n",
        "\"i'd\": \"i would\",\r\n",
        "\"i'll\": \"i will\",\r\n",
        "\"i'm\": \"i am\",\r\n",
        "\"i've\": \"i have\",\r\n",
        "\"isn't\": \"is not\",\r\n",
        "\"it'd\": \"it would\",\r\n",
        "\"it'll\": \"it will\",\r\n",
        "\"it's\": \"it is\",\r\n",
        "\"let's\": \"let us\",\r\n",
        "\"ma'am\": \"madam\",\r\n",
        "\"mayn't\": \"may not\",\r\n",
        "\"might've\": \"might have\",\r\n",
        "\"mightn't\": \"might not\",\r\n",
        "\"must've\": \"must have\",\r\n",
        "\"mustn't\": \"must not\",\r\n",
        "\"needn't\": \"need not\",\r\n",
        "\"oughtn't\": \"ought not\",\r\n",
        "\"shan't\": \"shall not\",\r\n",
        "\"sha'n't\": \"shall not\",\r\n",
        "\"she'd\": \"she would\",\r\n",
        "\"she'll\": \"she will\",\r\n",
        "\"she's\": \"she is\",\r\n",
        "\"should've\": \"should have\",\r\n",
        "\"shouldn't\": \"should not\",\r\n",
        "\"that'd\": \"that would\",\r\n",
        "\"that's\": \"that is\",\r\n",
        "\"there'd\": \"there had\",\r\n",
        "\"there's\": \"there is\",\r\n",
        "\"they'd\": \"they would\",\r\n",
        "\"they'll\": \"they will\",\r\n",
        "\"they're\": \"they are\",\r\n",
        "\"they've\": \"they have\",\r\n",
        "\"wasn't\": \"was not\",\r\n",
        "\"we'd\": \"we would\",\r\n",
        "\"we'll\": \"we will\",\r\n",
        "\"we're\": \"we are\",\r\n",
        "\"we've\": \"we have\",\r\n",
        "\"weren't\": \"were not\",\r\n",
        "\"what'll\": \"what will\",\r\n",
        "\"what're\": \"what are\",\r\n",
        "\"what's\": \"what is\",\r\n",
        "\"what've\": \"what have\",\r\n",
        "\"where'd\": \"where did\",\r\n",
        "\"where's\": \"where is\",\r\n",
        "\"who'll\": \"who will\",\r\n",
        "\"who's\": \"who is\",\r\n",
        "\"won't\": \"will not\",\r\n",
        "\"wouldn't\": \"would not\",\r\n",
        "\"you'd\": \"you would\",\r\n",
        "\"you'll\": \"you will\",\r\n",
        "\"you're\": \"you are\"\r\n",
        "}"
      ],
      "execution_count": 48,
      "outputs": []
    },
    {
      "cell_type": "code",
      "metadata": {
        "id": "K-tcnhrq33D6"
      },
      "source": [
        "def clean_text(text, remove_stopwords = True):\r\n",
        "    '''Remove unwanted characters and format the text to create fewer nulls word embeddings'''\r\n",
        "    \r\n",
        "    # Convert words to lower case\r\n",
        "    text = text.lower()\r\n",
        "    \r\n",
        "    # Replace contractions with their longer forms \r\n",
        "    if True:\r\n",
        "        text = text.split()\r\n",
        "        new_text = []\r\n",
        "        for word in text:\r\n",
        "            if word in contractions:\r\n",
        "                new_text.append(contractions[word])\r\n",
        "            else:\r\n",
        "                new_text.append(word)\r\n",
        "        text = \" \".join(new_text)\r\n",
        "    \r\n",
        "    # Format words and remove unwanted characters\r\n",
        "    text = re.sub(r'&amp;', '', text) \r\n",
        "    text = re.sub(r'0,0', '00', text) \r\n",
        "    text = re.sub(r'[_\"\\-;%()|.,+&=*%.,!?:#@\\[\\]]', ' ', text)\r\n",
        "    text = re.sub(r'\\'', ' ', text)\r\n",
        "    text = re.sub(r'\\$', ' $ ', text)\r\n",
        "    text = re.sub(r'u s ', ' united states ', text)\r\n",
        "    text = re.sub(r'u n ', ' united nations ', text)\r\n",
        "    text = re.sub(r'u k ', ' united kingdom ', text)\r\n",
        "    text = re.sub(r'j k ', ' jk ', text)\r\n",
        "    text = re.sub(r' s ', ' ', text)\r\n",
        "    text = re.sub(r' yr ', ' year ', text)\r\n",
        "    text = re.sub(r' l g b t ', ' lgbt ', text)\r\n",
        "    text = re.sub(r'0km ', '0 km ', text)\r\n",
        "    \r\n",
        "    # Optionally, remove stop words\r\n",
        "    if remove_stopwords:\r\n",
        "        text = text.split()\r\n",
        "        stops = set(stopwords.words(\"english\"))\r\n",
        "        text = [w for w in text if not w in stops]\r\n",
        "        text = \" \".join(text)\r\n",
        "\r\n",
        "    return text"
      ],
      "execution_count": 49,
      "outputs": []
    },
    {
      "cell_type": "code",
      "metadata": {
        "colab": {
          "base_uri": "https://localhost:8080/"
        },
        "id": "xpI62pCk4f5f",
        "outputId": "f092ac5f-70ca-46af-9b6e-36608a1112d6"
      },
      "source": [
        "\r\n",
        "nltk.download('stopwords')"
      ],
      "execution_count": 50,
      "outputs": [
        {
          "output_type": "stream",
          "text": [
            "[nltk_data] Downloading package stopwords to /root/nltk_data...\n",
            "[nltk_data]   Unzipping corpora/stopwords.zip.\n"
          ],
          "name": "stdout"
        },
        {
          "output_type": "execute_result",
          "data": {
            "text/plain": [
              "True"
            ]
          },
          "metadata": {
            "tags": []
          },
          "execution_count": 50
        }
      ]
    },
    {
      "cell_type": "code",
      "metadata": {
        "id": "mdhICUSe4K6h"
      },
      "source": [
        "# Clean the headlines\r\n",
        "clean_headlines = []\r\n",
        "\r\n",
        "for daily_headlines in headlines:\r\n",
        "    clean_daily_headlines = []\r\n",
        "    for headline in daily_headlines:\r\n",
        "        clean_daily_headlines.append(clean_text(headline))\r\n",
        "    clean_headlines.append(clean_daily_headlines)"
      ],
      "execution_count": 51,
      "outputs": []
    },
    {
      "cell_type": "code",
      "metadata": {
        "colab": {
          "base_uri": "https://localhost:8080/"
        },
        "id": "wH_f6h9w410U",
        "outputId": "1ee06bde-79f9-48b1-f0a8-fb44bfb8b54e"
      },
      "source": [
        "    \r\n",
        "len(clean_headlines)"
      ],
      "execution_count": 52,
      "outputs": [
        {
          "output_type": "execute_result",
          "data": {
            "text/plain": [
              "1711"
            ]
          },
          "metadata": {
            "tags": []
          },
          "execution_count": 52
        }
      ]
    },
    {
      "cell_type": "code",
      "metadata": {
        "colab": {
          "base_uri": "https://localhost:8080/"
        },
        "id": "pI-wWefQ4oaS",
        "outputId": "330a57f0-0ba0-41c8-a9f4-378944cf1ae8"
      },
      "source": [
        "# Find the number of times each word was used and the size of the vocabulary\r\n",
        "word_counts = {}\r\n",
        "\r\n",
        "for date in clean_headlines:\r\n",
        "    for headline in date:\r\n",
        "        for word in headline.split():\r\n",
        "            if word not in word_counts:\r\n",
        "                word_counts[word] = 1\r\n",
        "            else:\r\n",
        "                word_counts[word] += 1\r\n",
        "            \r\n",
        "print(\"Size of Vocabulary:\", len(word_counts))"
      ],
      "execution_count": 53,
      "outputs": [
        {
          "output_type": "stream",
          "text": [
            "Size of Vocabulary: 19488\n"
          ],
          "name": "stdout"
        }
      ]
    },
    {
      "cell_type": "code",
      "metadata": {
        "colab": {
          "base_uri": "https://localhost:8080/"
        },
        "id": "REm7B2uq5I98",
        "outputId": "ae9f7831-0f49-431c-8ecd-e1c2d8320a0d"
      },
      "source": [
        "# Load GloVe's embeddings\r\n",
        "embeddings_index = {}\r\n",
        "with open('/content/drive/MyDrive/Data/glove.6B.100d.txt', encoding='utf-8') as f:\r\n",
        "    for line in f:\r\n",
        "        values = line.split(' ')\r\n",
        "        word = values[0]\r\n",
        "        embedding = np.asarray(values[1:], dtype='float32')\r\n",
        "        embeddings_index[word] = embedding\r\n",
        "\r\n",
        "print('Word embeddings:', len(embeddings_index))"
      ],
      "execution_count": 54,
      "outputs": [
        {
          "output_type": "stream",
          "text": [
            "Word embeddings: 400000\n"
          ],
          "name": "stdout"
        }
      ]
    },
    {
      "cell_type": "code",
      "metadata": {
        "colab": {
          "base_uri": "https://localhost:8080/"
        },
        "id": "BVbZpXpa6U7b",
        "outputId": "a57daacb-d6a7-4c44-a6cb-0eff802f209e"
      },
      "source": [
        "# Find the number of words that are missing from GloVe, and are used more than our threshold.\r\n",
        "missing_words = 0\r\n",
        "threshold = 10\r\n",
        "\r\n",
        "for word, count in word_counts.items():\r\n",
        "    if count > threshold:\r\n",
        "        if word not in embeddings_index:\r\n",
        "            missing_words += 1\r\n",
        "            \r\n",
        "missing_ratio = round(missing_words/len(word_counts),4)*100\r\n",
        "            \r\n",
        "print(\"Number of words missing from GloVe:\", missing_words)\r\n",
        "print(\"Percent of words that are missing from vocabulary: {}%\".format(missing_ratio))"
      ],
      "execution_count": 55,
      "outputs": [
        {
          "output_type": "stream",
          "text": [
            "Number of words missing from GloVe: 49\n",
            "Percent of words that are missing from vocabulary: 0.25%\n"
          ],
          "name": "stdout"
        }
      ]
    },
    {
      "cell_type": "code",
      "metadata": {
        "colab": {
          "base_uri": "https://localhost:8080/"
        },
        "id": "GGurklF463OI",
        "outputId": "5936dfd4-8698-448e-e0dd-74204f14ef56"
      },
      "source": [
        "# Limit the vocab that we will use to words that appear ≥ threshold or are in GloVe\r\n",
        "\r\n",
        "#dictionary to convert words to integers\r\n",
        "vocab_to_int = {} \r\n",
        "\r\n",
        "value = 0\r\n",
        "for word, count in word_counts.items():\r\n",
        "    if count >= threshold or word in embeddings_index:\r\n",
        "        vocab_to_int[word] = value\r\n",
        "        value += 1\r\n",
        "\r\n",
        "# Special tokens that will be added to our vocab\r\n",
        "codes = [\"<UNK>\",\"<PAD>\"]   \r\n",
        "\r\n",
        "# Add codes to vocab\r\n",
        "for code in codes:\r\n",
        "    vocab_to_int[code] = len(vocab_to_int)\r\n",
        "\r\n",
        "# Dictionary to convert integers to words\r\n",
        "int_to_vocab = {}\r\n",
        "for word, value in vocab_to_int.items():\r\n",
        "    int_to_vocab[value] = word\r\n",
        "\r\n",
        "usage_ratio = round(len(vocab_to_int) / len(word_counts),4)*100\r\n",
        "\r\n",
        "print(\"Total Number of Unique Words:\", len(word_counts))\r\n",
        "print(\"Number of Words we will use:\", len(vocab_to_int))\r\n",
        "print(\"Percent of Words we will use: {}%\".format(usage_ratio))"
      ],
      "execution_count": 56,
      "outputs": [
        {
          "output_type": "stream",
          "text": [
            "Total Number of Unique Words: 19488\n",
            "Number of Words we will use: 16856\n",
            "Percent of Words we will use: 86.49%\n"
          ],
          "name": "stdout"
        }
      ]
    },
    {
      "cell_type": "code",
      "metadata": {
        "colab": {
          "base_uri": "https://localhost:8080/"
        },
        "id": "PDRKwEDf6_8h",
        "outputId": "3597c02f-1e92-414a-da30-36661a249298"
      },
      "source": [
        "embedding_dim = 100\r\n",
        "\r\n",
        "nb_words = len(vocab_to_int)\r\n",
        "# Create matrix with default values of zero\r\n",
        "word_embedding_matrix = np.zeros((nb_words, embedding_dim))\r\n",
        "for word, i in vocab_to_int.items():\r\n",
        "    if word in embeddings_index:\r\n",
        "        word_embedding_matrix[i] = embeddings_index[word]\r\n",
        "    else:\r\n",
        "        # If word not in GloVe, create a random embedding for it\r\n",
        "        new_embedding = np.array(np.random.uniform(-1.0, 1.0, embedding_dim))\r\n",
        "        embeddings_index[word] = new_embedding\r\n",
        "        word_embedding_matrix[i] = new_embedding\r\n",
        "\r\n",
        "# Check if value matches len(vocab_to_int)\r\n",
        "print(len(word_embedding_matrix))"
      ],
      "execution_count": 57,
      "outputs": [
        {
          "output_type": "stream",
          "text": [
            "16856\n"
          ],
          "name": "stdout"
        }
      ]
    },
    {
      "cell_type": "code",
      "metadata": {
        "colab": {
          "base_uri": "https://localhost:8080/"
        },
        "id": "uNpTqOmF7dJh",
        "outputId": "01392b4d-aaf9-49bf-dd5b-4b372a86b4be"
      },
      "source": [
        "# Change the text from words to integers\r\n",
        "# If word is not in vocab, replace it with <UNK> (unknown)\r\n",
        "word_count = 0\r\n",
        "unk_count = 0\r\n",
        "\r\n",
        "int_headlines = []\r\n",
        "\r\n",
        "for date in clean_headlines:\r\n",
        "    int_daily_headlines = []\r\n",
        "    for headline in date:\r\n",
        "        int_headline = []\r\n",
        "        for word in headline.split():\r\n",
        "            word_count += 1\r\n",
        "            if word in vocab_to_int:\r\n",
        "                int_headline.append(vocab_to_int[word])\r\n",
        "            else:\r\n",
        "                int_headline.append(vocab_to_int[\"<UNK>\"])\r\n",
        "                unk_count += 1\r\n",
        "        int_daily_headlines.append(int_headline)\r\n",
        "    int_headlines.append(int_daily_headlines)\r\n",
        "\r\n",
        "unk_percent = round(unk_count/word_count,4)*100\r\n",
        "\r\n",
        "print(\"Total number of words in headlines:\", word_count)\r\n",
        "print(\"Total number of UNKs in headlines:\", unk_count)\r\n",
        "print(\"Percent of words that are UNK: {}%\".format(unk_percent))"
      ],
      "execution_count": 58,
      "outputs": [
        {
          "output_type": "stream",
          "text": [
            "Total number of words in headlines: 143566\n",
            "Total number of UNKs in headlines: 3829\n",
            "Percent of words that are UNK: 2.67%\n"
          ],
          "name": "stdout"
        }
      ]
    },
    {
      "cell_type": "code",
      "metadata": {
        "id": "Hpo-n8qs7g7u"
      },
      "source": [
        "# Find the length of headlines\r\n",
        "lengths = []\r\n",
        "for date in int_headlines:\r\n",
        "    for headline in date:\r\n",
        "        lengths.append(len(headline))\r\n",
        "\r\n",
        "# Create a dataframe so that the values can be inspected\r\n",
        "lengths = pd.DataFrame(lengths, columns=['counts'])"
      ],
      "execution_count": 59,
      "outputs": []
    },
    {
      "cell_type": "code",
      "metadata": {
        "id": "l4U6x9B37vlP"
      },
      "source": [
        "# Limit the length of a day's news to 100 words, and the length of any headline to 16 words.\r\n",
        "# These values are chosen to not have an excessively long training time and \r\n",
        "# balance the number of headlines used and the number of words from each headline.\r\n",
        "max_headline_length = 16\r\n",
        "max_daily_length = 100\r\n",
        "pad_headlines = []\r\n",
        "\r\n",
        "for date in int_headlines:\r\n",
        "    pad_daily_headlines = []\r\n",
        "    for headline in date:\r\n",
        "        # Add headline if it is less than max length\r\n",
        "        if len(headline) <= max_headline_length:\r\n",
        "            for word in headline:\r\n",
        "                pad_daily_headlines.append(word)\r\n",
        "        # Limit headline if it is more than max length  \r\n",
        "        else:\r\n",
        "            headline = headline[:max_headline_length]\r\n",
        "            for word in headline:\r\n",
        "                pad_daily_headlines.append(word)\r\n",
        "    \r\n",
        "    # Pad daily_headlines if they are less than max length\r\n",
        "    if len(pad_daily_headlines) < max_daily_length:\r\n",
        "        for i in range(max_daily_length-len(pad_daily_headlines)):\r\n",
        "            pad = vocab_to_int[\"<PAD>\"]\r\n",
        "            pad_daily_headlines.append(pad)\r\n",
        "    # Limit daily_headlines if they are more than max length\r\n",
        "    else:\r\n",
        "        pad_daily_headlines = pad_daily_headlines[:max_daily_length]\r\n",
        "    pad_headlines.append(pad_daily_headlines)"
      ],
      "execution_count": 60,
      "outputs": []
    },
    {
      "cell_type": "code",
      "metadata": {
        "id": "_VfzxoxE7-Q4"
      },
      "source": [
        "# Normalize opening prices (target values)\r\n",
        "max_price = max(price)\r\n",
        "min_price = min(price)\r\n",
        "mean_price = np.mean(price)\r\n",
        "def normalize(price):\r\n",
        "    return ((price-min_price)/(max_price-min_price))"
      ],
      "execution_count": 61,
      "outputs": []
    },
    {
      "cell_type": "code",
      "metadata": {
        "id": "AFAUvkot8Bdh"
      },
      "source": [
        "norm_price = []\r\n",
        "for p in price:\r\n",
        "    norm_price.append(normalize(p))"
      ],
      "execution_count": 62,
      "outputs": []
    },
    {
      "cell_type": "code",
      "metadata": {
        "colab": {
          "base_uri": "https://localhost:8080/"
        },
        "id": "9O5hQkU38E9w",
        "outputId": "53ed5052-9a96-4054-f3da-25b6646d421d"
      },
      "source": [
        "# Check that normalization worked well\r\n",
        "print(min(norm_price))\r\n",
        "print(max(norm_price))\r\n",
        "print(np.mean(norm_price))"
      ],
      "execution_count": 63,
      "outputs": [
        {
          "output_type": "stream",
          "text": [
            "0.0\n",
            "1.0\n",
            "0.5654056599419871\n"
          ],
          "name": "stdout"
        }
      ]
    },
    {
      "cell_type": "code",
      "metadata": {
        "colab": {
          "base_uri": "https://localhost:8080/"
        },
        "id": "h94q09_h8P4p",
        "outputId": "c20505fd-6242-4f5b-aafd-a54c3df8d091"
      },
      "source": [
        "len(pad_headlines), len(norm_price)"
      ],
      "execution_count": 64,
      "outputs": [
        {
          "output_type": "execute_result",
          "data": {
            "text/plain": [
              "(1711, 1711)"
            ]
          },
          "metadata": {
            "tags": []
          },
          "execution_count": 64
        }
      ]
    },
    {
      "cell_type": "code",
      "metadata": {
        "id": "eOxgl-Eq8I56"
      },
      "source": [
        "# Split data into training and testing sets.\r\n",
        "# Validating data will be created during training.\r\n",
        "x_train, x_test, y_train, y_test = train_test_split(pad_headlines, norm_price, test_size = 0.15, random_state = 2)\r\n",
        "\r\n",
        "x_train = np.array(x_train)\r\n",
        "x_test = np.array(x_test)\r\n",
        "y_train = np.array(y_train)\r\n",
        "y_test = np.array(y_test)"
      ],
      "execution_count": 65,
      "outputs": []
    },
    {
      "cell_type": "code",
      "metadata": {
        "colab": {
          "base_uri": "https://localhost:8080/"
        },
        "id": "BQ4KZ4vs9bhn",
        "outputId": "231294d0-3b82-47fd-89b9-9644f470e672"
      },
      "source": [
        "# Check the lengths\r\n",
        "print(len(x_train))\r\n",
        "print(len(x_test))"
      ],
      "execution_count": 66,
      "outputs": [
        {
          "output_type": "stream",
          "text": [
            "1454\n",
            "257\n"
          ],
          "name": "stdout"
        }
      ]
    },
    {
      "cell_type": "code",
      "metadata": {
        "colab": {
          "base_uri": "https://localhost:8080/"
        },
        "id": "2N7Xa8Ep-rk7",
        "outputId": "f38533cc-956d-40f0-bddd-75c481684b16"
      },
      "source": [
        "filter_length1 = 3\r\n",
        "filter_length2 = 5\r\n",
        "dropout = 0.5\r\n",
        "learning_rate = 0.0001\r\n",
        "weights = initializers.TruncatedNormal(mean=0.0, stddev=0.1, seed=2)\r\n",
        "nb_filter = 16\r\n",
        "rnn_output_size = 128\r\n",
        "hidden_dims = 128\r\n",
        "wider = True\r\n",
        "deeper = True\r\n",
        "\r\n",
        "\r\n",
        "model1 = Sequential()\r\n",
        "    \r\n",
        "model1.add(Embedding(nb_words,\r\n",
        "                     embedding_dim,\r\n",
        "                     weights=[word_embedding_matrix], \r\n",
        "                     input_length=max_daily_length, name='Model1_embedding'))\r\n",
        "model1.add(Dropout(dropout,name='Model1_dropout1'))\r\n",
        "    \r\n",
        "model1.add(Convolution1D(filters = nb_filter, \r\n",
        "                     kernel_size = filter_length1, \r\n",
        "                     padding = 'same',\r\n",
        "                     activation = 'relu', name='Model1_conv1d'))\r\n",
        "model1.add(Dropout(dropout,name='Model1_dropout2'))\r\n",
        "    \r\n",
        "if deeper == True:\r\n",
        "  model1.add(Convolution1D(filters = nb_filter,\r\n",
        "                      kernel_size = filter_length1, \r\n",
        "                      padding = 'same',\r\n",
        "                      activation = 'relu'))\r\n",
        "model1.add(Dropout(dropout,name='Model1_dropout3'))\r\n",
        "    \r\n",
        "model1.add(LSTM(rnn_output_size, \r\n",
        "                     activation=None,\r\n",
        "                     kernel_initializer=weights,\r\n",
        "                     dropout = dropout, name='Model1_LSTM'))\r\n",
        "# model1.compile(loss='mean_squared_error',\r\n",
        "#                   optimizer=Adam(lr=learning_rate,clipvalue=1.0) )"
      ],
      "execution_count": 67,
      "outputs": [
        {
          "output_type": "stream",
          "text": [
            "WARNING:tensorflow:Layer Model1_LSTM will not use cuDNN kernel since it doesn't meet the cuDNN kernel criteria. It will use generic GPU kernel as fallback when running on GPU\n"
          ],
          "name": "stdout"
        }
      ]
    },
    {
      "cell_type": "code",
      "metadata": {
        "colab": {
          "base_uri": "https://localhost:8080/"
        },
        "id": "knWu-t13-6Qr",
        "outputId": "da74e886-ffb8-4561-aaab-deb3c484fded"
      },
      "source": [
        "model2 = Sequential()\r\n",
        "    \r\n",
        "model2.add(Embedding(nb_words,\r\n",
        "                     embedding_dim,\r\n",
        "                     weights=[word_embedding_matrix], \r\n",
        "                     input_length=max_daily_length,name='Model2_embedding'))\r\n",
        "model2.add(Dropout(dropout,name='Model2_dropout'))\r\n",
        "    \r\n",
        "model2.add(Convolution1D(filters = nb_filter, \r\n",
        "                     kernel_size = filter_length1, \r\n",
        "                     padding = 'same',\r\n",
        "                     activation = 'relu', name='Model2_conv1d'))\r\n",
        "model2.add(Dropout(dropout,name='Model2_dropout2'))\r\n",
        "\r\n",
        "    \r\n",
        "if deeper == True:\r\n",
        "  model2.add(Convolution1D(filters = nb_filter,\r\n",
        "                      kernel_size = filter_length1, \r\n",
        "                      padding = 'same',\r\n",
        "                      activation = 'relu'))\r\n",
        "model2.add(Dropout(dropout, name='Model2_dropout3'))\r\n",
        "    \r\n",
        "model2.add(LSTM(rnn_output_size, \r\n",
        "                     activation=None,\r\n",
        "                     kernel_initializer=weights,\r\n",
        "                     dropout = dropout, name='Model2_LSTM'))\r\n",
        "# model2.compile(loss='mean_squared_error',\r\n",
        "#                   optimizer=Adam(lr=learning_rate,clipvalue=1.0) )\r\n"
      ],
      "execution_count": 68,
      "outputs": [
        {
          "output_type": "stream",
          "text": [
            "WARNING:tensorflow:Layer Model2_LSTM will not use cuDNN kernel since it doesn't meet the cuDNN kernel criteria. It will use generic GPU kernel as fallback when running on GPU\n"
          ],
          "name": "stdout"
        }
      ]
    },
    {
      "cell_type": "code",
      "metadata": {
        "colab": {
          "base_uri": "https://localhost:8080/"
        },
        "id": "uFYzr60L_ImF",
        "outputId": "9d889a5c-66c4-435d-f8d3-9eb634dc5e1a"
      },
      "source": [
        "concatenated = concatenate([model1.output, model2.output], axis=-1)\r\n",
        "    \r\n",
        "output = Dense(64, activation= 'relu',kernel_initializer=weights,name='model_dense0')(concatenated)\r\n",
        "output = Dropout(0.4,name='model_dropout01')(output)\r\n",
        "output = Dense(1, kernel_initializer=weights,name='model_dense1')(output)\r\n",
        "# output = Dropout(0.4,name='model_dropout02')(output)\r\n",
        "# output = Dense(1, kernel_initializer=weights,name='model_dense2')(output)\r\n",
        "# output = Dropout(0.4,name='model_dropout03')(output)\r\n",
        "\r\n",
        "model = Model(inputs=[model1.input, model2.input], outputs=output)\r\n",
        "\r\n",
        "model.summary()"
      ],
      "execution_count": 69,
      "outputs": [
        {
          "output_type": "stream",
          "text": [
            "Model: \"model\"\n",
            "__________________________________________________________________________________________________\n",
            "Layer (type)                    Output Shape         Param #     Connected to                     \n",
            "==================================================================================================\n",
            "Model1_embedding_input (InputLa [(None, 100)]        0                                            \n",
            "__________________________________________________________________________________________________\n",
            "Model2_embedding_input (InputLa [(None, 100)]        0                                            \n",
            "__________________________________________________________________________________________________\n",
            "Model1_embedding (Embedding)    (None, 100, 100)     1685600     Model1_embedding_input[0][0]     \n",
            "__________________________________________________________________________________________________\n",
            "Model2_embedding (Embedding)    (None, 100, 100)     1685600     Model2_embedding_input[0][0]     \n",
            "__________________________________________________________________________________________________\n",
            "Model1_dropout1 (Dropout)       (None, 100, 100)     0           Model1_embedding[0][0]           \n",
            "__________________________________________________________________________________________________\n",
            "Model2_dropout (Dropout)        (None, 100, 100)     0           Model2_embedding[0][0]           \n",
            "__________________________________________________________________________________________________\n",
            "Model1_conv1d (Conv1D)          (None, 100, 16)      4816        Model1_dropout1[0][0]            \n",
            "__________________________________________________________________________________________________\n",
            "Model2_conv1d (Conv1D)          (None, 100, 16)      4816        Model2_dropout[0][0]             \n",
            "__________________________________________________________________________________________________\n",
            "Model1_dropout2 (Dropout)       (None, 100, 16)      0           Model1_conv1d[0][0]              \n",
            "__________________________________________________________________________________________________\n",
            "Model2_dropout2 (Dropout)       (None, 100, 16)      0           Model2_conv1d[0][0]              \n",
            "__________________________________________________________________________________________________\n",
            "conv1d (Conv1D)                 (None, 100, 16)      784         Model1_dropout2[0][0]            \n",
            "__________________________________________________________________________________________________\n",
            "conv1d_1 (Conv1D)               (None, 100, 16)      784         Model2_dropout2[0][0]            \n",
            "__________________________________________________________________________________________________\n",
            "Model1_dropout3 (Dropout)       (None, 100, 16)      0           conv1d[0][0]                     \n",
            "__________________________________________________________________________________________________\n",
            "Model2_dropout3 (Dropout)       (None, 100, 16)      0           conv1d_1[0][0]                   \n",
            "__________________________________________________________________________________________________\n",
            "Model1_LSTM (LSTM)              (None, 128)          74240       Model1_dropout3[0][0]            \n",
            "__________________________________________________________________________________________________\n",
            "Model2_LSTM (LSTM)              (None, 128)          74240       Model2_dropout3[0][0]            \n",
            "__________________________________________________________________________________________________\n",
            "concatenate (Concatenate)       (None, 256)          0           Model1_LSTM[0][0]                \n",
            "                                                                 Model2_LSTM[0][0]                \n",
            "__________________________________________________________________________________________________\n",
            "model_dense0 (Dense)            (None, 64)           16448       concatenate[0][0]                \n",
            "__________________________________________________________________________________________________\n",
            "model_dropout01 (Dropout)       (None, 64)           0           model_dense0[0][0]               \n",
            "__________________________________________________________________________________________________\n",
            "model_dense1 (Dense)            (None, 1)            65          model_dropout01[0][0]            \n",
            "==================================================================================================\n",
            "Total params: 3,547,393\n",
            "Trainable params: 3,547,393\n",
            "Non-trainable params: 0\n",
            "__________________________________________________________________________________________________\n"
          ],
          "name": "stdout"
        }
      ]
    },
    {
      "cell_type": "code",
      "metadata": {
        "id": "9611hQUt_k8N"
      },
      "source": [
        ""
      ],
      "execution_count": 69,
      "outputs": []
    },
    {
      "cell_type": "code",
      "metadata": {
        "colab": {
          "base_uri": "https://localhost:8080/",
          "height": 1000
        },
        "id": "yqr62N1j_la1",
        "outputId": "8711c116-a7e5-46c3-9f21-d924afd3c24a"
      },
      "source": [
        "plot_model(model,show_shapes=True, expand_nested=True)\r\n"
      ],
      "execution_count": 70,
      "outputs": [
        {
          "output_type": "execute_result",
          "data": {
            "image/png": "[encoded data removed]",
            "text/plain": [
              "<IPython.core.display.Image object>"
            ]
          },
          "metadata": {
            "tags": []
          },
          "execution_count": 70
        }
      ]
    },
    {
      "cell_type": "code",
      "metadata": {
        "id": "r1eIpPUV_8RF"
      },
      "source": [
        "\r\n",
        "model.compile(loss='mean_squared_error',\r\n",
        "                  optimizer=Adam(lr=learning_rate))"
      ],
      "execution_count": 71,
      "outputs": []
    },
    {
      "cell_type": "code",
      "metadata": {
        "id": "4l6-QiaA__Uu"
      },
      "source": [
        "filepath=\"weights-improvement-{epoch:02d}-{loss:.2f}.hdf5\"\r\n",
        "\r\n",
        "callbacks = [ModelCheckpoint(filepath=filepath,  monitor='val_loss', save_best_only=True),\r\n",
        "                             EarlyStopping(monitor='val_loss', patience=5, verbose=1, mode='auto'),\r\n",
        "                             ReduceLROnPlateau(monitor='val_loss', factor=0.2, verbose=1, patience=30)]\r\n"
      ],
      "execution_count": 78,
      "outputs": []
    },
    {
      "cell_type": "code",
      "metadata": {
        "colab": {
          "base_uri": "https://localhost:8080/"
        },
        "id": "qHWifbXLAb0t",
        "outputId": "e4dd7cbf-574b-4f23-cb80-a82cc816cb02"
      },
      "source": [
        "history = model.fit([x_train,x_train],\r\n",
        "                                    y_train,\r\n",
        "                                    batch_size=32,\r\n",
        "                                    epochs=1000,\r\n",
        "                                    validation_split=0.15,\r\n",
        "                                    verbose=True,\r\n",
        "                                    shuffle=True,\r\n",
        "                                    callbacks = callbacks)"
      ],
      "execution_count": 79,
      "outputs": [
        {
          "output_type": "stream",
          "text": [
            "Epoch 1/1000\n",
            "39/39 [==============================] - 13s 328ms/step - loss: 0.0388 - val_loss: 0.1018\n",
            "Epoch 2/1000\n",
            "39/39 [==============================] - 13s 323ms/step - loss: 0.0414 - val_loss: 0.1018\n",
            "Epoch 3/1000\n",
            "39/39 [==============================] - 12s 311ms/step - loss: 0.0391 - val_loss: 0.1018\n",
            "Epoch 4/1000\n",
            "39/39 [==============================] - 13s 340ms/step - loss: 0.0365 - val_loss: 0.1018\n",
            "Epoch 5/1000\n",
            "39/39 [==============================] - 12s 319ms/step - loss: 0.0356 - val_loss: 0.1017\n",
            "Epoch 6/1000\n",
            "39/39 [==============================] - 13s 340ms/step - loss: 0.0368 - val_loss: 0.1016\n",
            "Epoch 7/1000\n",
            "39/39 [==============================] - 13s 330ms/step - loss: 0.0374 - val_loss: 0.1016\n",
            "Epoch 8/1000\n",
            "39/39 [==============================] - 14s 352ms/step - loss: 0.0365 - val_loss: 0.1016\n",
            "Epoch 9/1000\n",
            "39/39 [==============================] - 13s 342ms/step - loss: 0.0369 - val_loss: 0.1016\n",
            "Epoch 10/1000\n",
            "39/39 [==============================] - 14s 355ms/step - loss: 0.0365 - val_loss: 0.1016\n",
            "Epoch 11/1000\n",
            "39/39 [==============================] - 13s 328ms/step - loss: 0.0372 - val_loss: 0.1016\n",
            "Epoch 12/1000\n",
            "39/39 [==============================] - 12s 317ms/step - loss: 0.0369 - val_loss: 0.1015\n",
            "Epoch 13/1000\n",
            "39/39 [==============================] - 13s 323ms/step - loss: 0.0392 - val_loss: 0.1015\n",
            "Epoch 14/1000\n",
            "39/39 [==============================] - 13s 342ms/step - loss: 0.0372 - val_loss: 0.1015\n",
            "Epoch 15/1000\n",
            "39/39 [==============================] - 13s 323ms/step - loss: 0.0379 - val_loss: 0.1014\n",
            "Epoch 16/1000\n",
            "39/39 [==============================] - 13s 332ms/step - loss: 0.0389 - val_loss: 0.1014\n",
            "Epoch 17/1000\n",
            "39/39 [==============================] - 13s 341ms/step - loss: 0.0365 - val_loss: 0.1014\n",
            "Epoch 18/1000\n",
            "39/39 [==============================] - 14s 360ms/step - loss: 0.0377 - val_loss: 0.1014\n",
            "Epoch 19/1000\n",
            "39/39 [==============================] - 14s 357ms/step - loss: 0.0335 - val_loss: 0.1013\n",
            "Epoch 20/1000\n",
            "39/39 [==============================] - 13s 327ms/step - loss: 0.0375 - val_loss: 0.1012\n",
            "Epoch 21/1000\n",
            "39/39 [==============================] - 13s 325ms/step - loss: 0.0400 - val_loss: 0.1012\n",
            "Epoch 22/1000\n",
            "39/39 [==============================] - 13s 337ms/step - loss: 0.0354 - val_loss: 0.1012\n",
            "Epoch 23/1000\n",
            "39/39 [==============================] - 13s 342ms/step - loss: 0.0391 - val_loss: 0.1011\n",
            "Epoch 24/1000\n",
            "39/39 [==============================] - 13s 324ms/step - loss: 0.0381 - val_loss: 0.1012\n",
            "Epoch 25/1000\n",
            "39/39 [==============================] - 12s 318ms/step - loss: 0.0382 - val_loss: 0.1012\n",
            "Epoch 26/1000\n",
            "39/39 [==============================] - 13s 337ms/step - loss: 0.0375 - val_loss: 0.1011\n",
            "Epoch 27/1000\n",
            "39/39 [==============================] - 13s 330ms/step - loss: 0.0383 - val_loss: 0.1010\n",
            "Epoch 28/1000\n",
            "39/39 [==============================] - 12s 312ms/step - loss: 0.0357 - val_loss: 0.1010\n",
            "Epoch 29/1000\n",
            "39/39 [==============================] - 13s 340ms/step - loss: 0.0402 - val_loss: 0.1010\n",
            "Epoch 30/1000\n",
            "39/39 [==============================] - 14s 362ms/step - loss: 0.0363 - val_loss: 0.1009\n",
            "Epoch 31/1000\n",
            "39/39 [==============================] - 13s 333ms/step - loss: 0.0395 - val_loss: 0.1009\n",
            "Epoch 32/1000\n",
            "39/39 [==============================] - 14s 349ms/step - loss: 0.0375 - val_loss: 0.1009\n",
            "Epoch 33/1000\n",
            "39/39 [==============================] - 13s 336ms/step - loss: 0.0351 - val_loss: 0.1009\n",
            "Epoch 34/1000\n",
            "39/39 [==============================] - 13s 324ms/step - loss: 0.0341 - val_loss: 0.1008\n",
            "Epoch 35/1000\n",
            "39/39 [==============================] - 13s 338ms/step - loss: 0.0403 - val_loss: 0.1008\n",
            "Epoch 36/1000\n",
            "39/39 [==============================] - 13s 323ms/step - loss: 0.0381 - val_loss: 0.1007\n",
            "Epoch 37/1000\n",
            "39/39 [==============================] - 13s 323ms/step - loss: 0.0341 - val_loss: 0.1007\n",
            "Epoch 38/1000\n",
            "39/39 [==============================] - 13s 338ms/step - loss: 0.0378 - val_loss: 0.1007\n",
            "Epoch 39/1000\n",
            "39/39 [==============================] - 13s 328ms/step - loss: 0.0382 - val_loss: 0.1007\n",
            "Epoch 40/1000\n",
            "39/39 [==============================] - 13s 328ms/step - loss: 0.0375 - val_loss: 0.1007\n",
            "Epoch 41/1000\n",
            "39/39 [==============================] - 13s 326ms/step - loss: 0.0349 - val_loss: 0.1005\n",
            "Epoch 42/1000\n",
            "39/39 [==============================] - 12s 318ms/step - loss: 0.0353 - val_loss: 0.1005\n",
            "Epoch 43/1000\n",
            "39/39 [==============================] - 14s 368ms/step - loss: 0.0349 - val_loss: 0.1004\n",
            "Epoch 44/1000\n",
            "39/39 [==============================] - 12s 316ms/step - loss: 0.0341 - val_loss: 0.1004\n",
            "Epoch 45/1000\n",
            "39/39 [==============================] - 13s 321ms/step - loss: 0.0360 - val_loss: 0.1004\n",
            "Epoch 46/1000\n",
            "39/39 [==============================] - 13s 330ms/step - loss: 0.0357 - val_loss: 0.1004\n",
            "Epoch 47/1000\n",
            "39/39 [==============================] - 14s 358ms/step - loss: 0.0384 - val_loss: 0.1003\n",
            "Epoch 48/1000\n",
            "39/39 [==============================] - 14s 355ms/step - loss: 0.0369 - val_loss: 0.1002\n",
            "Epoch 49/1000\n",
            "39/39 [==============================] - 12s 320ms/step - loss: 0.0367 - val_loss: 0.1002\n",
            "Epoch 50/1000\n",
            "39/39 [==============================] - 12s 317ms/step - loss: 0.0364 - val_loss: 0.1001\n",
            "Epoch 51/1000\n",
            "39/39 [==============================] - 13s 321ms/step - loss: 0.0380 - val_loss: 0.1001\n",
            "Epoch 52/1000\n",
            "39/39 [==============================] - 13s 323ms/step - loss: 0.0365 - val_loss: 0.1001\n",
            "Epoch 53/1000\n",
            "39/39 [==============================] - 12s 320ms/step - loss: 0.0356 - val_loss: 0.1002\n",
            "Epoch 54/1000\n",
            "39/39 [==============================] - 13s 330ms/step - loss: 0.0385 - val_loss: 0.1002\n",
            "Epoch 55/1000\n",
            "39/39 [==============================] - 13s 332ms/step - loss: 0.0388 - val_loss: 0.1001\n",
            "Epoch 56/1000\n",
            "39/39 [==============================] - 14s 350ms/step - loss: 0.0373 - val_loss: 0.1001\n",
            "Epoch 57/1000\n",
            "39/39 [==============================] - 13s 343ms/step - loss: 0.0384 - val_loss: 0.1000\n",
            "Epoch 58/1000\n",
            "39/39 [==============================] - 14s 345ms/step - loss: 0.0363 - val_loss: 0.1000\n",
            "Epoch 59/1000\n",
            "39/39 [==============================] - 13s 338ms/step - loss: 0.0372 - val_loss: 0.1001\n",
            "Epoch 60/1000\n",
            "39/39 [==============================] - 13s 339ms/step - loss: 0.0376 - val_loss: 0.1002\n",
            "Epoch 61/1000\n",
            "39/39 [==============================] - 12s 319ms/step - loss: 0.0380 - val_loss: 0.1002\n",
            "Epoch 62/1000\n",
            "39/39 [==============================] - 13s 338ms/step - loss: 0.0352 - val_loss: 0.1001\n",
            "Epoch 63/1000\n",
            "39/39 [==============================] - 13s 338ms/step - loss: 0.0375 - val_loss: 0.1001\n",
            "Epoch 00063: early stopping\n"
          ],
          "name": "stdout"
        }
      ]
    },
    {
      "cell_type": "code",
      "metadata": {
        "colab": {
          "base_uri": "https://localhost:8080/",
          "height": 283
        },
        "id": "blPl5X7pAggl",
        "outputId": "e422d5d8-2977-4d67-ed54-8b46412dab8a"
      },
      "source": [
        "pd.DataFrame(history.history).plot()"
      ],
      "execution_count": 74,
      "outputs": [
        {
          "output_type": "execute_result",
          "data": {
            "text/plain": [
              "<matplotlib.axes._subplots.AxesSubplot at 0x7f46e00906d8>"
            ]
          },
          "metadata": {
            "tags": []
          },
          "execution_count": 74
        },
        {
          "output_type": "display_data",
          "data": {
            "image/png": "[encoded data removed]",
            "text/plain": [
              "<Figure size 432x288 with 1 Axes>"
            ]
          },
          "metadata": {
            "tags": [],
            "needs_background": "light"
          }
        }
      ]
    },
    {
      "cell_type": "code",
      "metadata": {
        "colab": {
          "base_uri": "https://localhost:8080/"
        },
        "id": "NXU0v3NADRHB",
        "outputId": "0915b102-0ab9-40f4-a122-cc4fdb8bbea9"
      },
      "source": [
        "print('Total time taken:', time.time() - t1 )"
      ],
      "execution_count": 75,
      "outputs": [
        {
          "output_type": "stream",
          "text": [
            "Total time taken: 59.76650094985962\n"
          ],
          "name": "stdout"
        }
      ]
    },
    {
      "cell_type": "code",
      "metadata": {
        "id": "qRQJuw0OOn6c"
      },
      "source": [
        "model.load_weights('/content/weights-improvement-58-0.04.hdf5')"
      ],
      "execution_count": 80,
      "outputs": []
    },
    {
      "cell_type": "code",
      "metadata": {
        "colab": {
          "base_uri": "https://localhost:8080/"
        },
        "id": "Pe8ctJNAOt0-",
        "outputId": "f6328092-5b0b-4b7e-ef03-1241d19cddfc"
      },
      "source": [
        "predictions= model.predict([x_test,x_test], verbose = True)"
      ],
      "execution_count": 82,
      "outputs": [
        {
          "output_type": "stream",
          "text": [
            "9/9 [==============================] - 0s 34ms/step\n"
          ],
          "name": "stdout"
        }
      ]
    },
    {
      "cell_type": "code",
      "metadata": {
        "colab": {
          "base_uri": "https://localhost:8080/"
        },
        "id": "u3Td8fiMO2-o",
        "outputId": "a6830c2c-e323-4e48-b68f-c2322f1bafa6"
      },
      "source": [
        "# Compare testing loss to training and validating loss\r\n",
        "mse(y_test, predictions)"
      ],
      "execution_count": 83,
      "outputs": [
        {
          "output_type": "execute_result",
          "data": {
            "text/plain": [
              "0.10196320822967508"
            ]
          },
          "metadata": {
            "tags": []
          },
          "execution_count": 83
        }
      ]
    },
    {
      "cell_type": "code",
      "metadata": {
        "id": "egja0_xsPGb5"
      },
      "source": [
        "def unnormalize(price):\r\n",
        "    '''Revert values to their unnormalized amounts'''\r\n",
        "    price = price*(max_price-min_price)+min_price\r\n",
        "    return(price)"
      ],
      "execution_count": 84,
      "outputs": []
    },
    {
      "cell_type": "code",
      "metadata": {
        "id": "jaEcAAJaPK8q"
      },
      "source": [
        "unnorm_predictions = []\r\n",
        "for pred in predictions:\r\n",
        "    unnorm_predictions.append(unnormalize(pred))\r\n",
        "    \r\n",
        "unnorm_y_test = []\r\n",
        "for y in y_test:\r\n",
        "    unnorm_y_test.append(unnormalize(y))"
      ],
      "execution_count": 88,
      "outputs": []
    },
    {
      "cell_type": "code",
      "metadata": {
        "colab": {
          "base_uri": "https://localhost:8080/"
        },
        "id": "Enve-6y-PNdS",
        "outputId": "5daf05f8-fbc2-4277-ddb2-d84d3ea32d8a"
      },
      "source": [
        "# Calculate the median absolute error for the predictions\r\n",
        "mae(unnorm_y_test, unnorm_predictions)"
      ],
      "execution_count": 89,
      "outputs": [
        {
          "output_type": "execute_result",
          "data": {
            "text/plain": [
              "567.84814453125"
            ]
          },
          "metadata": {
            "tags": []
          },
          "execution_count": 89
        }
      ]
    },
    {
      "cell_type": "code",
      "metadata": {
        "colab": {
          "base_uri": "https://localhost:8080/"
        },
        "id": "TlTYZ_91P6T8",
        "outputId": "76fab182-34c5-4ba8-c35e-d81a01c72c75"
      },
      "source": [
        "print(\"Summary of actual opening price changes\")\r\n",
        "print(pd.DataFrame(unnorm_y_test, columns=[\"\"]).describe())\r\n",
        "print()\r\n",
        "print(\"Summary of predicted opening price changes\")\r\n",
        "print(pd.DataFrame(unnorm_predictions, columns=[\"\"]).describe())"
      ],
      "execution_count": 90,
      "outputs": [
        {
          "output_type": "stream",
          "text": [
            "Summary of actual opening price changes\n",
            "                 \n",
            "count  257.000000\n",
            "mean    11.913023\n",
            "std     99.432563\n",
            "min   -279.250000\n",
            "25%    -40.000000\n",
            "50%     10.899414\n",
            "75%     63.599609\n",
            "max    795.900390\n",
            "\n",
            "Summary of predicted opening price changes\n",
            "                 \n",
            "count  257.000000\n",
            "mean  -559.163679\n",
            "std     53.856011\n",
            "min   -595.373047\n",
            "25%   -592.063354\n",
            "50%   -582.299316\n",
            "75%   -548.719666\n",
            "max   -287.663696\n"
          ],
          "name": "stdout"
        }
      ]
    },
    {
      "cell_type": "code",
      "metadata": {
        "colab": {
          "base_uri": "https://localhost:8080/",
          "height": 295
        },
        "id": "JBsVqHi2QFqr",
        "outputId": "94324acd-f99c-4f22-80e3-2bf5e3057833"
      },
      "source": [
        "# Plot the predicted (blue) and actual (green) values\r\n",
        "plt.figure(figsize=(12,4))\r\n",
        "plt.plot(unnorm_predictions)\r\n",
        "plt.plot(unnorm_y_test)\r\n",
        "plt.title(\"Predicted (blue) vs Actual (green) Opening Price Changes\")\r\n",
        "plt.xlabel(\"Testing instances\")\r\n",
        "plt.ylabel(\"Change in Opening Price\")\r\n",
        "plt.show()"
      ],
      "execution_count": 91,
      "outputs": [
        {
          "output_type": "display_data",
          "data": {
            "image/png": "[encoded data removed]",
            "text/plain": [
              "<Figure size 864x288 with 1 Axes>"
            ]
          },
          "metadata": {
            "tags": [],
            "needs_background": "light"
          }
        }
      ]
    },
    {
      "cell_type": "code",
      "metadata": {
        "id": "TAZ4jpvjQUVn"
      },
      "source": [
        "# Create lists to measure if opening price increased or decreased\r\n",
        "direction_pred = []\r\n",
        "for pred in unnorm_predictions:\r\n",
        "    if pred >= 0:\r\n",
        "        direction_pred.append(1)\r\n",
        "    else:\r\n",
        "        direction_pred.append(0)\r\n",
        "direction_test = []\r\n",
        "for value in unnorm_y_test:\r\n",
        "    if value >= 0:\r\n",
        "        direction_test.append(1)\r\n",
        "    else:\r\n",
        "        direction_test.append(0)"
      ],
      "execution_count": 92,
      "outputs": []
    },
    {
      "cell_type": "code",
      "metadata": {
        "colab": {
          "base_uri": "https://localhost:8080/"
        },
        "id": "vGqptC-cQUP3",
        "outputId": "aaf8c375-61c2-43a7-b9d0-1f127f87908e"
      },
      "source": [
        "# Calculate if the predicted direction matched the actual direction\r\n",
        "direction = acc(direction_test, direction_pred)\r\n",
        "direction = round(direction,4)*100\r\n",
        "print(\"Predicted values matched the actual direction {}% of the time.\".format(direction))"
      ],
      "execution_count": 93,
      "outputs": [
        {
          "output_type": "stream",
          "text": [
            "Predicted values matched the actual direction 44.36% of the time.\n"
          ],
          "name": "stdout"
        }
      ]
    },
    {
      "cell_type": "markdown",
      "metadata": {
        "id": "jRl8IEy9QeTZ"
      },
      "source": [
        "Own prediction\r\n"
      ]
    },
    {
      "cell_type": "code",
      "metadata": {
        "id": "mdzx5eBNQeCn"
      },
      "source": [
        "def news_to_int(news):\r\n",
        "    '''Convert your created news into integers'''\r\n",
        "    ints = []\r\n",
        "    for word in news.split():\r\n",
        "        if word in vocab_to_int:\r\n",
        "            ints.append(vocab_to_int[word])\r\n",
        "        else:\r\n",
        "            ints.append(vocab_to_int['<UNK>'])\r\n",
        "    return ints"
      ],
      "execution_count": 94,
      "outputs": []
    },
    {
      "cell_type": "code",
      "metadata": {
        "id": "X6cjkmgLQiR_"
      },
      "source": [
        "def padding_news(news):\r\n",
        "    '''Adjusts the length of your created news to fit the model's input values.'''\r\n",
        "    padded_news = news\r\n",
        "    if len(padded_news) < max_daily_length:\r\n",
        "        for i in range(max_daily_length-len(padded_news)):\r\n",
        "            padded_news.append(vocab_to_int[\"<PAD>\"])\r\n",
        "    elif len(padded_news) > max_daily_length:\r\n",
        "        padded_news = padded_news[:max_daily_length]\r\n",
        "    return padded_news"
      ],
      "execution_count": 95,
      "outputs": []
    },
    {
      "cell_type": "code",
      "metadata": {
        "id": "FF9XCWRuQoPw"
      },
      "source": [
        "# Default news that you can use\r\n",
        "create_news = \"Leaked document reveals Facebook conducted research to target emotionally vulnerable and insecure youth. \\\r\n",
        "               Woman says note from Chinese 'prisoner' was hidden in new purse. \\\r\n",
        "               21,000 AT&T workers poised for Monday strike \\\r\n",
        "               housands march against Trump climate policies in D.C., across USA \\\r\n",
        "               Kentucky judge won't hear gay adoptions because it's not in the child's \\\"best interest\\\" \\\r\n",
        "               Multiple victims shot in UTC area apartment complex \\\r\n",
        "               Drones Lead Police to Illegal Dumping in Riverside County | NBC Southern California \\\r\n",
        "               An 86-year-old Californian woman has died trying to fight a man who was allegedly sexually assaulting her 61-year-old friend. \\\r\n",
        "               Fyre Festival Named in $5Million+ Lawsuit after Stranding Festival-Goers on Island with Little Food, No Security. \\\r\n",
        "               The \\\"Greatest Show on Earth\\\" folds its tent for good \\\r\n",
        "               U.S.-led fight on ISIS have killed 352 civilians: Pentagon \\\r\n",
        "               Woman offers undercover officer sex for $25 and some Chicken McNuggets \\\r\n",
        "               Ohio bridge refuses to fall down after three implosion attempts \\\r\n",
        "               Jersey Shore MIT grad dies in prank falling from library dome \\\r\n",
        "               New York graffiti artists claim McDonald's stole work for latest burger campaign \\\r\n",
        "               SpaceX to launch secretive satellite for U.S. intelligence agency \\\r\n",
        "               Severe Storms Leave a Trail of Death and Destruction Through the U.S. \\\r\n",
        "               Hamas thanks N. Korea for its support against ‘Israeli occupation’ \\\r\n",
        "               Baker Police officer arrested for allegedly covering up details in shots fired investigation \\\r\n",
        "               Miami doctor’s call to broker during baby’s delivery leads to $33.8 million judgment \\\r\n",
        "               Minnesota man gets 15 years for shooting 5 Black Lives Matter protesters \\\r\n",
        "               South Australian woman facing possible 25 years in Colombian prison for drug trafficking \\\r\n",
        "               The Latest: Deal reached on funding government through Sept. \\\r\n",
        "               Russia flaunts Arctic expansion with new military bases\""
      ],
      "execution_count": 96,
      "outputs": []
    },
    {
      "cell_type": "code",
      "metadata": {
        "id": "2dXCi4kGQr_N"
      },
      "source": [
        "def predict(create_news):\r\n",
        "  clean_news = clean_text(create_news)\r\n",
        "\r\n",
        "  int_news = news_to_int(clean_news)\r\n",
        "\r\n",
        "  pad_news = padding_news(int_news)\r\n",
        "\r\n",
        "  pad_news = np.array(pad_news).reshape((1,-1))\r\n",
        "\r\n",
        "  pred = model.predict([pad_news,pad_news])\r\n",
        "\r\n",
        "  price_change = unnormalize(pred)\r\n",
        "\r\n",
        "  print(\"The Nifty should open: {} from the previous open.\".format(np.round(price_change[0][0],2)))"
      ],
      "execution_count": 99,
      "outputs": []
    },
    {
      "cell_type": "code",
      "metadata": {
        "colab": {
          "base_uri": "https://localhost:8080/"
        },
        "id": "JlNy1xKHQz6p",
        "outputId": "9461cc72-f663-4c88-fca7-8817c7280ba4"
      },
      "source": [
        "predict(create_news)"
      ],
      "execution_count": 100,
      "outputs": [
        {
          "output_type": "stream",
          "text": [
            "The Nifty should open: -403.9100036621094 from the previous open.\n"
          ],
          "name": "stdout"
        }
      ]
    },
    {
      "cell_type": "code",
      "metadata": {
        "colab": {
          "base_uri": "https://localhost:8080/"
        },
        "id": "h8K2ZO9lRFCG",
        "outputId": "8ec71cd2-6786-4ac7-c50c-b18a976d39fd"
      },
      "source": [
        "news = 'New party has won the election'\r\n",
        "predict(news)"
      ],
      "execution_count": 101,
      "outputs": [
        {
          "output_type": "stream",
          "text": [
            "The Nifty should open: -592.0599975585938 from the previous open.\n"
          ],
          "name": "stdout"
        }
      ]
    },
    {
      "cell_type": "code",
      "metadata": {
        "id": "mhDd_WcjRTlN"
      },
      "source": [
        ""
      ],
      "execution_count": null,
      "outputs": []
    }
  ]
}