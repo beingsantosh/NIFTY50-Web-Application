{
  "nbformat": 4,
  "nbformat_minor": 0,
  "metadata": {
    "colab": {
      "name": "NIFTY50.ipynb",
      "provenance": [],
      "mount_file_id": "18lWDFiEKl7YS8xBNUIQ8ZftntSrkL9tz",
      "authorship_tag": "ABX9TyPW8UV9eZsKPmaAfdlE6rru",
      "include_colab_link": true
    },
    "kernelspec": {
      "name": "python3",
      "display_name": "Python 3"
    }
  },
  "cells": [
    {
      "cell_type": "markdown",
      "metadata": {
        "id": "view-in-github",
        "colab_type": "text"
      },
      "source": [
        "<a href=\"https://colab.research.google.com/github/santoshkumarbvp/NIFTY50-Web-Application/blob/main/NIFTY50.ipynb\" target=\"_parent\"><img src=\"https://colab.research.google.com/assets/colab-badge.svg\" alt=\"Open In Colab\"/></a>"
      ]
    },
    {
      "cell_type": "code",
      "metadata": {
        "id": "fr4Y5T5Mkcy4"
      },
      "source": [
        "import pandas as pd\r\n",
        "import numpy as np\r\n",
        "import tensorflow as tf\r\n",
        "import re\r\n",
        "import nltk\r\n",
        "from nltk.corpus import stopwords\r\n",
        "from sklearn.model_selection import train_test_split\r\n",
        "from sklearn.metrics import median_absolute_error as mae\r\n",
        "from sklearn.metrics import mean_squared_error as mse\r\n",
        "from sklearn.metrics import accuracy_score as acc\r\n",
        "import matplotlib.pyplot as plt\r\n",
        "\r\n",
        "from keras.models import Sequential\r\n",
        "from keras import initializers\r\n",
        "from keras.layers import Dropout, Activation, Embedding, Convolution1D, MaxPooling1D, Input, Dense,  \\\r\n",
        "                         BatchNormalization, Flatten, Reshape, Concatenate, add\r\n",
        "from keras.layers.recurrent import LSTM, GRU\r\n",
        "from keras.callbacks import Callback, ModelCheckpoint, EarlyStopping, ReduceLROnPlateau\r\n",
        "from keras.models import Model\r\n",
        "from keras.optimizers import Adam, SGD, RMSprop\r\n",
        "from keras import regularizers\r\n",
        "\r\n",
        "from tensorflow.keras.layers import concatenate, add\r\n",
        "\r\n",
        "from tensorflow.keras.utils import plot_model"
      ],
      "execution_count": 117,
      "outputs": []
    },
    {
      "cell_type": "code",
      "metadata": {
        "id": "stkTgEn6k2tV"
      },
      "source": [
        "df = pd.read_csv('/content/drive/MyDrive/Data/processed_data.csv')"
      ],
      "execution_count": 6,
      "outputs": []
    },
    {
      "cell_type": "code",
      "metadata": {
        "colab": {
          "base_uri": "https://localhost:8080/",
          "height": 195
        },
        "id": "mIp3lbHYk5ax",
        "outputId": "e8d54242-ab0c-4b87-dbe3-5db55704798b"
      },
      "source": [
        "df.head()"
      ],
      "execution_count": 7,
      "outputs": [
        {
          "output_type": "execute_result",
          "data": {
            "text/html": [
              "<div>\n",
              "<style scoped>\n",
              "    .dataframe tbody tr th:only-of-type {\n",
              "        vertical-align: middle;\n",
              "    }\n",
              "\n",
              "    .dataframe tbody tr th {\n",
              "        vertical-align: top;\n",
              "    }\n",
              "\n",
              "    .dataframe thead th {\n",
              "        text-align: right;\n",
              "    }\n",
              "</style>\n",
              "<table border=\"1\" class=\"dataframe\">\n",
              "  <thead>\n",
              "    <tr style=\"text-align: right;\">\n",
              "      <th></th>\n",
              "      <th>Unnamed: 0</th>\n",
              "      <th>Date</th>\n",
              "      <th>Open</th>\n",
              "      <th>Year</th>\n",
              "      <th>Month</th>\n",
              "      <th>Day</th>\n",
              "      <th>Headlines</th>\n",
              "      <th>Stock_var</th>\n",
              "    </tr>\n",
              "  </thead>\n",
              "  <tbody>\n",
              "    <tr>\n",
              "      <th>0</th>\n",
              "      <td>1</td>\n",
              "      <td>2014-01-02</td>\n",
              "      <td>6301.250000</td>\n",
              "      <td>2014</td>\n",
              "      <td>January</td>\n",
              "      <td>2</td>\n",
              "      <td>['Stricter energy norms to push up AC, fridge ...</td>\n",
              "      <td>NaN</td>\n",
              "    </tr>\n",
              "    <tr>\n",
              "      <th>1</th>\n",
              "      <td>2</td>\n",
              "      <td>2014-01-03</td>\n",
              "      <td>6194.549805</td>\n",
              "      <td>2014</td>\n",
              "      <td>January</td>\n",
              "      <td>3</td>\n",
              "      <td>['NEERI team to study mining impact', 'Jobs &amp; ...</td>\n",
              "      <td>-106.700195</td>\n",
              "    </tr>\n",
              "    <tr>\n",
              "      <th>2</th>\n",
              "      <td>3</td>\n",
              "      <td>2014-01-06</td>\n",
              "      <td>6220.850098</td>\n",
              "      <td>2014</td>\n",
              "      <td>January</td>\n",
              "      <td>6</td>\n",
              "      <td>['Teesta Setalvad, husband booked for usurping...</td>\n",
              "      <td>26.300293</td>\n",
              "    </tr>\n",
              "    <tr>\n",
              "      <th>3</th>\n",
              "      <td>4</td>\n",
              "      <td>2014-01-07</td>\n",
              "      <td>6203.899902</td>\n",
              "      <td>2014</td>\n",
              "      <td>January</td>\n",
              "      <td>7</td>\n",
              "      <td>['AAP government suspends 3 Delhi Jal Board of...</td>\n",
              "      <td>-16.950196</td>\n",
              "    </tr>\n",
              "    <tr>\n",
              "      <th>4</th>\n",
              "      <td>5</td>\n",
              "      <td>2014-01-08</td>\n",
              "      <td>6178.049805</td>\n",
              "      <td>2014</td>\n",
              "      <td>January</td>\n",
              "      <td>8</td>\n",
              "      <td>['Lok Sabha elections: No decision yet on quan...</td>\n",
              "      <td>-25.850097</td>\n",
              "    </tr>\n",
              "  </tbody>\n",
              "</table>\n",
              "</div>"
            ],
            "text/plain": [
              "   Unnamed: 0  ...   Stock_var\n",
              "0           1  ...         NaN\n",
              "1           2  ... -106.700195\n",
              "2           3  ...   26.300293\n",
              "3           4  ...  -16.950196\n",
              "4           5  ...  -25.850097\n",
              "\n",
              "[5 rows x 8 columns]"
            ]
          },
          "metadata": {
            "tags": []
          },
          "execution_count": 7
        }
      ]
    },
    {
      "cell_type": "code",
      "metadata": {
        "id": "O3ZtG3FYk_kT"
      },
      "source": [
        "df.dropna(inplace=True) # removing null rows"
      ],
      "execution_count": 8,
      "outputs": []
    },
    {
      "cell_type": "code",
      "metadata": {
        "id": "RqeG2Y0AxRkl"
      },
      "source": [
        "df.drop(columns=['Unnamed: 0'], inplace=True)"
      ],
      "execution_count": 10,
      "outputs": []
    },
    {
      "cell_type": "code",
      "metadata": {
        "colab": {
          "base_uri": "https://localhost:8080/",
          "height": 195
        },
        "id": "EyM1hWncxav-",
        "outputId": "bade516d-513b-4f04-fb30-da23a16cd20f"
      },
      "source": [
        "df.head()"
      ],
      "execution_count": 11,
      "outputs": [
        {
          "output_type": "execute_result",
          "data": {
            "text/html": [
              "<div>\n",
              "<style scoped>\n",
              "    .dataframe tbody tr th:only-of-type {\n",
              "        vertical-align: middle;\n",
              "    }\n",
              "\n",
              "    .dataframe tbody tr th {\n",
              "        vertical-align: top;\n",
              "    }\n",
              "\n",
              "    .dataframe thead th {\n",
              "        text-align: right;\n",
              "    }\n",
              "</style>\n",
              "<table border=\"1\" class=\"dataframe\">\n",
              "  <thead>\n",
              "    <tr style=\"text-align: right;\">\n",
              "      <th></th>\n",
              "      <th>Date</th>\n",
              "      <th>Open</th>\n",
              "      <th>Year</th>\n",
              "      <th>Month</th>\n",
              "      <th>Day</th>\n",
              "      <th>Headlines</th>\n",
              "      <th>Stock_var</th>\n",
              "    </tr>\n",
              "  </thead>\n",
              "  <tbody>\n",
              "    <tr>\n",
              "      <th>1</th>\n",
              "      <td>2014-01-03</td>\n",
              "      <td>6194.549805</td>\n",
              "      <td>2014</td>\n",
              "      <td>January</td>\n",
              "      <td>3</td>\n",
              "      <td>['NEERI team to study mining impact', 'Jobs &amp; ...</td>\n",
              "      <td>-106.700195</td>\n",
              "    </tr>\n",
              "    <tr>\n",
              "      <th>2</th>\n",
              "      <td>2014-01-06</td>\n",
              "      <td>6220.850098</td>\n",
              "      <td>2014</td>\n",
              "      <td>January</td>\n",
              "      <td>6</td>\n",
              "      <td>['Teesta Setalvad, husband booked for usurping...</td>\n",
              "      <td>26.300293</td>\n",
              "    </tr>\n",
              "    <tr>\n",
              "      <th>3</th>\n",
              "      <td>2014-01-07</td>\n",
              "      <td>6203.899902</td>\n",
              "      <td>2014</td>\n",
              "      <td>January</td>\n",
              "      <td>7</td>\n",
              "      <td>['AAP government suspends 3 Delhi Jal Board of...</td>\n",
              "      <td>-16.950196</td>\n",
              "    </tr>\n",
              "    <tr>\n",
              "      <th>4</th>\n",
              "      <td>2014-01-08</td>\n",
              "      <td>6178.049805</td>\n",
              "      <td>2014</td>\n",
              "      <td>January</td>\n",
              "      <td>8</td>\n",
              "      <td>['Lok Sabha elections: No decision yet on quan...</td>\n",
              "      <td>-25.850097</td>\n",
              "    </tr>\n",
              "    <tr>\n",
              "      <th>5</th>\n",
              "      <td>2014-01-09</td>\n",
              "      <td>6181.700195</td>\n",
              "      <td>2014</td>\n",
              "      <td>January</td>\n",
              "      <td>9</td>\n",
              "      <td>['AAP soon to clear its stand on national poli...</td>\n",
              "      <td>3.650390</td>\n",
              "    </tr>\n",
              "  </tbody>\n",
              "</table>\n",
              "</div>"
            ],
            "text/plain": [
              "         Date  ...   Stock_var\n",
              "1  2014-01-03  ... -106.700195\n",
              "2  2014-01-06  ...   26.300293\n",
              "3  2014-01-07  ...  -16.950196\n",
              "4  2014-01-08  ...  -25.850097\n",
              "5  2014-01-09  ...    3.650390\n",
              "\n",
              "[5 rows x 7 columns]"
            ]
          },
          "metadata": {
            "tags": []
          },
          "execution_count": 11
        }
      ]
    },
    {
      "cell_type": "code",
      "metadata": {
        "id": "HKujN5vYxgW5"
      },
      "source": [
        "df_news = df[['Date','Headlines']]"
      ],
      "execution_count": 12,
      "outputs": []
    },
    {
      "cell_type": "code",
      "metadata": {
        "id": "k0fiPohUxo3R"
      },
      "source": [
        "df_stock = df[['Date','Stock_var']]"
      ],
      "execution_count": 13,
      "outputs": []
    },
    {
      "cell_type": "code",
      "metadata": {
        "colab": {
          "base_uri": "https://localhost:8080/"
        },
        "id": "GKq52lZXxvQr",
        "outputId": "8f6add22-f192-4934-cd6b-f3af670f0401"
      },
      "source": [
        "df_news.shape, df_stock.shape"
      ],
      "execution_count": 14,
      "outputs": [
        {
          "output_type": "execute_result",
          "data": {
            "text/plain": [
              "((1711, 2), (1711, 2))"
            ]
          },
          "metadata": {
            "tags": []
          },
          "execution_count": 14
        }
      ]
    },
    {
      "cell_type": "code",
      "metadata": {
        "colab": {
          "base_uri": "https://localhost:8080/",
          "height": 195
        },
        "id": "fG9UBS_rzNpm",
        "outputId": "315db25e-a48c-4a0f-ba32-121e715c8441"
      },
      "source": [
        "df_stock.head()"
      ],
      "execution_count": 17,
      "outputs": [
        {
          "output_type": "execute_result",
          "data": {
            "text/html": [
              "<div>\n",
              "<style scoped>\n",
              "    .dataframe tbody tr th:only-of-type {\n",
              "        vertical-align: middle;\n",
              "    }\n",
              "\n",
              "    .dataframe tbody tr th {\n",
              "        vertical-align: top;\n",
              "    }\n",
              "\n",
              "    .dataframe thead th {\n",
              "        text-align: right;\n",
              "    }\n",
              "</style>\n",
              "<table border=\"1\" class=\"dataframe\">\n",
              "  <thead>\n",
              "    <tr style=\"text-align: right;\">\n",
              "      <th></th>\n",
              "      <th>Date</th>\n",
              "      <th>Stock_var</th>\n",
              "    </tr>\n",
              "  </thead>\n",
              "  <tbody>\n",
              "    <tr>\n",
              "      <th>1</th>\n",
              "      <td>2014-01-03</td>\n",
              "      <td>-106.700195</td>\n",
              "    </tr>\n",
              "    <tr>\n",
              "      <th>2</th>\n",
              "      <td>2014-01-06</td>\n",
              "      <td>26.300293</td>\n",
              "    </tr>\n",
              "    <tr>\n",
              "      <th>3</th>\n",
              "      <td>2014-01-07</td>\n",
              "      <td>-16.950196</td>\n",
              "    </tr>\n",
              "    <tr>\n",
              "      <th>4</th>\n",
              "      <td>2014-01-08</td>\n",
              "      <td>-25.850097</td>\n",
              "    </tr>\n",
              "    <tr>\n",
              "      <th>5</th>\n",
              "      <td>2014-01-09</td>\n",
              "      <td>3.650390</td>\n",
              "    </tr>\n",
              "  </tbody>\n",
              "</table>\n",
              "</div>"
            ],
            "text/plain": [
              "         Date   Stock_var\n",
              "1  2014-01-03 -106.700195\n",
              "2  2014-01-06   26.300293\n",
              "3  2014-01-07  -16.950196\n",
              "4  2014-01-08  -25.850097\n",
              "5  2014-01-09    3.650390"
            ]
          },
          "metadata": {
            "tags": []
          },
          "execution_count": 17
        }
      ]
    },
    {
      "cell_type": "code",
      "metadata": {
        "id": "hykgrNEy0w8A"
      },
      "source": [
        "df_news.Headlines = df_news.Headlines.map(ast.literal_eval)"
      ],
      "execution_count": 34,
      "outputs": []
    },
    {
      "cell_type": "code",
      "metadata": {
        "id": "wCO2sxwg15dY"
      },
      "source": [
        "df_news = df_news.explode('Headlines')"
      ],
      "execution_count": null,
      "outputs": []
    },
    {
      "cell_type": "code",
      "metadata": {
        "colab": {
          "base_uri": "https://localhost:8080/"
        },
        "id": "C6IsgtVx12vk",
        "outputId": "044c43dd-1805-4c26-fe5b-26d7f2e3639f"
      },
      "source": [
        "df_news.shape"
      ],
      "execution_count": 36,
      "outputs": [
        {
          "output_type": "execute_result",
          "data": {
            "text/plain": [
              "(17015, 2)"
            ]
          },
          "metadata": {
            "tags": []
          },
          "execution_count": 36
        }
      ]
    },
    {
      "cell_type": "code",
      "metadata": {
        "colab": {
          "base_uri": "https://localhost:8080/",
          "height": 195
        },
        "id": "2_0j-bnv3Gds",
        "outputId": "5570c40e-4013-4346-a076-d8bc27ed1b00"
      },
      "source": [
        "df_news.head()"
      ],
      "execution_count": 47,
      "outputs": [
        {
          "output_type": "execute_result",
          "data": {
            "text/html": [
              "<div>\n",
              "<style scoped>\n",
              "    .dataframe tbody tr th:only-of-type {\n",
              "        vertical-align: middle;\n",
              "    }\n",
              "\n",
              "    .dataframe tbody tr th {\n",
              "        vertical-align: top;\n",
              "    }\n",
              "\n",
              "    .dataframe thead th {\n",
              "        text-align: right;\n",
              "    }\n",
              "</style>\n",
              "<table border=\"1\" class=\"dataframe\">\n",
              "  <thead>\n",
              "    <tr style=\"text-align: right;\">\n",
              "      <th></th>\n",
              "      <th>Date</th>\n",
              "      <th>Headlines</th>\n",
              "    </tr>\n",
              "  </thead>\n",
              "  <tbody>\n",
              "    <tr>\n",
              "      <th>1</th>\n",
              "      <td>2014-01-03</td>\n",
              "      <td>NEERI team to study mining impact</td>\n",
              "    </tr>\n",
              "    <tr>\n",
              "      <th>1</th>\n",
              "      <td>2014-01-03</td>\n",
              "      <td>Jobs &amp; career: Companies give appraisals a mor...</td>\n",
              "    </tr>\n",
              "    <tr>\n",
              "      <th>1</th>\n",
              "      <td>2014-01-03</td>\n",
              "      <td>Coal India misses April-December output target...</td>\n",
              "    </tr>\n",
              "    <tr>\n",
              "      <th>1</th>\n",
              "      <td>2014-01-03</td>\n",
              "      <td>Private equity firms invest about Rs 940 crore...</td>\n",
              "    </tr>\n",
              "    <tr>\n",
              "      <th>1</th>\n",
              "      <td>2014-01-03</td>\n",
              "      <td>IBM, ST Microelectronics only players keen on ...</td>\n",
              "    </tr>\n",
              "  </tbody>\n",
              "</table>\n",
              "</div>"
            ],
            "text/plain": [
              "         Date                                          Headlines\n",
              "1  2014-01-03                  NEERI team to study mining impact\n",
              "1  2014-01-03  Jobs & career: Companies give appraisals a mor...\n",
              "1  2014-01-03  Coal India misses April-December output target...\n",
              "1  2014-01-03  Private equity firms invest about Rs 940 crore...\n",
              "1  2014-01-03  IBM, ST Microelectronics only players keen on ..."
            ]
          },
          "metadata": {
            "tags": []
          },
          "execution_count": 47
        }
      ]
    },
    {
      "cell_type": "code",
      "metadata": {
        "id": "wgXSZRr03JAu"
      },
      "source": [
        "# removing special character '/'"
      ],
      "execution_count": null,
      "outputs": []
    },
    {
      "cell_type": "code",
      "metadata": {
        "colab": {
          "base_uri": "https://localhost:8080/"
        },
        "id": "9_kpbA-xxzh4",
        "outputId": "21880a6b-3edc-4564-a06e-dce68e6b2042"
      },
      "source": [
        "# Transferring the data into list\r\n",
        "\r\n",
        "price = []\r\n",
        "headlines = []\r\n",
        "\r\n",
        "for row in df_stock.iterrows():\r\n",
        "    daily_headlines = []\r\n",
        "    date = row[1]['Date']\r\n",
        "    price.append(row[1]['Stock_var'])\r\n",
        "    for row_ in df_news[df_news.Date==date].iterrows():\r\n",
        "        daily_headlines.append(row_[1]['Headlines'])\r\n",
        "    \r\n",
        "    # Track progress\r\n",
        "    headlines.append(daily_headlines)\r\n",
        "    if len(price) % 500 == 0:\r\n",
        "        print(len(price))"
      ],
      "execution_count": 38,
      "outputs": [
        {
          "output_type": "stream",
          "text": [
            "500\n",
            "1000\n",
            "1500\n"
          ],
          "name": "stdout"
        }
      ]
    },
    {
      "cell_type": "code",
      "metadata": {
        "colab": {
          "base_uri": "https://localhost:8080/"
        },
        "id": "Oj4LWiPjy5T0",
        "outputId": "3c83100b-50db-4384-c8bc-5bd14e9de05a"
      },
      "source": [
        "# Compare lengths to ensure they are the same\r\n",
        "print(len(price))\r\n",
        "print(len(headlines))"
      ],
      "execution_count": 82,
      "outputs": [
        {
          "output_type": "stream",
          "text": [
            "1711\n",
            "1711\n"
          ],
          "name": "stdout"
        }
      ]
    },
    {
      "cell_type": "code",
      "metadata": {
        "colab": {
          "base_uri": "https://localhost:8080/"
        },
        "id": "WVVFSUcJ2RmW",
        "outputId": "c8ca8a62-9085-4d65-bc36-d8035999c4d3"
      },
      "source": [
        "# Compare the number of headlines for each day\r\n",
        "print(max(len(i) for i in headlines))\r\n",
        "print(min(len(i) for i in headlines))\r\n",
        "print(np.mean(list((len(i) for i in headlines))))"
      ],
      "execution_count": 52,
      "outputs": [
        {
          "output_type": "stream",
          "text": [
            "10\n",
            "6\n",
            "9.94447691408533\n"
          ],
          "name": "stdout"
        }
      ]
    },
    {
      "cell_type": "code",
      "metadata": {
        "id": "9U0iqh5I2m8Z"
      },
      "source": [
        "contractions = { \r\n",
        "\"ain't\": \"am not\",\r\n",
        "\"aren't\": \"are not\",\r\n",
        "\"can't\": \"cannot\",\r\n",
        "\"can't've\": \"cannot have\",\r\n",
        "\"'cause\": \"because\",\r\n",
        "\"could've\": \"could have\",\r\n",
        "\"couldn't\": \"could not\",\r\n",
        "\"couldn't've\": \"could not have\",\r\n",
        "\"didn't\": \"did not\",\r\n",
        "\"doesn't\": \"does not\",\r\n",
        "\"don't\": \"do not\",\r\n",
        "\"hadn't\": \"had not\",\r\n",
        "\"hadn't've\": \"had not have\",\r\n",
        "\"hasn't\": \"has not\",\r\n",
        "\"haven't\": \"have not\",\r\n",
        "\"he'd\": \"he would\",\r\n",
        "\"he'd've\": \"he would have\",\r\n",
        "\"he'll\": \"he will\",\r\n",
        "\"he's\": \"he is\",\r\n",
        "\"how'd\": \"how did\",\r\n",
        "\"how'll\": \"how will\",\r\n",
        "\"how's\": \"how is\",\r\n",
        "\"i'd\": \"i would\",\r\n",
        "\"i'll\": \"i will\",\r\n",
        "\"i'm\": \"i am\",\r\n",
        "\"i've\": \"i have\",\r\n",
        "\"isn't\": \"is not\",\r\n",
        "\"it'd\": \"it would\",\r\n",
        "\"it'll\": \"it will\",\r\n",
        "\"it's\": \"it is\",\r\n",
        "\"let's\": \"let us\",\r\n",
        "\"ma'am\": \"madam\",\r\n",
        "\"mayn't\": \"may not\",\r\n",
        "\"might've\": \"might have\",\r\n",
        "\"mightn't\": \"might not\",\r\n",
        "\"must've\": \"must have\",\r\n",
        "\"mustn't\": \"must not\",\r\n",
        "\"needn't\": \"need not\",\r\n",
        "\"oughtn't\": \"ought not\",\r\n",
        "\"shan't\": \"shall not\",\r\n",
        "\"sha'n't\": \"shall not\",\r\n",
        "\"she'd\": \"she would\",\r\n",
        "\"she'll\": \"she will\",\r\n",
        "\"she's\": \"she is\",\r\n",
        "\"should've\": \"should have\",\r\n",
        "\"shouldn't\": \"should not\",\r\n",
        "\"that'd\": \"that would\",\r\n",
        "\"that's\": \"that is\",\r\n",
        "\"there'd\": \"there had\",\r\n",
        "\"there's\": \"there is\",\r\n",
        "\"they'd\": \"they would\",\r\n",
        "\"they'll\": \"they will\",\r\n",
        "\"they're\": \"they are\",\r\n",
        "\"they've\": \"they have\",\r\n",
        "\"wasn't\": \"was not\",\r\n",
        "\"we'd\": \"we would\",\r\n",
        "\"we'll\": \"we will\",\r\n",
        "\"we're\": \"we are\",\r\n",
        "\"we've\": \"we have\",\r\n",
        "\"weren't\": \"were not\",\r\n",
        "\"what'll\": \"what will\",\r\n",
        "\"what're\": \"what are\",\r\n",
        "\"what's\": \"what is\",\r\n",
        "\"what've\": \"what have\",\r\n",
        "\"where'd\": \"where did\",\r\n",
        "\"where's\": \"where is\",\r\n",
        "\"who'll\": \"who will\",\r\n",
        "\"who's\": \"who is\",\r\n",
        "\"won't\": \"will not\",\r\n",
        "\"wouldn't\": \"would not\",\r\n",
        "\"you'd\": \"you would\",\r\n",
        "\"you'll\": \"you will\",\r\n",
        "\"you're\": \"you are\"\r\n",
        "}"
      ],
      "execution_count": 53,
      "outputs": []
    },
    {
      "cell_type": "code",
      "metadata": {
        "id": "K-tcnhrq33D6"
      },
      "source": [
        "def clean_text(text, remove_stopwords = True):\r\n",
        "    '''Remove unwanted characters and format the text to create fewer nulls word embeddings'''\r\n",
        "    \r\n",
        "    # Convert words to lower case\r\n",
        "    text = text.lower()\r\n",
        "    \r\n",
        "    # Replace contractions with their longer forms \r\n",
        "    if True:\r\n",
        "        text = text.split()\r\n",
        "        new_text = []\r\n",
        "        for word in text:\r\n",
        "            if word in contractions:\r\n",
        "                new_text.append(contractions[word])\r\n",
        "            else:\r\n",
        "                new_text.append(word)\r\n",
        "        text = \" \".join(new_text)\r\n",
        "    \r\n",
        "    # Format words and remove unwanted characters\r\n",
        "    text = re.sub(r'&amp;', '', text) \r\n",
        "    text = re.sub(r'0,0', '00', text) \r\n",
        "    text = re.sub(r'[_\"\\-;%()|.,+&=*%.,!?:#@\\[\\]]', ' ', text)\r\n",
        "    text = re.sub(r'\\'', ' ', text)\r\n",
        "    text = re.sub(r'\\$', ' $ ', text)\r\n",
        "    text = re.sub(r'u s ', ' united states ', text)\r\n",
        "    text = re.sub(r'u n ', ' united nations ', text)\r\n",
        "    text = re.sub(r'u k ', ' united kingdom ', text)\r\n",
        "    text = re.sub(r'j k ', ' jk ', text)\r\n",
        "    text = re.sub(r' s ', ' ', text)\r\n",
        "    text = re.sub(r' yr ', ' year ', text)\r\n",
        "    text = re.sub(r' l g b t ', ' lgbt ', text)\r\n",
        "    text = re.sub(r'0km ', '0 km ', text)\r\n",
        "    \r\n",
        "    # Optionally, remove stop words\r\n",
        "    if remove_stopwords:\r\n",
        "        text = text.split()\r\n",
        "        stops = set(stopwords.words(\"english\"))\r\n",
        "        text = [w for w in text if not w in stops]\r\n",
        "        text = \" \".join(text)\r\n",
        "\r\n",
        "    return text"
      ],
      "execution_count": 54,
      "outputs": []
    },
    {
      "cell_type": "code",
      "metadata": {
        "colab": {
          "base_uri": "https://localhost:8080/"
        },
        "id": "xpI62pCk4f5f",
        "outputId": "90354160-1a43-46cd-8469-d554b1275615"
      },
      "source": [
        "\r\n",
        "nltk.download('stopwords')"
      ],
      "execution_count": 62,
      "outputs": [
        {
          "output_type": "stream",
          "text": [
            "[nltk_data] Downloading package stopwords to /root/nltk_data...\n",
            "[nltk_data]   Unzipping corpora/stopwords.zip.\n"
          ],
          "name": "stdout"
        },
        {
          "output_type": "execute_result",
          "data": {
            "text/plain": [
              "True"
            ]
          },
          "metadata": {
            "tags": []
          },
          "execution_count": 62
        }
      ]
    },
    {
      "cell_type": "code",
      "metadata": {
        "id": "mdhICUSe4K6h"
      },
      "source": [
        "# Clean the headlines\r\n",
        "clean_headlines = []\r\n",
        "\r\n",
        "for daily_headlines in headlines:\r\n",
        "    clean_daily_headlines = []\r\n",
        "    for headline in daily_headlines:\r\n",
        "        clean_daily_headlines.append(clean_text(headline))\r\n",
        "    clean_headlines.append(clean_daily_headlines)"
      ],
      "execution_count": 83,
      "outputs": []
    },
    {
      "cell_type": "code",
      "metadata": {
        "colab": {
          "base_uri": "https://localhost:8080/"
        },
        "id": "wH_f6h9w410U",
        "outputId": "dcdfac3c-f310-42b9-8de6-bcb7ca955417"
      },
      "source": [
        "    \r\n",
        "len(clean_headlines)"
      ],
      "execution_count": 94,
      "outputs": [
        {
          "output_type": "execute_result",
          "data": {
            "text/plain": [
              "1711"
            ]
          },
          "metadata": {
            "tags": []
          },
          "execution_count": 94
        }
      ]
    },
    {
      "cell_type": "code",
      "metadata": {
        "colab": {
          "base_uri": "https://localhost:8080/"
        },
        "id": "pI-wWefQ4oaS",
        "outputId": "5856a31c-0741-4fad-e953-e77d84a73aaf"
      },
      "source": [
        "# Find the number of times each word was used and the size of the vocabulary\r\n",
        "word_counts = {}\r\n",
        "\r\n",
        "for date in clean_headlines:\r\n",
        "    for headline in date:\r\n",
        "        for word in headline.split():\r\n",
        "            if word not in word_counts:\r\n",
        "                word_counts[word] = 1\r\n",
        "            else:\r\n",
        "                word_counts[word] += 1\r\n",
        "            \r\n",
        "print(\"Size of Vocabulary:\", len(word_counts))"
      ],
      "execution_count": 85,
      "outputs": [
        {
          "output_type": "stream",
          "text": [
            "Size of Vocabulary: 19488\n"
          ],
          "name": "stdout"
        }
      ]
    },
    {
      "cell_type": "code",
      "metadata": {
        "colab": {
          "base_uri": "https://localhost:8080/"
        },
        "id": "REm7B2uq5I98",
        "outputId": "4458b979-e48f-4789-b14d-580c8933ceed"
      },
      "source": [
        "# Load GloVe's embeddings\r\n",
        "embeddings_index = {}\r\n",
        "with open('/content/drive/MyDrive/Data/glove.6B.100d.txt', encoding='utf-8') as f:\r\n",
        "    for line in f:\r\n",
        "        values = line.split(' ')\r\n",
        "        word = values[0]\r\n",
        "        embedding = np.asarray(values[1:], dtype='float32')\r\n",
        "        embeddings_index[word] = embedding\r\n",
        "\r\n",
        "print('Word embeddings:', len(embeddings_index))"
      ],
      "execution_count": 95,
      "outputs": [
        {
          "output_type": "stream",
          "text": [
            "Word embeddings: 289606\n"
          ],
          "name": "stdout"
        }
      ]
    },
    {
      "cell_type": "code",
      "metadata": {
        "colab": {
          "base_uri": "https://localhost:8080/"
        },
        "id": "BVbZpXpa6U7b",
        "outputId": "4245a5eb-7cfe-41a5-ae4f-fd7e67b2209a"
      },
      "source": [
        "# Find the number of words that are missing from GloVe, and are used more than our threshold.\r\n",
        "missing_words = 0\r\n",
        "threshold = 10\r\n",
        "\r\n",
        "for word, count in word_counts.items():\r\n",
        "    if count > threshold:\r\n",
        "        if word not in embeddings_index:\r\n",
        "            missing_words += 1\r\n",
        "            \r\n",
        "missing_ratio = round(missing_words/len(word_counts),4)*100\r\n",
        "            \r\n",
        "print(\"Number of words missing from GloVe:\", missing_words)\r\n",
        "print(\"Percent of words that are missing from vocabulary: {}%\".format(missing_ratio))"
      ],
      "execution_count": 96,
      "outputs": [
        {
          "output_type": "stream",
          "text": [
            "Number of words missing from GloVe: 59\n",
            "Percent of words that are missing from vocabulary: 0.3%\n"
          ],
          "name": "stdout"
        }
      ]
    },
    {
      "cell_type": "code",
      "metadata": {
        "colab": {
          "base_uri": "https://localhost:8080/"
        },
        "id": "GGurklF463OI",
        "outputId": "4dab2e34-e6af-419b-fe58-6ab5957b743e"
      },
      "source": [
        "# Limit the vocab that we will use to words that appear ≥ threshold or are in GloVe\r\n",
        "\r\n",
        "#dictionary to convert words to integers\r\n",
        "vocab_to_int = {} \r\n",
        "\r\n",
        "value = 0\r\n",
        "for word, count in word_counts.items():\r\n",
        "    if count >= threshold or word in embeddings_index:\r\n",
        "        vocab_to_int[word] = value\r\n",
        "        value += 1\r\n",
        "\r\n",
        "# Special tokens that will be added to our vocab\r\n",
        "codes = [\"<UNK>\",\"<PAD>\"]   \r\n",
        "\r\n",
        "# Add codes to vocab\r\n",
        "for code in codes:\r\n",
        "    vocab_to_int[code] = len(vocab_to_int)\r\n",
        "\r\n",
        "# Dictionary to convert integers to words\r\n",
        "int_to_vocab = {}\r\n",
        "for word, value in vocab_to_int.items():\r\n",
        "    int_to_vocab[value] = word\r\n",
        "\r\n",
        "usage_ratio = round(len(vocab_to_int) / len(word_counts),4)*100\r\n",
        "\r\n",
        "print(\"Total Number of Unique Words:\", len(word_counts))\r\n",
        "print(\"Number of Words we will use:\", len(vocab_to_int))\r\n",
        "print(\"Percent of Words we will use: {}%\".format(usage_ratio))"
      ],
      "execution_count": 97,
      "outputs": [
        {
          "output_type": "stream",
          "text": [
            "Total Number of Unique Words: 19488\n",
            "Number of Words we will use: 16519\n",
            "Percent of Words we will use: 84.76%\n"
          ],
          "name": "stdout"
        }
      ]
    },
    {
      "cell_type": "code",
      "metadata": {
        "colab": {
          "base_uri": "https://localhost:8080/"
        },
        "id": "PDRKwEDf6_8h",
        "outputId": "d38881c3-cf8a-44bd-83c4-7c59ef588c9b"
      },
      "source": [
        "embedding_dim = 100\r\n",
        "\r\n",
        "nb_words = len(vocab_to_int)\r\n",
        "# Create matrix with default values of zero\r\n",
        "word_embedding_matrix = np.zeros((nb_words, embedding_dim))\r\n",
        "for word, i in vocab_to_int.items():\r\n",
        "    if word in embeddings_index:\r\n",
        "        word_embedding_matrix[i] = embeddings_index[word]\r\n",
        "    else:\r\n",
        "        # If word not in GloVe, create a random embedding for it\r\n",
        "        new_embedding = np.array(np.random.uniform(-1.0, 1.0, embedding_dim))\r\n",
        "        embeddings_index[word] = new_embedding\r\n",
        "        word_embedding_matrix[i] = new_embedding\r\n",
        "\r\n",
        "# Check if value matches len(vocab_to_int)\r\n",
        "print(len(word_embedding_matrix))"
      ],
      "execution_count": 98,
      "outputs": [
        {
          "output_type": "stream",
          "text": [
            "16519\n"
          ],
          "name": "stdout"
        }
      ]
    },
    {
      "cell_type": "code",
      "metadata": {
        "colab": {
          "base_uri": "https://localhost:8080/"
        },
        "id": "uNpTqOmF7dJh",
        "outputId": "363281f9-613c-49a5-aaf7-0b739399dbc2"
      },
      "source": [
        "# Change the text from words to integers\r\n",
        "# If word is not in vocab, replace it with <UNK> (unknown)\r\n",
        "word_count = 0\r\n",
        "unk_count = 0\r\n",
        "\r\n",
        "int_headlines = []\r\n",
        "\r\n",
        "for date in clean_headlines:\r\n",
        "    int_daily_headlines = []\r\n",
        "    for headline in date:\r\n",
        "        int_headline = []\r\n",
        "        for word in headline.split():\r\n",
        "            word_count += 1\r\n",
        "            if word in vocab_to_int:\r\n",
        "                int_headline.append(vocab_to_int[word])\r\n",
        "            else:\r\n",
        "                int_headline.append(vocab_to_int[\"<UNK>\"])\r\n",
        "                unk_count += 1\r\n",
        "        int_daily_headlines.append(int_headline)\r\n",
        "    int_headlines.append(int_daily_headlines)\r\n",
        "\r\n",
        "unk_percent = round(unk_count/word_count,4)*100\r\n",
        "\r\n",
        "print(\"Total number of words in headlines:\", word_count)\r\n",
        "print(\"Total number of UNKs in headlines:\", unk_count)\r\n",
        "print(\"Percent of words that are UNK: {}%\".format(unk_percent))"
      ],
      "execution_count": 99,
      "outputs": [
        {
          "output_type": "stream",
          "text": [
            "Total number of words in headlines: 143566\n",
            "Total number of UNKs in headlines: 4393\n",
            "Percent of words that are UNK: 3.06%\n"
          ],
          "name": "stdout"
        }
      ]
    },
    {
      "cell_type": "code",
      "metadata": {
        "id": "Hpo-n8qs7g7u"
      },
      "source": [
        "# Find the length of headlines\r\n",
        "lengths = []\r\n",
        "for date in int_headlines:\r\n",
        "    for headline in date:\r\n",
        "        lengths.append(len(headline))\r\n",
        "\r\n",
        "# Create a dataframe so that the values can be inspected\r\n",
        "lengths = pd.DataFrame(lengths, columns=['counts'])"
      ],
      "execution_count": 100,
      "outputs": []
    },
    {
      "cell_type": "code",
      "metadata": {
        "id": "l4U6x9B37vlP"
      },
      "source": [
        "# Limit the length of a day's news to 100 words, and the length of any headline to 16 words.\r\n",
        "# These values are chosen to not have an excessively long training time and \r\n",
        "# balance the number of headlines used and the number of words from each headline.\r\n",
        "max_headline_length = 16\r\n",
        "max_daily_length = 100\r\n",
        "pad_headlines = []\r\n",
        "\r\n",
        "for date in int_headlines:\r\n",
        "    pad_daily_headlines = []\r\n",
        "    for headline in date:\r\n",
        "        # Add headline if it is less than max length\r\n",
        "        if len(headline) <= max_headline_length:\r\n",
        "            for word in headline:\r\n",
        "                pad_daily_headlines.append(word)\r\n",
        "        # Limit headline if it is more than max length  \r\n",
        "        else:\r\n",
        "            headline = headline[:max_headline_length]\r\n",
        "            for word in headline:\r\n",
        "                pad_daily_headlines.append(word)\r\n",
        "    \r\n",
        "    # Pad daily_headlines if they are less than max length\r\n",
        "    if len(pad_daily_headlines) < max_daily_length:\r\n",
        "        for i in range(max_daily_length-len(pad_daily_headlines)):\r\n",
        "            pad = vocab_to_int[\"<PAD>\"]\r\n",
        "            pad_daily_headlines.append(pad)\r\n",
        "    # Limit daily_headlines if they are more than max length\r\n",
        "    else:\r\n",
        "        pad_daily_headlines = pad_daily_headlines[:max_daily_length]\r\n",
        "    pad_headlines.append(pad_daily_headlines)"
      ],
      "execution_count": 101,
      "outputs": []
    },
    {
      "cell_type": "code",
      "metadata": {
        "id": "_VfzxoxE7-Q4"
      },
      "source": [
        "# Normalize opening prices (target values)\r\n",
        "max_price = max(price)\r\n",
        "min_price = min(price)\r\n",
        "mean_price = np.mean(price)\r\n",
        "def normalize(price):\r\n",
        "    return ((price-min_price)/(max_price-min_price))"
      ],
      "execution_count": 102,
      "outputs": []
    },
    {
      "cell_type": "code",
      "metadata": {
        "id": "AFAUvkot8Bdh"
      },
      "source": [
        "norm_price = []\r\n",
        "for p in price:\r\n",
        "    norm_price.append(normalize(p))"
      ],
      "execution_count": 103,
      "outputs": []
    },
    {
      "cell_type": "code",
      "metadata": {
        "colab": {
          "base_uri": "https://localhost:8080/"
        },
        "id": "9O5hQkU38E9w",
        "outputId": "00e99f34-5152-4111-d3c6-693897b94d46"
      },
      "source": [
        "# Check that normalization worked well\r\n",
        "print(min(norm_price))\r\n",
        "print(max(norm_price))\r\n",
        "print(np.mean(norm_price))"
      ],
      "execution_count": 104,
      "outputs": [
        {
          "output_type": "stream",
          "text": [
            "0.0\n",
            "1.0\n",
            "0.5654056599419871\n"
          ],
          "name": "stdout"
        }
      ]
    },
    {
      "cell_type": "code",
      "metadata": {
        "colab": {
          "base_uri": "https://localhost:8080/"
        },
        "id": "h94q09_h8P4p",
        "outputId": "e43ef2b3-595a-4f9c-e745-20102d9d38c9"
      },
      "source": [
        "len(pad_headlines), len(norm_price)"
      ],
      "execution_count": 105,
      "outputs": [
        {
          "output_type": "execute_result",
          "data": {
            "text/plain": [
              "(1711, 1711)"
            ]
          },
          "metadata": {
            "tags": []
          },
          "execution_count": 105
        }
      ]
    },
    {
      "cell_type": "code",
      "metadata": {
        "id": "eOxgl-Eq8I56"
      },
      "source": [
        "# Split data into training and testing sets.\r\n",
        "# Validating data will be created during training.\r\n",
        "x_train, x_test, y_train, y_test = train_test_split(pad_headlines, norm_price, test_size = 0.15, random_state = 2)\r\n",
        "\r\n",
        "x_train = np.array(x_train)\r\n",
        "x_test = np.array(x_test)\r\n",
        "y_train = np.array(y_train)\r\n",
        "y_test = np.array(y_test)"
      ],
      "execution_count": 106,
      "outputs": []
    },
    {
      "cell_type": "code",
      "metadata": {
        "colab": {
          "base_uri": "https://localhost:8080/"
        },
        "id": "BQ4KZ4vs9bhn",
        "outputId": "30deacbb-faf8-4b15-d8a4-c47b74395780"
      },
      "source": [
        "# Check the lengths\r\n",
        "print(len(x_train))\r\n",
        "print(len(x_test))"
      ],
      "execution_count": 107,
      "outputs": [
        {
          "output_type": "stream",
          "text": [
            "1454\n",
            "257\n"
          ],
          "name": "stdout"
        }
      ]
    },
    {
      "cell_type": "code",
      "metadata": {
        "id": "2N7Xa8Ep-rk7"
      },
      "source": [
        "filter_length1 = 3\r\n",
        "filter_length2 = 5\r\n",
        "dropout = 0.5\r\n",
        "learning_rate = 0.0001\r\n",
        "weights = initializers.TruncatedNormal(mean=0.0, stddev=0.1, seed=2)\r\n",
        "nb_filter = 16\r\n",
        "rnn_output_size = 128\r\n",
        "hidden_dims = 128\r\n",
        "wider = True\r\n",
        "deeper = True\r\n",
        "\r\n",
        "\r\n",
        "model1 = Sequential()\r\n",
        "    \r\n",
        "model1.add(Embedding(nb_words,\r\n",
        "                     embedding_dim,\r\n",
        "                     weights=[word_embedding_matrix], \r\n",
        "                     input_length=max_daily_length, name='Model1_embedding'))\r\n",
        "model1.add(Dropout(dropout,name='Model1_dropout1'))\r\n",
        "    \r\n",
        "model1.add(Convolution1D(filters = nb_filter, \r\n",
        "                     kernel_size = filter_length1, \r\n",
        "                     padding = 'same',\r\n",
        "                     activation = 'relu', name='Model1_conv1d'))\r\n",
        "model1.add(Dropout(dropout,name='Model1_dropout2'))\r\n",
        "    \r\n",
        "if deeper == True:\r\n",
        "  model1.add(Convolution1D(filters = nb_filter,\r\n",
        "                      kernel_size = filter_length1, \r\n",
        "                      padding = 'same',\r\n",
        "                      activation = 'relu'))\r\n",
        "model1.add(Dropout(dropout,name='Model1_dropout3'))\r\n",
        "    \r\n",
        "model1.add(LSTM(rnn_output_size, \r\n",
        "                     activation=None,\r\n",
        "                     kernel_initializer=weights,\r\n",
        "                     dropout = dropout, name='Model1_LSTM'))\r\n",
        "# model1.compile(loss='mean_squared_error',\r\n",
        "#                   optimizer=Adam(lr=learning_rate,clipvalue=1.0) )"
      ],
      "execution_count": 109,
      "outputs": []
    },
    {
      "cell_type": "code",
      "metadata": {
        "id": "knWu-t13-6Qr"
      },
      "source": [
        "model2 = Sequential()\r\n",
        "    \r\n",
        "model2.add(Embedding(nb_words,\r\n",
        "                     embedding_dim,\r\n",
        "                     weights=[word_embedding_matrix], \r\n",
        "                     input_length=max_daily_length,name='Model2_embedding'))\r\n",
        "model2.add(Dropout(dropout,name='Model2_dropout'))\r\n",
        "    \r\n",
        "model2.add(Convolution1D(filters = nb_filter, \r\n",
        "                     kernel_size = filter_length1, \r\n",
        "                     padding = 'same',\r\n",
        "                     activation = 'relu', name='Model2_conv1d'))\r\n",
        "model2.add(Dropout(dropout,name='Model2_dropout2'))\r\n",
        "\r\n",
        "    \r\n",
        "if deeper == True:\r\n",
        "  model2.add(Convolution1D(filters = nb_filter,\r\n",
        "                      kernel_size = filter_length1, \r\n",
        "                      padding = 'same',\r\n",
        "                      activation = 'relu'))\r\n",
        "model2.add(Dropout(dropout, name='Model2_dropout3'))\r\n",
        "    \r\n",
        "model2.add(LSTM(rnn_output_size, \r\n",
        "                     activation=None,\r\n",
        "                     kernel_initializer=weights,\r\n",
        "                     dropout = dropout, name='Model2_LSTM'))\r\n",
        "# model2.compile(loss='mean_squared_error',\r\n",
        "#                   optimizer=Adam(lr=learning_rate,clipvalue=1.0) )\r\n"
      ],
      "execution_count": 110,
      "outputs": []
    },
    {
      "cell_type": "code",
      "metadata": {
        "colab": {
          "base_uri": "https://localhost:8080/"
        },
        "id": "uFYzr60L_ImF",
        "outputId": "f96d2711-f430-40b3-8a86-be110463095a"
      },
      "source": [
        "concatenated = concatenate([model1.output, model2.output], axis=-1)\r\n",
        "    \r\n",
        "output = Dense(64, activation= 'relu',kernel_initializer=weights,name='model_dense0')(concatenated)\r\n",
        "output = Dropout(0.4,name='model_dropout01')(output)\r\n",
        "output = Dense(1, kernel_initializer=weights,name='model_dense1')(output)\r\n",
        "# output = Dropout(0.4,name='model_dropout02')(output)\r\n",
        "# output = Dense(1, kernel_initializer=weights,name='model_dense2')(output)\r\n",
        "# output = Dropout(0.4,name='model_dropout03')(output)\r\n",
        "\r\n",
        "model = Model(inputs=[model1.input, model2.input], outputs=output)\r\n",
        "\r\n",
        "model.summary()"
      ],
      "execution_count": 115,
      "outputs": [
        {
          "output_type": "stream",
          "text": [
            "Model: \"model\"\n",
            "__________________________________________________________________________________________________\n",
            "Layer (type)                    Output Shape         Param #     Connected to                     \n",
            "==================================================================================================\n",
            "Model1_embedding_input (InputLa [(None, 100)]        0                                            \n",
            "__________________________________________________________________________________________________\n",
            "Model2_embedding_input (InputLa [(None, 100)]        0                                            \n",
            "__________________________________________________________________________________________________\n",
            "Model1_embedding (Embedding)    (None, 100, 100)     1651900     Model1_embedding_input[0][0]     \n",
            "__________________________________________________________________________________________________\n",
            "Model2_embedding (Embedding)    (None, 100, 100)     1651900     Model2_embedding_input[0][0]     \n",
            "__________________________________________________________________________________________________\n",
            "Model1_dropout1 (Dropout)       (None, 100, 100)     0           Model1_embedding[0][0]           \n",
            "__________________________________________________________________________________________________\n",
            "Model2_dropout (Dropout)        (None, 100, 100)     0           Model2_embedding[0][0]           \n",
            "__________________________________________________________________________________________________\n",
            "Model1_conv1d (Conv1D)          (None, 100, 16)      4816        Model1_dropout1[0][0]            \n",
            "__________________________________________________________________________________________________\n",
            "Model2_conv1d (Conv1D)          (None, 100, 16)      4816        Model2_dropout[0][0]             \n",
            "__________________________________________________________________________________________________\n",
            "Model1_dropout2 (Dropout)       (None, 100, 16)      0           Model1_conv1d[0][0]              \n",
            "__________________________________________________________________________________________________\n",
            "Model2_dropout2 (Dropout)       (None, 100, 16)      0           Model2_conv1d[0][0]              \n",
            "__________________________________________________________________________________________________\n",
            "conv1d (Conv1D)                 (None, 100, 16)      784         Model1_dropout2[0][0]            \n",
            "__________________________________________________________________________________________________\n",
            "conv1d_1 (Conv1D)               (None, 100, 16)      784         Model2_dropout2[0][0]            \n",
            "__________________________________________________________________________________________________\n",
            "Model1_dropout3 (Dropout)       (None, 100, 16)      0           conv1d[0][0]                     \n",
            "__________________________________________________________________________________________________\n",
            "Model2_dropout3 (Dropout)       (None, 100, 16)      0           conv1d_1[0][0]                   \n",
            "__________________________________________________________________________________________________\n",
            "Model1_LSTM (LSTM)              (None, 128)          74240       Model1_dropout3[0][0]            \n",
            "__________________________________________________________________________________________________\n",
            "Model2_LSTM (LSTM)              (None, 128)          74240       Model2_dropout3[0][0]            \n",
            "__________________________________________________________________________________________________\n",
            "concatenate (Concatenate)       (None, 256)          0           Model1_LSTM[0][0]                \n",
            "                                                                 Model2_LSTM[0][0]                \n",
            "__________________________________________________________________________________________________\n",
            "model_dense0 (Dense)            (None, 64)           16448       concatenate[0][0]                \n",
            "__________________________________________________________________________________________________\n",
            "model_dropout01 (Dropout)       (None, 64)           0           model_dense0[0][0]               \n",
            "__________________________________________________________________________________________________\n",
            "model_dense1 (Dense)            (None, 1)            65          model_dropout01[0][0]            \n",
            "==================================================================================================\n",
            "Total params: 3,479,993\n",
            "Trainable params: 3,479,993\n",
            "Non-trainable params: 0\n",
            "__________________________________________________________________________________________________\n"
          ],
          "name": "stdout"
        }
      ]
    },
    {
      "cell_type": "code",
      "metadata": {
        "id": "9611hQUt_k8N"
      },
      "source": [
        ""
      ],
      "execution_count": null,
      "outputs": []
    },
    {
      "cell_type": "code",
      "metadata": {
        "colab": {
          "base_uri": "https://localhost:8080/",
          "height": 1000
        },
        "id": "yqr62N1j_la1",
        "outputId": "657770a2-6381-4310-f5ec-34b616da2431"
      },
      "source": [
        "plot_model(model,show_shapes=True, expand_nested=True)\r\n"
      ],
      "execution_count": 118,
      "outputs": [
        {
          "output_type": "execute_result",
          "data": {
            "image/png": "[encoded data removed]",
            "text/plain": [
              "<IPython.core.display.Image object>"
            ]
          },
          "metadata": {
            "tags": []
          },
          "execution_count": 118
        }
      ]
    },
    {
      "cell_type": "code",
      "metadata": {
        "id": "r1eIpPUV_8RF"
      },
      "source": [
        "\r\n",
        "model.compile(loss='mean_squared_error',\r\n",
        "                  optimizer=Adam(lr=learning_rate))"
      ],
      "execution_count": 119,
      "outputs": []
    },
    {
      "cell_type": "code",
      "metadata": {
        "id": "4l6-QiaA__Uu"
      },
      "source": [
        "filepath=\"weights-improvement-{epoch:02d}-{loss:.2f}.hdf5\"\r\n",
        "\r\n",
        "callbacks = [ModelCheckpoint(filepath=filepath,  monitor='val_loss', save_best_only=True),\r\n",
        "                             EarlyStopping(monitor='val_loss', patience=5, verbose=1, mode='auto'),\r\n",
        "                             ReduceLROnPlateau(monitor='val_loss', factor=0.2, verbose=1, patience=3)]\r\n"
      ],
      "execution_count": 121,
      "outputs": []
    },
    {
      "cell_type": "code",
      "metadata": {
        "id": "qHWifbXLAb0t"
      },
      "source": [
        "history = model.fit([x_train,x_train],\r\n",
        "                                    y_train,\r\n",
        "                                    batch_size=128,\r\n",
        "                                    epochs=10,\r\n",
        "                                    validation_split=0.15,\r\n",
        "                                    verbose=True,\r\n",
        "                                    shuffle=True,\r\n",
        "                                    callbacks = callbacks)"
      ],
      "execution_count": null,
      "outputs": []
    },
    {
      "cell_type": "code",
      "metadata": {
        "id": "blPl5X7pAggl"
      },
      "source": [
        "pd.DataFrame(history.history).plot()"
      ],
      "execution_count": null,
      "outputs": []
    }
  ]
}